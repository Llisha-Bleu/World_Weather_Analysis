{
 "cells": [
  {
   "cell_type": "code",
   "execution_count": 1,
   "metadata": {},
   "outputs": [],
   "source": [
    "# Import the random module.\n",
    "import random\n",
    "\n",
    "# Import the NumPy module.\n",
    "import numpy as np\n",
    "\n",
    "# Import timeit.\n",
    "import timeit\n",
    "\n",
    "# Import the dependencies.\n",
    "import pandas as pd\n",
    "import matplotlib.pyplot as plt"
   ]
  },
  {
   "cell_type": "code",
   "execution_count": 2,
   "metadata": {
    "scrolled": true
   },
   "outputs": [
    {
     "data": {
      "text/plain": [
       "55"
      ]
     },
     "execution_count": 2,
     "metadata": {},
     "output_type": "execute_result"
    }
   ],
   "source": [
    "random.randint(-90, 90)"
   ]
  },
  {
   "cell_type": "code",
   "execution_count": 3,
   "metadata": {},
   "outputs": [
    {
     "data": {
      "text/plain": [
       "0.10208529635117203"
      ]
     },
     "execution_count": 3,
     "metadata": {},
     "output_type": "execute_result"
    }
   ],
   "source": [
    "random.random()"
   ]
  },
  {
   "cell_type": "code",
   "execution_count": 4,
   "metadata": {},
   "outputs": [
    {
     "data": {
      "text/plain": [
       "74.50220991303394"
      ]
     },
     "execution_count": 4,
     "metadata": {},
     "output_type": "execute_result"
    }
   ],
   "source": [
    "random_number = random.randint(-90, 89) + random.random()\n",
    "random_number"
   ]
  },
  {
   "cell_type": "code",
   "execution_count": 5,
   "metadata": {},
   "outputs": [],
   "source": [
    "x = 1\n",
    "latitudes = []\n",
    "while x < 11:\n",
    "    random_lat = random.randint(-90, 89) + random.random()\n",
    "    latitudes.append(random_lat)\n",
    "    x += 1"
   ]
  },
  {
   "cell_type": "code",
   "execution_count": 6,
   "metadata": {},
   "outputs": [
    {
     "data": {
      "text/plain": [
       "[-22.724699116320124,\n",
       " -0.7939814709599504,\n",
       " -37.20841162280208,\n",
       " 34.89479311765116,\n",
       " -31.205922638462322,\n",
       " -86.92148779414549,\n",
       " 84.69726780677335,\n",
       " 14.198934671291084,\n",
       " -23.553439106658892,\n",
       " -9.557605903747584]"
      ]
     },
     "execution_count": 6,
     "metadata": {},
     "output_type": "execute_result"
    }
   ],
   "source": [
    "latitudes"
   ]
  },
  {
   "cell_type": "code",
   "execution_count": 7,
   "metadata": {},
   "outputs": [
    {
     "data": {
      "text/plain": [
       "-21"
      ]
     },
     "execution_count": 7,
     "metadata": {},
     "output_type": "execute_result"
    }
   ],
   "source": [
    "random.randrange(-90, 90, step=1)"
   ]
  },
  {
   "cell_type": "code",
   "execution_count": 8,
   "metadata": {},
   "outputs": [
    {
     "data": {
      "text/plain": [
       "-63"
      ]
     },
     "execution_count": 8,
     "metadata": {},
     "output_type": "execute_result"
    }
   ],
   "source": [
    "random.randrange(-90, 90, step=3)"
   ]
  },
  {
   "cell_type": "raw",
   "metadata": {},
   "source": [
    "random.uniform(-90, 90)"
   ]
  },
  {
   "cell_type": "code",
   "execution_count": 9,
   "metadata": {},
   "outputs": [
    {
     "data": {
      "text/plain": [
       "-61.472650759486456"
      ]
     },
     "execution_count": 9,
     "metadata": {},
     "output_type": "execute_result"
    }
   ],
   "source": [
    "np.random.uniform(-90.000, 90.000)"
   ]
  },
  {
   "cell_type": "code",
   "execution_count": 10,
   "metadata": {},
   "outputs": [
    {
     "data": {
      "text/plain": [
       "array([ 48.67953934,   1.1283631 , -24.95848942,   6.12511991,\n",
       "        81.81543203, -27.84446544,  88.28643752, -50.3657393 ,\n",
       "        47.77495294, -73.2981049 ,  24.54882135,   1.42090793,\n",
       "        87.17774517,  73.67312703, -76.9882252 , -56.78843415,\n",
       "         3.35975465, -44.32677694,  13.10824114, -14.28307889,\n",
       "        64.04281183, -78.35813337,  28.7713055 , -44.78581348,\n",
       "         7.003128  ,  76.82683656,  86.08178471, -15.14838129,\n",
       "       -64.33224614, -73.73150059,  89.90375923,  65.5900081 ,\n",
       "        74.95180137,   8.54856941,  11.05916966, -57.40319433,\n",
       "       -77.30586905,   4.02897869, -73.22288058,  82.48750793,\n",
       "        63.94572   ,   2.49995782,  84.11592931,  82.2762653 ,\n",
       "        80.87100032,  43.26647976,  54.83693275,  37.34399811,\n",
       "       -86.04573255,  -8.0086987 ])"
      ]
     },
     "execution_count": 10,
     "metadata": {},
     "output_type": "execute_result"
    }
   ],
   "source": [
    "np.random.uniform(-90.000, 90.000, size=50)"
   ]
  },
  {
   "cell_type": "code",
   "execution_count": 11,
   "metadata": {},
   "outputs": [
    {
     "name": "stdout",
     "output_type": "stream",
     "text": [
      "13.3 µs ± 273 ns per loop (mean ± std. dev. of 7 runs, 100000 loops each)\n"
     ]
    }
   ],
   "source": [
    "%timeit np.random.uniform(-90.000, 90.000, size=1500)"
   ]
  },
  {
   "cell_type": "code",
   "execution_count": 12,
   "metadata": {},
   "outputs": [
    {
     "name": "stdout",
     "output_type": "stream",
     "text": [
      "1.63 ms ± 32.5 µs per loop (mean ± std. dev. of 7 runs, 1000 loops each)\n"
     ]
    }
   ],
   "source": [
    "def latitudes(size):\n",
    "    latitudes = []\n",
    "    x = 0\n",
    "    while x < (size):\n",
    "        random_lat = random.randint(-90, 90) + random.random()\n",
    "        latitudes.append(random_lat)\n",
    "        x += 1\n",
    "    return latitudes\n",
    "# Call the function with 1500.\n",
    "%timeit latitudes(1500)"
   ]
  },
  {
   "cell_type": "code",
   "execution_count": 13,
   "metadata": {},
   "outputs": [
    {
     "data": {
      "text/plain": [
       "<zip at 0x1dacd01f808>"
      ]
     },
     "execution_count": 13,
     "metadata": {},
     "output_type": "execute_result"
    }
   ],
   "source": [
    "# Create a set of random latitude and longitude combinations.\n",
    "lats = np.random.uniform(low=-90.000, high=90.000, size=1500)\n",
    "lngs = np.random.uniform(low=-180.000, high=180.000, size=1500)\n",
    "lat_lngs = zip(lats, lngs)\n",
    "lat_lngs"
   ]
  },
  {
   "cell_type": "code",
   "execution_count": 14,
   "metadata": {},
   "outputs": [],
   "source": [
    "# Create a practice set of random latitude and longitude combinations.\n",
    "x = [25.12903645, 25.92017388, 26.62509167, -59.98969384, 37.30571269]\n",
    "y = [-67.59741259, 11.09532135, 74.84233102, -76.89176677, -61.13376282]\n",
    "coordinates = zip(x, y)"
   ]
  },
  {
   "cell_type": "code",
   "execution_count": 15,
   "metadata": {},
   "outputs": [
    {
     "name": "stdout",
     "output_type": "stream",
     "text": [
      "25.12903645 -67.59741259\n",
      "25.92017388 11.09532135\n",
      "26.62509167 74.84233102\n",
      "-59.98969384 -76.89176677\n",
      "37.30571269 -61.13376282\n"
     ]
    }
   ],
   "source": [
    "# Use the tuple() function to display the latitude and longitude combinations.\n",
    "for coordinate in coordinates:\n",
    "    print(coordinate[0], coordinate[1])"
   ]
  },
  {
   "cell_type": "code",
   "execution_count": 16,
   "metadata": {},
   "outputs": [],
   "source": [
    "# Add the latitudes and longitudes to a list.\n",
    "coordinates = list(lat_lngs)"
   ]
  },
  {
   "cell_type": "code",
   "execution_count": 17,
   "metadata": {},
   "outputs": [],
   "source": [
    "# Use the citipy module to determine city based on latitude and longitude.\n",
    "from citipy import citipy"
   ]
  },
  {
   "cell_type": "code",
   "execution_count": 18,
   "metadata": {},
   "outputs": [
    {
     "data": {
      "text/plain": [
       "606"
      ]
     },
     "execution_count": 18,
     "metadata": {},
     "output_type": "execute_result"
    }
   ],
   "source": [
    "# Create a list for holding the cities.\n",
    "cities = []\n",
    "# Identify the nearest city for each latitude and longitude combination.\n",
    "for coordinate in coordinates:\n",
    "    city = citipy.nearest_city(coordinate[0], coordinate[1]).city_name\n",
    "\n",
    "    # If the city is unique, then we will add it to the cities list.\n",
    "    if city not in cities:\n",
    "        cities.append(city)\n",
    "# Print the city count to confirm sufficient count.\n",
    "len(cities)"
   ]
  },
  {
   "cell_type": "code",
   "execution_count": 19,
   "metadata": {},
   "outputs": [],
   "source": [
    "# Import the requests library.\n",
    "import requests\n",
    "\n",
    "# Import the API key.\n",
    "from config import weather_api_key"
   ]
  },
  {
   "cell_type": "code",
   "execution_count": 20,
   "metadata": {},
   "outputs": [
    {
     "name": "stdout",
     "output_type": "stream",
     "text": [
      "http://api.openweathermap.org/data/2.5/weather?units=Imperial&APPID=9e575b65f80f7c3b85f9d61d0d3852f3\n"
     ]
    }
   ],
   "source": [
    "# Starting URL for Weather Map API Call.\n",
    "url = \"http://api.openweathermap.org/data/2.5/weather?units=Imperial&APPID=\" + weather_api_key\n",
    "print(url)"
   ]
  },
  {
   "cell_type": "code",
   "execution_count": 21,
   "metadata": {},
   "outputs": [
    {
     "name": "stdout",
     "output_type": "stream",
     "text": [
      "http://api.openweathermap.org/data/2.5/weather?units=Imperial&APPID=9e575b65f80f7c3b85f9d61d0d3852f3&q=Boston\n"
     ]
    }
   ],
   "source": [
    "# Create an endpoint URL for a city.\n",
    "city_url = url + \"&q=\" + \"Boston\"\n",
    "print(city_url)"
   ]
  },
  {
   "cell_type": "code",
   "execution_count": 22,
   "metadata": {},
   "outputs": [
    {
     "data": {
      "text/plain": [
       "<Response [200]>"
      ]
     },
     "execution_count": 22,
     "metadata": {},
     "output_type": "execute_result"
    }
   ],
   "source": [
    "# Make a 'Get' request for the city weather.\n",
    "city_weather = requests.get(city_url)\n",
    "city_weather"
   ]
  },
  {
   "cell_type": "code",
   "execution_count": 23,
   "metadata": {},
   "outputs": [
    {
     "data": {
      "text/plain": [
       "<Response [404]>"
      ]
     },
     "execution_count": 23,
     "metadata": {},
     "output_type": "execute_result"
    }
   ],
   "source": [
    "# Create an endpoint URL for a city.\n",
    "city_url = url + \"&q=\" + \"Bston\"\n",
    "city_weather = requests.get(city_url)\n",
    "city_weather"
   ]
  },
  {
   "cell_type": "code",
   "execution_count": 24,
   "metadata": {},
   "outputs": [
    {
     "data": {
      "text/plain": [
       "<Response [200]>"
      ]
     },
     "execution_count": 24,
     "metadata": {},
     "output_type": "execute_result"
    }
   ],
   "source": [
    "# Create an endpoint URL for a city.\n",
    "city_url = url + \"&q=\" + \"Boston\"\n",
    "city_weather = requests.get(city_url)\n",
    "city_weather"
   ]
  },
  {
   "cell_type": "code",
   "execution_count": 25,
   "metadata": {},
   "outputs": [
    {
     "data": {
      "text/plain": [
       "'{\"coord\":{\"lon\":-71.06,\"lat\":42.36},\"weather\":[{\"id\":804,\"main\":\"Clouds\",\"description\":\"overcast clouds\",\"icon\":\"04n\"}],\"base\":\"stations\",\"main\":{\"temp\":77.29,\"feels_like\":79.38,\"temp_min\":75,\"temp_max\":79,\"pressure\":1013,\"humidity\":83},\"visibility\":10000,\"wind\":{\"speed\":11.41,\"deg\":170},\"clouds\":{\"all\":90},\"dt\":1596416543,\"sys\":{\"type\":1,\"id\":3486,\"country\":\"US\",\"sunrise\":1596361095,\"sunset\":1596412955},\"timezone\":-14400,\"id\":4930956,\"name\":\"Boston\",\"cod\":200}'"
      ]
     },
     "execution_count": 25,
     "metadata": {},
     "output_type": "execute_result"
    }
   ],
   "source": [
    "# Get the text of the 'Get' request.\n",
    "city_weather.text"
   ]
  },
  {
   "cell_type": "code",
   "execution_count": 26,
   "metadata": {},
   "outputs": [
    {
     "data": {
      "text/plain": [
       "{'coord': {'lon': -71.06, 'lat': 42.36},\n",
       " 'weather': [{'id': 804,\n",
       "   'main': 'Clouds',\n",
       "   'description': 'overcast clouds',\n",
       "   'icon': '04n'}],\n",
       " 'base': 'stations',\n",
       " 'main': {'temp': 77.29,\n",
       "  'feels_like': 79.38,\n",
       "  'temp_min': 75,\n",
       "  'temp_max': 79,\n",
       "  'pressure': 1013,\n",
       "  'humidity': 83},\n",
       " 'visibility': 10000,\n",
       " 'wind': {'speed': 11.41, 'deg': 170},\n",
       " 'clouds': {'all': 90},\n",
       " 'dt': 1596416543,\n",
       " 'sys': {'type': 1,\n",
       "  'id': 3486,\n",
       "  'country': 'US',\n",
       "  'sunrise': 1596361095,\n",
       "  'sunset': 1596412955},\n",
       " 'timezone': -14400,\n",
       " 'id': 4930956,\n",
       " 'name': 'Boston',\n",
       " 'cod': 200}"
      ]
     },
     "execution_count": 26,
     "metadata": {},
     "output_type": "execute_result"
    }
   ],
   "source": [
    "# Get the JSON text of the 'Get' request.\n",
    "city_weather.json()"
   ]
  },
  {
   "cell_type": "code",
   "execution_count": 27,
   "metadata": {},
   "outputs": [
    {
     "name": "stdout",
     "output_type": "stream",
     "text": [
      "City Weather found.\n"
     ]
    }
   ],
   "source": [
    "# Create an endpoint URL for a city.\n",
    "city_url = url + \"&q=\" + \"Boston\"\n",
    "city_weather = requests.get(city_url)\n",
    "if city_weather.status_code == 200:\n",
    "    print(f\"City Weather found.\")\n",
    "else:\n",
    "    print(f\"City weather not found.\")"
   ]
  },
  {
   "cell_type": "code",
   "execution_count": 28,
   "metadata": {},
   "outputs": [
    {
     "name": "stdout",
     "output_type": "stream",
     "text": [
      "City Weather found.\n"
     ]
    }
   ],
   "source": [
    "# Create an endpoint URL for a city.\n",
    "city_url = url + \"&q=\" + \"Bston\"\n",
    "city_weather = requests.get(city_url)\n",
    "if city_weather.json():\n",
    "    print(f\"City Weather found.\")\n",
    "else:\n",
    "    print(f\"City weather not found.\")"
   ]
  },
  {
   "cell_type": "code",
   "execution_count": 29,
   "metadata": {},
   "outputs": [
    {
     "data": {
      "text/plain": [
       "{'coord': {'lon': -71.06, 'lat': 42.36},\n",
       " 'weather': [{'id': 804,\n",
       "   'main': 'Clouds',\n",
       "   'description': 'overcast clouds',\n",
       "   'icon': '04n'}],\n",
       " 'base': 'stations',\n",
       " 'main': {'temp': 77.29,\n",
       "  'feels_like': 79.38,\n",
       "  'temp_min': 75,\n",
       "  'temp_max': 79,\n",
       "  'pressure': 1013,\n",
       "  'humidity': 83},\n",
       " 'visibility': 10000,\n",
       " 'wind': {'speed': 11.41, 'deg': 170},\n",
       " 'clouds': {'all': 90},\n",
       " 'dt': 1596416543,\n",
       " 'sys': {'type': 1,\n",
       "  'id': 3486,\n",
       "  'country': 'US',\n",
       "  'sunrise': 1596361095,\n",
       "  'sunset': 1596412955},\n",
       " 'timezone': -14400,\n",
       " 'id': 4930956,\n",
       " 'name': 'Boston',\n",
       " 'cod': 200}"
      ]
     },
     "execution_count": 29,
     "metadata": {},
     "output_type": "execute_result"
    }
   ],
   "source": [
    "# Create an endpoint URL for a city.\n",
    "city_url = url + \"&q=\" + \"Boston\"\n",
    "city_weather = requests.get(city_url)\n",
    "city_weather.json()"
   ]
  },
  {
   "cell_type": "code",
   "execution_count": 30,
   "metadata": {},
   "outputs": [],
   "source": [
    "# Get the JSON data.\n",
    "boston_data = city_weather.json()"
   ]
  },
  {
   "cell_type": "code",
   "execution_count": 31,
   "metadata": {},
   "outputs": [
    {
     "data": {
      "text/plain": [
       "{'type': 1,\n",
       " 'id': 3486,\n",
       " 'country': 'US',\n",
       " 'sunrise': 1596361095,\n",
       " 'sunset': 1596412955}"
      ]
     },
     "execution_count": 31,
     "metadata": {},
     "output_type": "execute_result"
    }
   ],
   "source": [
    "boston_data[\"sys\"]"
   ]
  },
  {
   "cell_type": "code",
   "execution_count": 32,
   "metadata": {},
   "outputs": [
    {
     "data": {
      "text/plain": [
       "'US'"
      ]
     },
     "execution_count": 32,
     "metadata": {},
     "output_type": "execute_result"
    }
   ],
   "source": [
    "boston_data[\"sys\"][\"country\"]"
   ]
  },
  {
   "cell_type": "code",
   "execution_count": 33,
   "metadata": {},
   "outputs": [
    {
     "data": {
      "text/plain": [
       "({'coord': {'lon': -71.06, 'lat': 42.36},\n",
       "  'weather': [{'id': 804,\n",
       "    'main': 'Clouds',\n",
       "    'description': 'overcast clouds',\n",
       "    'icon': '04n'}],\n",
       "  'base': 'stations',\n",
       "  'main': {'temp': 77.29,\n",
       "   'feels_like': 79.38,\n",
       "   'temp_min': 75,\n",
       "   'temp_max': 79,\n",
       "   'pressure': 1013,\n",
       "   'humidity': 83},\n",
       "  'visibility': 10000,\n",
       "  'wind': {'speed': 11.41, 'deg': 170},\n",
       "  'clouds': {'all': 90},\n",
       "  'dt': 1596416543,\n",
       "  'sys': {'type': 1,\n",
       "   'id': 3486,\n",
       "   'country': 'US',\n",
       "   'sunrise': 1596361095,\n",
       "   'sunset': 1596412955},\n",
       "  'timezone': -14400,\n",
       "  'id': 4930956,\n",
       "  'name': 'Boston',\n",
       "  'cod': 200},\n",
       " ['dt'])"
      ]
     },
     "execution_count": 33,
     "metadata": {},
     "output_type": "execute_result"
    }
   ],
   "source": [
    "boston_data,[\"dt\"]"
   ]
  },
  {
   "cell_type": "code",
   "execution_count": 34,
   "metadata": {},
   "outputs": [
    {
     "name": "stdout",
     "output_type": "stream",
     "text": [
      "42.36 -71.06 79 83 90 11.41\n"
     ]
    }
   ],
   "source": [
    "lat = boston_data[\"coord\"][\"lat\"]\n",
    "lng = boston_data[\"coord\"][\"lon\"]\n",
    "max_temp = boston_data[\"main\"][\"temp_max\"]\n",
    "humidity = boston_data[\"main\"][\"humidity\"]\n",
    "clouds = boston_data[\"clouds\"][\"all\"]\n",
    "wind = boston_data[\"wind\"][\"speed\"]\n",
    "print(lat, lng, max_temp, humidity, clouds, wind)"
   ]
  },
  {
   "cell_type": "code",
   "execution_count": 35,
   "metadata": {},
   "outputs": [
    {
     "data": {
      "text/plain": [
       "({'coord': {'lon': -71.06, 'lat': 42.36},\n",
       "  'weather': [{'id': 804,\n",
       "    'main': 'Clouds',\n",
       "    'description': 'overcast clouds',\n",
       "    'icon': '04n'}],\n",
       "  'base': 'stations',\n",
       "  'main': {'temp': 77.29,\n",
       "   'feels_like': 79.38,\n",
       "   'temp_min': 75,\n",
       "   'temp_max': 79,\n",
       "   'pressure': 1013,\n",
       "   'humidity': 83},\n",
       "  'visibility': 10000,\n",
       "  'wind': {'speed': 11.41, 'deg': 170},\n",
       "  'clouds': {'all': 90},\n",
       "  'dt': 1596416543,\n",
       "  'sys': {'type': 1,\n",
       "   'id': 3486,\n",
       "   'country': 'US',\n",
       "   'sunrise': 1596361095,\n",
       "   'sunset': 1596412955},\n",
       "  'timezone': -14400,\n",
       "  'id': 4930956,\n",
       "  'name': 'Boston',\n",
       "  'cod': 200},\n",
       " ['dt'])"
      ]
     },
     "execution_count": 35,
     "metadata": {},
     "output_type": "execute_result"
    }
   ],
   "source": [
    "boston_data,[\"dt\"]"
   ]
  },
  {
   "cell_type": "code",
   "execution_count": 36,
   "metadata": {},
   "outputs": [
    {
     "data": {
      "text/plain": [
       "datetime.datetime(2020, 8, 3, 1, 2, 23)"
      ]
     },
     "execution_count": 36,
     "metadata": {},
     "output_type": "execute_result"
    }
   ],
   "source": [
    "# Import the datetime module from the datetime library.\n",
    "from datetime import datetime\n",
    "# Get the date from the JSON file.\n",
    "date = boston_data[\"dt\"]\n",
    "# Convert the UTC date to a date format with year, month, day, hours, minutes, and seconds.\n",
    "datetime.utcfromtimestamp(date)"
   ]
  },
  {
   "cell_type": "code",
   "execution_count": 37,
   "metadata": {},
   "outputs": [],
   "source": [
    "# Import the datetime module from the datetime library.\n",
    "from datetime import datetime"
   ]
  },
  {
   "cell_type": "code",
   "execution_count": 38,
   "metadata": {},
   "outputs": [],
   "source": [
    "# # Loop through all the cities in our list.\n",
    "# for i in range(len(cities)):\n",
    "\n",
    "#     # Group cities in sets of 50 for logging purposes.\n",
    "#     if (i % 50 == 0 and i >= 50):\n",
    "#         set_count += 1\n",
    "#         record_count = 1\n",
    "#     # Create endpoint URL with each city.\n",
    "#     city_url = url + \"&q=\" + \"i\""
   ]
  },
  {
   "cell_type": "code",
   "execution_count": 39,
   "metadata": {},
   "outputs": [
    {
     "name": "stdout",
     "output_type": "stream",
     "text": [
      "Beginning Data Retrieval     \n",
      "-----------------------------\n",
      "Processing Record 1 of Set 1 | dunedin\n",
      "Processing Record 2 of Set 1 | price\n",
      "Processing Record 3 of Set 1 | busselton\n",
      "Processing Record 4 of Set 1 | warqla\n",
      "Processing Record 5 of Set 1 | jumla\n",
      "Processing Record 6 of Set 1 | pevek\n",
      "Processing Record 7 of Set 1 | ushuaia\n",
      "Processing Record 8 of Set 1 | mys shmidta\n",
      "Processing Record 9 of Set 1 | avarua\n",
      "Processing Record 10 of Set 1 | yellowknife\n",
      "Processing Record 11 of Set 1 | victoria\n",
      "Processing Record 12 of Set 1 | iqaluit\n",
      "Processing Record 13 of Set 1 | bredasdorp\n",
      "Processing Record 14 of Set 1 | talcahuano\n",
      "Processing Record 15 of Set 1 | magadan\n",
      "Processing Record 16 of Set 1 | kayerkan\n",
      "Processing Record 17 of Set 1 | kisangani\n",
      "Processing Record 18 of Set 1 | bluff\n",
      "Processing Record 19 of Set 1 | manaure\n",
      "Processing Record 20 of Set 1 | srednekolymsk\n",
      "Processing Record 21 of Set 1 | port alfred\n",
      "Processing Record 22 of Set 1 | avera\n",
      "Processing Record 23 of Set 1 | karratha\n",
      "Processing Record 24 of Set 1 | te anau\n",
      "Processing Record 25 of Set 1 | tasiilaq\n",
      "Processing Record 26 of Set 1 | nago\n",
      "Processing Record 27 of Set 1 | hemet\n",
      "Processing Record 28 of Set 1 | mataura\n",
      "Processing Record 29 of Set 1 | castro\n",
      "Processing Record 30 of Set 1 | ulety\n",
      "Processing Record 31 of Set 1 | pochutla\n",
      "Processing Record 32 of Set 1 | albany\n",
      "Processing Record 33 of Set 1 | kem\n",
      "Processing Record 34 of Set 1 | wasilla\n",
      "Processing Record 35 of Set 1 | camacha\n",
      "Processing Record 36 of Set 1 | labuhan\n",
      "Processing Record 37 of Set 1 | katsuura\n",
      "Processing Record 38 of Set 1 | tanete\n",
      "Processing Record 39 of Set 1 | nanortalik\n",
      "Processing Record 40 of Set 1 | methoni\n",
      "Processing Record 41 of Set 1 | puerto ayora\n",
      "Processing Record 42 of Set 1 | yulin\n",
      "Processing Record 43 of Set 1 | nizhneyansk\n",
      "Processing Record 44 of Set 1 | langxiang\n",
      "Processing Record 45 of Set 1 | mortka\n",
      "Processing Record 46 of Set 1 | praia da vitoria\n",
      "Processing Record 47 of Set 1 | benguela\n",
      "Processing Record 48 of Set 1 | hobart\n",
      "Processing Record 49 of Set 1 | atuona\n",
      "Processing Record 50 of Set 1 | port lincoln\n",
      "Processing Record 1 of Set 2 | aquiraz\n",
      "Processing Record 2 of Set 2 | tuatapere\n",
      "Processing Record 3 of Set 2 | porto belo\n",
      "Processing Record 4 of Set 2 | hermanus\n",
      "Processing Record 5 of Set 2 | pendleton\n",
      "Processing Record 6 of Set 2 | gravdal\n",
      "Processing Record 7 of Set 2 | zhangjiakou\n",
      "Processing Record 8 of Set 2 | grindavik\n",
      "Processing Record 9 of Set 2 | unye\n",
      "Processing Record 10 of Set 2 | cape town\n",
      "Processing Record 11 of Set 2 | bambanglipuro\n",
      "Processing Record 12 of Set 2 | chuy\n",
      "Processing Record 13 of Set 2 | ribeira grande\n",
      "Processing Record 14 of Set 2 | tiksi\n",
      "Processing Record 15 of Set 2 | hornepayne\n",
      "Processing Record 16 of Set 2 | amderma\n",
      "Processing Record 17 of Set 2 | provideniya\n",
      "Processing Record 18 of Set 2 | georgetown\n",
      "Processing Record 19 of Set 2 | punta arenas\n",
      "Processing Record 20 of Set 2 | san jose\n",
      "Processing Record 21 of Set 2 | sitka\n",
      "Processing Record 22 of Set 2 | konevo\n",
      "Processing Record 23 of Set 2 | new norfolk\n",
      "Processing Record 24 of Set 2 | saint-philippe\n",
      "Processing Record 25 of Set 2 | ijui\n",
      "Processing Record 26 of Set 2 | attawapiskat\n",
      "Processing Record 27 of Set 2 | esperance\n",
      "Processing Record 28 of Set 2 | sharjah\n",
      "Processing Record 29 of Set 2 | trikerion\n",
      "Processing Record 30 of Set 2 | arraial do cabo\n",
      "Processing Record 31 of Set 2 | talnakh\n",
      "Processing Record 32 of Set 2 | jamestown\n",
      "Processing Record 33 of Set 2 | moron\n",
      "Processing Record 34 of Set 2 | jinji\n",
      "Processing Record 35 of Set 2 | saint-pierre\n",
      "Processing Record 36 of Set 2 | pingliang\n",
      "Processing Record 37 of Set 2 | nome\n",
      "Processing Record 38 of Set 2 | los llanos de aridane\n",
      "Processing Record 39 of Set 2 | palmer\n",
      "Processing Record 40 of Set 2 | norman wells\n",
      "Processing Record 41 of Set 2 | nantucket\n",
      "Processing Record 42 of Set 2 | mount gambier\n",
      "Processing Record 43 of Set 2 | cancun\n",
      "Processing Record 44 of Set 2 | lazaro cardenas\n",
      "Processing Record 45 of Set 2 | rikitea\n",
      "Processing Record 46 of Set 2 | tocopilla\n",
      "Processing Record 47 of Set 2 | ust-ilimsk\n",
      "Processing Record 48 of Set 2 | thompson\n",
      "Processing Record 49 of Set 2 | barentsburg\n",
      "Processing Record 50 of Set 2 | ponta do sol\n",
      "Processing Record 1 of Set 3 | kruisfontein\n",
      "Processing Record 2 of Set 3 | boddam\n",
      "Processing Record 3 of Set 3 | illoqqortoormiut\n",
      "Processing Record 4 of Set 3 | charlestown\n",
      "Processing Record 5 of Set 3 | husavik\n",
      "Processing Record 6 of Set 3 | vardo\n",
      "Processing Record 7 of Set 3 | ulladulla\n",
      "Processing Record 8 of Set 3 | qaanaaq\n",
      "Processing Record 9 of Set 3 | sentyabrskiy\n",
      "Processing Record 10 of Set 3 | vaini\n",
      "Processing Record 11 of Set 3 | homa bay\n",
      "Processing Record 12 of Set 3 | faanui\n",
      "Processing Record 13 of Set 3 | mar del plata\n",
      "Processing Record 14 of Set 3 | barrow\n",
      "Processing Record 15 of Set 3 | belushya guba\n",
      "Processing Record 16 of Set 3 | lavrentiya\n",
      "Processing Record 17 of Set 3 | sao filipe\n",
      "Processing Record 18 of Set 3 | akureyri\n",
      "Processing Record 19 of Set 3 | san rafael\n",
      "Processing Record 20 of Set 3 | adrar\n",
      "Processing Record 21 of Set 3 | kudahuvadhoo\n",
      "Processing Record 22 of Set 3 | taksimo\n",
      "Processing Record 23 of Set 3 | palabuhanratu\n",
      "Processing Record 24 of Set 3 | businga\n",
      "Processing Record 25 of Set 3 | sur\n",
      "Processing Record 26 of Set 3 | ahualulco\n",
      "Processing Record 27 of Set 3 | cabo san lucas\n",
      "Processing Record 28 of Set 3 | puerto del rosario\n",
      "Processing Record 29 of Set 3 | chokurdakh\n",
      "Processing Record 30 of Set 3 | viligili\n",
      "Processing Record 31 of Set 3 | clyde river\n",
      "Processing Record 32 of Set 3 | batagay-alyta\n",
      "Processing Record 33 of Set 3 | cherskiy\n",
      "Processing Record 34 of Set 3 | vila franca do campo\n",
      "Processing Record 35 of Set 3 | cockburn town\n",
      "Processing Record 36 of Set 3 | zhigansk\n",
      "Processing Record 37 of Set 3 | taolanaro\n",
      "Processing Record 38 of Set 3 | yirol\n",
      "Processing Record 39 of Set 3 | ternate\n",
      "Processing Record 40 of Set 3 | hilo\n",
      "Processing Record 41 of Set 3 | sinnamary\n",
      "Processing Record 42 of Set 3 | klaksvik\n",
      "Processing Record 43 of Set 3 | saskylakh\n",
      "Processing Record 44 of Set 3 | lompoc\n",
      "Processing Record 45 of Set 3 | mwinilunga\n",
      "Processing Record 46 of Set 3 | ancud\n",
      "Processing Record 47 of Set 3 | kutum\n",
      "Processing Record 48 of Set 3 | kapaa\n",
      "Processing Record 49 of Set 3 | tucumcari\n",
      "Processing Record 50 of Set 3 | san jeronimo\n",
      "Processing Record 1 of Set 4 | vostok\n",
      "Processing Record 2 of Set 4 | port hardy\n",
      "Processing Record 3 of Set 4 | vernon\n",
      "Processing Record 4 of Set 4 | porto novo\n",
      "Processing Record 5 of Set 4 | kodiak\n",
      "Processing Record 6 of Set 4 | blagoyevo\n",
      "Processing Record 7 of Set 4 | saquena\n",
      "Processing Record 8 of Set 4 | saldanha\n",
      "Processing Record 9 of Set 4 | shingu\n",
      "Processing Record 10 of Set 4 | atlantic city\n",
      "Processing Record 11 of Set 4 | auki\n",
      "Processing Record 12 of Set 4 | san patricio\n",
      "Processing Record 13 of Set 4 | kaitangata\n",
      "Processing Record 14 of Set 4 | tazovskiy\n",
      "Processing Record 15 of Set 4 | east london\n",
      "Processing Record 16 of Set 4 | tambopata\n",
      "Processing Record 17 of Set 4 | lianzhou\n",
      "Processing Record 18 of Set 4 | flin flon\n",
      "Processing Record 19 of Set 4 | taburi\n",
      "Processing Record 20 of Set 4 | makasar\n",
      "Processing Record 21 of Set 4 | filingue\n",
      "Processing Record 22 of Set 4 | khatanga\n",
      "Processing Record 23 of Set 4 | airai\n",
      "Processing Record 24 of Set 4 | gat\n",
      "Processing Record 25 of Set 4 | erbaa\n",
      "Processing Record 26 of Set 4 | hithadhoo\n",
      "Processing Record 27 of Set 4 | podor\n",
      "Processing Record 28 of Set 4 | point pedro\n",
      "Processing Record 29 of Set 4 | we\n",
      "Processing Record 30 of Set 4 | leningradskiy\n",
      "Processing Record 31 of Set 4 | rodrigues alves\n",
      "Processing Record 32 of Set 4 | poum\n",
      "Processing Record 33 of Set 4 | kalangala\n",
      "Processing Record 34 of Set 4 | asyut\n",
      "Processing Record 35 of Set 4 | grass valley\n",
      "Processing Record 36 of Set 4 | buraydah\n",
      "Processing Record 37 of Set 4 | skjervoy\n",
      "Processing Record 38 of Set 4 | broken hill\n",
      "Processing Record 39 of Set 4 | mahebourg\n",
      "Processing Record 40 of Set 4 | shumskiy\n",
      "Processing Record 41 of Set 4 | dingle\n",
      "Processing Record 42 of Set 4 | bandarbeyla\n",
      "Processing Record 43 of Set 4 | kieta\n",
      "Processing Record 44 of Set 4 | la ronge\n",
      "Processing Record 45 of Set 4 | kloulklubed\n",
      "Processing Record 46 of Set 4 | payo\n",
      "Processing Record 47 of Set 4 | kenai\n",
      "Processing Record 48 of Set 4 | zyryanka\n",
      "Processing Record 49 of Set 4 | ziro\n",
      "Processing Record 50 of Set 4 | zhezkazgan\n",
      "Processing Record 1 of Set 5 | tessalit\n",
      "Processing Record 2 of Set 5 | severo-kurilsk\n",
      "Processing Record 3 of Set 5 | billings\n",
      "Processing Record 4 of Set 5 | sinor\n",
      "Processing Record 5 of Set 5 | vaitape\n",
      "Processing Record 6 of Set 5 | kavaratti\n",
      "Processing Record 7 of Set 5 | tuktoyaktuk\n",
      "Processing Record 8 of Set 5 | orem\n",
      "Processing Record 9 of Set 5 | narsaq\n",
      "Processing Record 10 of Set 5 | atherton\n",
      "Processing Record 11 of Set 5 | mount isa\n",
      "Processing Record 12 of Set 5 | butaritari\n",
      "Processing Record 13 of Set 5 | diamantino\n",
      "Processing Record 14 of Set 5 | salinopolis\n",
      "Processing Record 15 of Set 5 | port hedland\n",
      "Processing Record 16 of Set 5 | buala\n",
      "Processing Record 17 of Set 5 | phan thiet\n",
      "Processing Record 18 of Set 5 | makakilo city\n",
      "Processing Record 19 of Set 5 | grand river south east\n",
      "Processing Record 20 of Set 5 | kirksville\n",
      "Processing Record 21 of Set 5 | sedona\n",
      "Processing Record 22 of Set 5 | oranjemund\n",
      "Processing Record 23 of Set 5 | burkhala\n",
      "Processing Record 24 of Set 5 | naze\n",
      "Processing Record 25 of Set 5 | ostrovnoy\n",
      "Processing Record 26 of Set 5 | havoysund\n",
      "Processing Record 27 of Set 5 | dikson\n",
      "Processing Record 28 of Set 5 | parana\n",
      "Processing Record 29 of Set 5 | makat\n",
      "Processing Record 30 of Set 5 | paamiut\n",
      "Processing Record 31 of Set 5 | tautira\n",
      "Processing Record 32 of Set 5 | chapada dos guimaraes\n",
      "Processing Record 33 of Set 5 | waipawa\n",
      "Processing Record 34 of Set 5 | kavieng\n",
      "Processing Record 35 of Set 5 | lorengau\n",
      "Processing Record 36 of Set 5 | virginia beach\n",
      "Processing Record 37 of Set 5 | la sarre\n",
      "Processing Record 38 of Set 5 | hamilton\n",
      "Processing Record 39 of Set 5 | lagoa\n",
      "Processing Record 40 of Set 5 | bargal\n",
      "Processing Record 41 of Set 5 | adet\n",
      "Processing Record 42 of Set 5 | sandomierz\n",
      "Processing Record 43 of Set 5 | macamic\n",
      "Processing Record 44 of Set 5 | prince rupert\n",
      "Processing Record 45 of Set 5 | whitehorse\n",
      "Processing Record 46 of Set 5 | bambous virieux\n",
      "Processing Record 47 of Set 5 | gulshat\n",
      "Processing Record 48 of Set 5 | south sioux city\n",
      "Processing Record 49 of Set 5 | fairbanks\n",
      "Processing Record 50 of Set 5 | plettenberg bay\n",
      "Processing Record 1 of Set 6 | keflavik\n",
      "Processing Record 2 of Set 6 | mandalgovi\n",
      "Processing Record 3 of Set 6 | upernavik\n",
      "Processing Record 4 of Set 6 | artyk\n",
      "Processing Record 5 of Set 6 | chabahar\n",
      "Processing Record 6 of Set 6 | korla\n",
      "Processing Record 7 of Set 6 | buta\n",
      "Processing Record 8 of Set 6 | fort saint john\n",
      "Processing Record 9 of Set 6 | carnarvon\n",
      "Processing Record 10 of Set 6 | sandwick\n",
      "Processing Record 11 of Set 6 | ahuimanu\n",
      "Processing Record 12 of Set 6 | cortez\n",
      "Processing Record 13 of Set 6 | banmo\n",
      "Processing Record 14 of Set 6 | westport\n",
      "Processing Record 15 of Set 6 | abapo\n",
      "Processing Record 16 of Set 6 | thinadhoo\n",
      "Processing Record 17 of Set 6 | orlik\n",
      "Processing Record 18 of Set 6 | mangrol\n",
      "Processing Record 19 of Set 6 | tawkar\n",
      "Processing Record 20 of Set 6 | kishi\n",
      "Processing Record 21 of Set 6 | mayo\n",
      "Processing Record 22 of Set 6 | taltal\n",
      "Processing Record 23 of Set 6 | bethel\n",
      "Processing Record 24 of Set 6 | palauig\n",
      "Processing Record 25 of Set 6 | aykhal\n",
      "Processing Record 26 of Set 6 | jakar\n",
      "Processing Record 27 of Set 6 | cairns\n",
      "Processing Record 28 of Set 6 | longyearbyen\n",
      "Processing Record 29 of Set 6 | cidreira\n",
      "Processing Record 30 of Set 6 | pandan\n",
      "Processing Record 31 of Set 6 | merauke\n",
      "Processing Record 32 of Set 6 | lunglei\n",
      "Processing Record 33 of Set 6 | prizren\n",
      "Processing Record 34 of Set 6 | rasra\n",
      "Processing Record 35 of Set 6 | ayagoz\n",
      "Processing Record 36 of Set 6 | lebu\n",
      "Processing Record 37 of Set 6 | kosonsoy\n",
      "Processing Record 38 of Set 6 | bengkulu\n",
      "Processing Record 39 of Set 6 | half moon bay\n",
      "Processing Record 40 of Set 6 | boyolangu\n",
      "Processing Record 41 of Set 6 | matara\n",
      "Processing Record 42 of Set 6 | pangai\n",
      "Processing Record 43 of Set 6 | hofn\n",
      "Processing Record 44 of Set 6 | luderitz\n",
      "Processing Record 45 of Set 6 | marzuq\n",
      "Processing Record 46 of Set 6 | lufilufi\n",
      "Processing Record 47 of Set 6 | haibowan\n",
      "Processing Record 48 of Set 6 | salalah\n",
      "Processing Record 49 of Set 6 | vangaindrano\n",
      "Processing Record 50 of Set 6 | omboue\n",
      "Processing Record 1 of Set 7 | cayenne\n",
      "Processing Record 2 of Set 7 | pachino\n",
      "Processing Record 3 of Set 7 | rojhan\n",
      "Processing Record 4 of Set 7 | hambantota\n",
      "Processing Record 5 of Set 7 | lazarev\n",
      "Processing Record 6 of Set 7 | pathein\n",
      "Processing Record 7 of Set 7 | tiznit\n",
      "Processing Record 8 of Set 7 | seymchan\n",
      "Processing Record 9 of Set 7 | tilichiki\n",
      "Processing Record 10 of Set 7 | zachagansk\n",
      "Processing Record 11 of Set 7 | murgab\n",
      "Processing Record 12 of Set 7 | rundu\n",
      "Processing Record 13 of Set 7 | souillac\n",
      "Processing Record 14 of Set 7 | lata\n",
      "Processing Record 15 of Set 7 | nikolskoye\n",
      "Processing Record 16 of Set 7 | atbasar\n",
      "Processing Record 17 of Set 7 | pisco\n",
      "Processing Record 18 of Set 7 | vestmannaeyjar\n",
      "Processing Record 19 of Set 7 | namibe\n",
      "Processing Record 20 of Set 7 | san quintin\n",
      "Processing Record 21 of Set 7 | guerrero negro\n",
      "Processing Record 22 of Set 7 | laguna\n",
      "Processing Record 23 of Set 7 | faya\n",
      "Processing Record 24 of Set 7 | vila velha\n",
      "Processing Record 25 of Set 7 | rio do sul\n",
      "Processing Record 26 of Set 7 | caborca\n",
      "Processing Record 27 of Set 7 | christchurch\n",
      "Processing Record 28 of Set 7 | prieska\n",
      "Processing Record 29 of Set 7 | kungurtug\n",
      "Processing Record 30 of Set 7 | komsomolskiy\n",
      "Processing Record 31 of Set 7 | zhangye\n",
      "Processing Record 32 of Set 7 | pacific grove\n",
      "Processing Record 33 of Set 7 | porlamar\n",
      "Processing Record 34 of Set 7 | gambela\n",
      "Processing Record 35 of Set 7 | naron\n",
      "Processing Record 36 of Set 7 | requena\n",
      "Processing Record 37 of Set 7 | parakai\n",
      "Processing Record 38 of Set 7 | teguldet\n",
      "Processing Record 39 of Set 7 | geraldton\n",
      "Processing Record 40 of Set 7 | fianga\n",
      "Processing Record 41 of Set 7 | limulunga\n",
      "Processing Record 42 of Set 7 | vitry-le-francois\n",
      "Processing Record 43 of Set 7 | raudeberg\n",
      "Processing Record 44 of Set 7 | loksa\n",
      "Processing Record 45 of Set 7 | leshan\n",
      "Processing Record 46 of Set 7 | nishihara\n",
      "Processing Record 47 of Set 7 | sorvag\n",
      "Processing Record 48 of Set 7 | reims\n",
      "Processing Record 49 of Set 7 | iranshahr\n",
      "Processing Record 50 of Set 7 | markova\n",
      "Processing Record 1 of Set 8 | saleaula\n",
      "Processing Record 2 of Set 8 | abonnema\n",
      "Processing Record 3 of Set 8 | margate\n",
      "Processing Record 4 of Set 8 | acaponeta\n",
      "Processing Record 5 of Set 8 | mugur-aksy\n",
      "Processing Record 6 of Set 8 | miranda\n",
      "Processing Record 7 of Set 8 | belmonte\n",
      "Processing Record 8 of Set 8 | yuancheng\n",
      "Processing Record 9 of Set 8 | gisborne\n",
      "Processing Record 10 of Set 8 | alofi\n",
      "Processing Record 11 of Set 8 | tucuman\n",
      "Processing Record 12 of Set 8 | mafinga\n",
      "Processing Record 13 of Set 8 | anadyr\n",
      "Processing Record 14 of Set 8 | port macquarie\n",
      "Processing Record 15 of Set 8 | saint george\n",
      "Processing Record 16 of Set 8 | la quinta\n",
      "Processing Record 17 of Set 8 | kirakira\n",
      "Processing Record 18 of Set 8 | guilin\n",
      "Processing Record 19 of Set 8 | tumannyy\n",
      "Processing Record 20 of Set 8 | inderborskiy\n",
      "Processing Record 21 of Set 8 | olafsvik\n",
      "Processing Record 22 of Set 8 | kidal\n",
      "Processing Record 23 of Set 8 | portland\n",
      "Processing Record 24 of Set 8 | eyl\n",
      "Processing Record 25 of Set 8 | truro\n",
      "Processing Record 26 of Set 8 | chingirlau\n",
      "Processing Record 27 of Set 8 | vaitupu\n",
      "Processing Record 28 of Set 8 | hualmay\n",
      "Processing Record 29 of Set 8 | winslow\n",
      "Processing Record 30 of Set 8 | kamen-rybolov\n",
      "Processing Record 31 of Set 8 | litovko\n",
      "Processing Record 32 of Set 8 | paucartambo\n",
      "Processing Record 33 of Set 8 | bereda\n",
      "Processing Record 34 of Set 8 | bhadasar\n",
      "Processing Record 35 of Set 8 | uruzgan\n",
      "Processing Record 36 of Set 8 | ngukurr\n",
      "Processing Record 37 of Set 8 | bemidji\n",
      "Processing Record 38 of Set 8 | hokitika\n",
      "Processing Record 39 of Set 8 | general pico\n",
      "Processing Record 40 of Set 8 | hasaki\n",
      "Processing Record 41 of Set 8 | polis\n",
      "Processing Record 42 of Set 8 | nguiu\n",
      "Processing Record 43 of Set 8 | kampot\n",
      "Processing Record 44 of Set 8 | rio gallegos\n",
      "Processing Record 45 of Set 8 | saint simons\n",
      "Processing Record 46 of Set 8 | kang\n",
      "Processing Record 47 of Set 8 | yamada\n",
      "Processing Record 48 of Set 8 | teguise\n",
      "Processing Record 49 of Set 8 | soyo\n",
      "Processing Record 50 of Set 8 | saint anthony\n",
      "Processing Record 1 of Set 9 | pangnirtung\n",
      "Processing Record 2 of Set 9 | coihaique\n",
      "Processing Record 3 of Set 9 | meulaboh\n",
      "Processing Record 4 of Set 9 | tidore\n",
      "Processing Record 5 of Set 9 | benton harbor\n",
      "Processing Record 6 of Set 9 | sumoto\n",
      "Processing Record 7 of Set 9 | biala podlaska\n",
      "Processing Record 8 of Set 9 | namatanai\n",
      "Processing Record 9 of Set 9 | lesosibirsk\n",
      "Processing Record 10 of Set 9 | biskupiec\n",
      "Processing Record 11 of Set 9 | yulara\n",
      "Processing Record 12 of Set 9 | yarada\n",
      "Processing Record 13 of Set 9 | fredericton\n",
      "Processing Record 14 of Set 9 | kysyl-syr\n",
      "Processing Record 15 of Set 9 | port elizabeth\n",
      "Processing Record 16 of Set 9 | malakal\n",
      "Processing Record 17 of Set 9 | wa\n",
      "Processing Record 18 of Set 9 | lolua\n",
      "Processing Record 19 of Set 9 | ngunguru\n",
      "Processing Record 20 of Set 9 | stornoway\n",
      "Processing Record 21 of Set 9 | oildale\n",
      "Processing Record 22 of Set 9 | lipin bor\n",
      "Processing Record 23 of Set 9 | kangaatsiaq\n",
      "Processing Record 24 of Set 9 | conde\n",
      "Processing Record 25 of Set 9 | portsmouth\n",
      "Processing Record 26 of Set 9 | mashhad\n",
      "Processing Record 27 of Set 9 | witu\n",
      "Processing Record 28 of Set 9 | torbay\n",
      "Processing Record 29 of Set 9 | columbus\n",
      "Processing Record 30 of Set 9 | toyohashi\n",
      "Processing Record 31 of Set 9 | malinovoye ozero\n",
      "Processing Record 32 of Set 9 | ola\n",
      "Processing Record 33 of Set 9 | muros\n",
      "Processing Record 34 of Set 9 | sisimiut\n",
      "Processing Record 35 of Set 9 | rosarito\n",
      "Processing Record 36 of Set 9 | bacungan\n",
      "Processing Record 37 of Set 9 | kargalinskaya\n",
      "Processing Record 38 of Set 9 | mayumba\n",
      "Processing Record 39 of Set 9 | el alto\n",
      "Processing Record 40 of Set 9 | mirador\n",
      "Processing Record 41 of Set 9 | srivardhan\n",
      "Processing Record 42 of Set 9 | akdepe\n",
      "Processing Record 43 of Set 9 | dubbo\n",
      "Processing Record 44 of Set 9 | tambun\n",
      "Processing Record 45 of Set 9 | kalmunai\n",
      "Processing Record 46 of Set 9 | constitucion\n",
      "Processing Record 47 of Set 9 | ninghai\n",
      "Processing Record 48 of Set 9 | saint-joseph\n",
      "Processing Record 49 of Set 9 | carrboro\n",
      "Processing Record 50 of Set 9 | myitkyina\n",
      "Processing Record 1 of Set 10 | eureka\n",
      "Processing Record 2 of Set 10 | fortuna\n",
      "Processing Record 3 of Set 10 | welkom\n",
      "Processing Record 4 of Set 10 | gediz\n",
      "Processing Record 5 of Set 10 | lalian\n",
      "Processing Record 6 of Set 10 | kuche\n",
      "Processing Record 7 of Set 10 | seoul\n",
      "Processing Record 8 of Set 10 | klyuchi\n",
      "Processing Record 9 of Set 10 | rudnogorsk\n",
      "Processing Record 10 of Set 10 | port-cartier\n",
      "Processing Record 11 of Set 10 | tinde\n",
      "Processing Record 12 of Set 10 | pecos\n",
      "Processing Record 13 of Set 10 | cassilandia\n",
      "Processing Record 14 of Set 10 | la palma\n",
      "Processing Record 15 of Set 10 | bossembele\n",
      "Processing Record 16 of Set 10 | dickinson\n",
      "Processing Record 17 of Set 10 | tecolutla\n",
      "Processing Record 18 of Set 10 | saint-augustin\n",
      "Processing Record 19 of Set 10 | menongue\n",
      "Processing Record 20 of Set 10 | vanderhoof\n",
      "Processing Record 21 of Set 10 | tanjong sepat\n",
      "Processing Record 22 of Set 10 | bajil\n",
      "Processing Record 23 of Set 10 | tetouan\n",
      "Processing Record 24 of Set 10 | aranos\n",
      "Processing Record 25 of Set 10 | nogales\n",
      "Processing Record 26 of Set 10 | pundaguitan\n",
      "Processing Record 27 of Set 10 | areka\n",
      "Processing Record 28 of Set 10 | kumeny\n",
      "Processing Record 29 of Set 10 | bolungarvik\n",
      "Processing Record 30 of Set 10 | liuzhou\n",
      "Processing Record 31 of Set 10 | gao\n",
      "Processing Record 32 of Set 10 | paka\n",
      "Processing Record 33 of Set 10 | inta\n",
      "Processing Record 34 of Set 10 | ciudad bolivar\n",
      "Processing Record 35 of Set 10 | hebertville\n",
      "Processing Record 36 of Set 10 | port blair\n",
      "Processing Record 37 of Set 10 | saint paul\n",
      "Processing Record 38 of Set 10 | angoram\n",
      "Processing Record 39 of Set 10 | sidney\n",
      "Processing Record 40 of Set 10 | angoche\n",
      "Processing Record 41 of Set 10 | hirara\n",
      "Processing Record 42 of Set 10 | huarmey\n",
      "Processing Record 43 of Set 10 | baft\n",
      "Processing Record 44 of Set 10 | zaysan\n",
      "Processing Record 45 of Set 10 | kahului\n",
      "Processing Record 46 of Set 10 | villa bruzual\n",
      "Processing Record 47 of Set 10 | buchanan\n",
      "Processing Record 48 of Set 10 | khonuu\n",
      "Processing Record 49 of Set 10 | namtsy\n",
      "Processing Record 50 of Set 10 | sungaipenuh\n",
      "Processing Record 1 of Set 11 | locri\n",
      "Processing Record 2 of Set 11 | qui nhon\n",
      "Processing Record 3 of Set 11 | alyangula\n",
      "Processing Record 4 of Set 11 | buritizeiro\n",
      "Processing Record 5 of Set 11 | mandurah\n",
      "Processing Record 6 of Set 11 | esmeraldas\n",
      "Processing Record 7 of Set 11 | swellendam\n",
      "Processing Record 8 of Set 11 | phan rang\n",
      "Processing Record 9 of Set 11 | lubbock\n",
      "Processing Record 10 of Set 11 | paciran\n",
      "Processing Record 11 of Set 11 | caibarien\n",
      "Processing Record 12 of Set 11 | san luis\n",
      "Processing Record 13 of Set 11 | tursunzoda\n",
      "Processing Record 14 of Set 11 | antofagasta\n",
      "Processing Record 15 of Set 11 | mutsamudu\n",
      "Processing Record 16 of Set 11 | ahipara\n",
      "Processing Record 17 of Set 11 | mehamn\n",
      "Processing Record 18 of Set 11 | evensk\n",
      "Processing Record 19 of Set 11 | olinda\n",
      "Processing Record 20 of Set 11 | ilulissat\n",
      "Processing Record 21 of Set 11 | jiddah\n",
      "Processing Record 22 of Set 11 | pfaffikon\n",
      "Processing Record 23 of Set 11 | tsihombe\n",
      "Processing Record 24 of Set 11 | mathathane\n",
      "Processing Record 25 of Set 11 | barrancabermeja\n",
      "Processing Record 26 of Set 11 | strezhevoy\n",
      "Processing Record 27 of Set 11 | chernyshevskiy\n",
      "Processing Record 28 of Set 11 | dongsheng\n",
      "Processing Record 29 of Set 11 | khormuj\n",
      "Processing Record 30 of Set 11 | balabac\n",
      "Processing Record 31 of Set 11 | chimbote\n",
      "Processing Record 32 of Set 11 | chengde\n",
      "Processing Record 33 of Set 11 | grimari\n",
      "Processing Record 34 of Set 11 | mikuni\n",
      "Processing Record 35 of Set 11 | walvis bay\n",
      "Processing Record 36 of Set 11 | sibolga\n",
      "Processing Record 37 of Set 11 | isangel\n",
      "Processing Record 38 of Set 11 | sabang\n",
      "Processing Record 39 of Set 11 | bhag\n",
      "Processing Record 40 of Set 11 | khasan\n",
      "Processing Record 41 of Set 11 | jinchengjiang\n",
      "Processing Record 42 of Set 11 | axim\n",
      "Processing Record 43 of Set 11 | plouzane\n",
      "Processing Record 44 of Set 11 | mabaruma\n",
      "Processing Record 45 of Set 11 | tir pol\n",
      "Processing Record 46 of Set 11 | riohacha\n",
      "Processing Record 47 of Set 11 | deputatskiy\n",
      "Processing Record 48 of Set 11 | kindu\n",
      "Processing Record 49 of Set 11 | peleduy\n",
      "Processing Record 50 of Set 11 | marcona\n",
      "Processing Record 1 of Set 12 | kholtoson\n",
      "Processing Record 2 of Set 12 | xichang\n",
      "Processing Record 3 of Set 12 | cabedelo\n",
      "Processing Record 4 of Set 12 | fare\n",
      "Processing Record 5 of Set 12 | starobesheve\n",
      "Processing Record 6 of Set 12 | tabou\n",
      "Processing Record 7 of Set 12 | joshimath\n",
      "Processing Record 8 of Set 12 | bayan\n",
      "Processing Record 9 of Set 12 | haicheng\n",
      "Processing Record 10 of Set 12 | felipe carrillo puerto\n",
      "Processing Record 11 of Set 12 | kracheh\n",
      "Processing Record 12 of Set 12 | quatre cocos\n",
      "Processing Record 13 of Set 12 | tokur\n",
      "Processing Record 14 of Set 12 | elko\n",
      "Processing Record 15 of Set 12 | coquimatlan\n",
      "Processing Record 16 of Set 12 | guarapari\n",
      "Processing Record 17 of Set 12 | merritt island\n",
      "Processing Record 18 of Set 12 | tarudant\n",
      "Processing Record 19 of Set 12 | bandar-e lengeh\n",
      "Processing Record 20 of Set 12 | maragogi\n",
      "Processing Record 21 of Set 12 | rodeo\n",
      "Processing Record 22 of Set 12 | shimoda\n",
      "Processing Record 23 of Set 12 | wilmington\n",
      "Processing Record 24 of Set 12 | mullaitivu\n",
      "Processing Record 25 of Set 12 | touros\n",
      "Processing Record 26 of Set 12 | bodden town\n",
      "Processing Record 27 of Set 12 | ilhabela\n",
      "Processing Record 28 of Set 12 | hrubieszow\n",
      "Processing Record 29 of Set 12 | fukue\n",
      "Processing Record 30 of Set 12 | marawi\n",
      "Processing Record 31 of Set 12 | limbang\n",
      "Processing Record 32 of Set 12 | edd\n",
      "Processing Record 33 of Set 12 | ruteng\n",
      "Processing Record 34 of Set 12 | venancio aires\n",
      "Processing Record 35 of Set 12 | atar\n",
      "Processing Record 36 of Set 12 | viedma\n",
      "Processing Record 37 of Set 12 | asahikawa\n",
      "Processing Record 38 of Set 12 | saint-francois\n",
      "Processing Record 39 of Set 12 | san ramon de la nueva oran\n",
      "Processing Record 40 of Set 12 | manokwari\n",
      "Processing Record 41 of Set 12 | ust-barguzin\n",
      "Processing Record 42 of Set 12 | naryan-mar\n",
      "Processing Record 43 of Set 12 | moinesti\n",
      "Processing Record 44 of Set 12 | galiwinku\n",
      "Processing Record 45 of Set 12 | alcazar de san juan\n",
      "Processing Record 46 of Set 12 | maceio\n",
      "Processing Record 47 of Set 12 | ginir\n",
      "Processing Record 48 of Set 12 | henties bay\n",
      "Processing Record 49 of Set 12 | carora\n",
      "Processing Record 50 of Set 12 | awjilah\n",
      "Processing Record 1 of Set 13 | puerto escondido\n",
      "Processing Record 2 of Set 13 | dali\n",
      "Processing Record 3 of Set 13 | amuntai\n",
      "Processing Record 4 of Set 13 | smirnykh\n",
      "Processing Record 5 of Set 13 | ambilobe\n",
      "Processing Record 6 of Set 13 | biak\n"
     ]
    },
    {
     "name": "stdout",
     "output_type": "stream",
     "text": [
      "-----------------------------\n",
      "Data Retrieval Complete      \n",
      "-----------------------------\n"
     ]
    }
   ],
   "source": [
    "# Create an empty list to hold the weather data.\n",
    "city_data = []\n",
    "# Print the beginning of the logging.\n",
    "print(\"Beginning Data Retrieval     \")\n",
    "print(\"-----------------------------\")\n",
    "\n",
    "# Create counters.\n",
    "record_count = 1\n",
    "set_count = 1\n",
    "\n",
    "# Loop through all the cities in the list.\n",
    "for i, city in enumerate(cities):\n",
    "\n",
    "    # Group cities in sets of 50 for logging purposes.\n",
    "    if (i % 50 == 0 and i >= 50):\n",
    "        set_count += 1\n",
    "        record_count = 1\n",
    "    # Create endpoint URL with each city.\n",
    "    city_url = url + \"&q=\" + city.replace(\" \",\"+\")\n",
    "\n",
    "    # Log the URL, record, and set numbers and the city.\n",
    "    print(f\"Processing Record {record_count} of Set {set_count} | {city}\")\n",
    "    # Add 1 to the record count.\n",
    "    record_count += 1\n",
    "\n",
    "# Run an API request for each of the cities.\n",
    "try:\n",
    "        # Parse the JSON and retrieve data.\n",
    "        city_weather = requests.get(city_url).json()\n",
    "        # Parse out the needed data.\n",
    "        city_lat = city_weather[\"coord\"][\"lat\"]\n",
    "        city_lng = city_weather[\"coord\"][\"lon\"]\n",
    "        city_max_temp = city_weather[\"main\"][\"temp_max\"]\n",
    "        city_humidity = city_weather[\"main\"][\"humidity\"]\n",
    "        city_clouds = city_weather[\"clouds\"][\"all\"]\n",
    "        city_wind = city_weather[\"wind\"][\"speed\"]\n",
    "        city_country = city_weather[\"sys\"][\"country\"]\n",
    "        # Convert the date to ISO standard.\n",
    "        city_date = datetime.utcfromtimestamp(city_weather[\"dt\"]).strftime('%Y-%m-%d %H:%M:%S')\n",
    "        # Append the city information into city_data list.\n",
    "        city_data.append({\"City\": city.title(),\n",
    "                          \"Lat\": city_lat,\n",
    "                          \"Lng\": city_lng,\n",
    "                          \"Max Temp\": city_max_temp,\n",
    "                          \"Humidity\": city_humidity,\n",
    "                          \"Cloudiness\": city_clouds,\n",
    "                          \"Wind Speed\": city_wind,\n",
    "                          \"Country\": city_country,\n",
    "                          \"Date\": city_date})\n",
    "\n",
    "# If an error is experienced, skip the city.\n",
    "except:\n",
    "        print(\"City not found. Skipping...\")\n",
    "        pass\n",
    "\n",
    "# Indicate that Data Loading is complete.\n",
    "print(\"-----------------------------\")\n",
    "print(\"Data Retrieval Complete      \")\n",
    "print(\"-----------------------------\")"
   ]
  },
  {
   "cell_type": "code",
   "execution_count": 40,
   "metadata": {},
   "outputs": [
    {
     "data": {
      "text/html": [
       "<div>\n",
       "<style scoped>\n",
       "    .dataframe tbody tr th:only-of-type {\n",
       "        vertical-align: middle;\n",
       "    }\n",
       "\n",
       "    .dataframe tbody tr th {\n",
       "        vertical-align: top;\n",
       "    }\n",
       "\n",
       "    .dataframe thead th {\n",
       "        text-align: right;\n",
       "    }\n",
       "</style>\n",
       "<table border=\"1\" class=\"dataframe\">\n",
       "  <thead>\n",
       "    <tr style=\"text-align: right;\">\n",
       "      <th></th>\n",
       "      <th>City</th>\n",
       "      <th>Lat</th>\n",
       "      <th>Lng</th>\n",
       "      <th>Max Temp</th>\n",
       "      <th>Humidity</th>\n",
       "      <th>Cloudiness</th>\n",
       "      <th>Wind Speed</th>\n",
       "      <th>Country</th>\n",
       "      <th>Date</th>\n",
       "    </tr>\n",
       "  </thead>\n",
       "  <tbody>\n",
       "    <tr>\n",
       "      <th>0</th>\n",
       "      <td>Biak</td>\n",
       "      <td>-0.91</td>\n",
       "      <td>122.88</td>\n",
       "      <td>77</td>\n",
       "      <td>82</td>\n",
       "      <td>93</td>\n",
       "      <td>5.59</td>\n",
       "      <td>ID</td>\n",
       "      <td>2020-08-03 01:02:59</td>\n",
       "    </tr>\n",
       "  </tbody>\n",
       "</table>\n",
       "</div>"
      ],
      "text/plain": [
       "   City   Lat     Lng  Max Temp  Humidity  Cloudiness  Wind Speed Country  \\\n",
       "0  Biak -0.91  122.88        77        82          93        5.59      ID   \n",
       "\n",
       "                  Date  \n",
       "0  2020-08-03 01:02:59  "
      ]
     },
     "execution_count": 40,
     "metadata": {},
     "output_type": "execute_result"
    }
   ],
   "source": [
    "# Convert the array of dictionaries to a Pandas DataFrame.\n",
    "city_data_df = pd.DataFrame(city_data)\n",
    "city_data_df.head(10)"
   ]
  },
  {
   "cell_type": "code",
   "execution_count": 41,
   "metadata": {},
   "outputs": [],
   "source": [
    "# Create the output file (CSV).\n",
    "output_data_file = \"weather_data/cities.csv\"\n",
    "# Export the City_Data into a CSV.\n",
    "city_data_df.to_csv(output_data_file, index_label=\"City_ID\")"
   ]
  },
  {
   "cell_type": "code",
   "execution_count": 42,
   "metadata": {},
   "outputs": [],
   "source": [
    "# Extract relevant fields from the DataFrame for plotting.\n",
    "lats = city_data_df[\"Lat\"]\n",
    "max_temps = city_data_df[\"Max Temp\"]\n",
    "humidity = city_data_df[\"Humidity\"]\n",
    "cloudiness = city_data_df[\"Cloudiness\"]\n",
    "wind_speed = city_data_df[\"Wind Speed\"]"
   ]
  },
  {
   "cell_type": "code",
   "execution_count": 43,
   "metadata": {},
   "outputs": [
    {
     "data": {
      "text/plain": [
       "1596416578.0207233"
      ]
     },
     "execution_count": 43,
     "metadata": {},
     "output_type": "execute_result"
    }
   ],
   "source": [
    "# Import the time module.\n",
    "import time\n",
    "# Get today's date in seconds.\n",
    "today = time.time()\n",
    "today"
   ]
  },
  {
   "cell_type": "code",
   "execution_count": 44,
   "metadata": {},
   "outputs": [
    {
     "data": {
      "image/png": "[encoded data removed]",
      "text/plain": [
       "<Figure size 432x288 with 1 Axes>"
      ]
     },
     "metadata": {
      "needs_background": "light"
     },
     "output_type": "display_data"
    }
   ],
   "source": [
    "# Build the scatter plot for latitude vs. max temperature.\n",
    "plt.scatter(lats,\n",
    "            max_temps,\n",
    "            edgecolor=\"black\", linewidths=1, marker=\"o\",\n",
    "            alpha=0.8, label=\"Cities\")\n",
    "\n",
    "# Incorporate the other graph properties.\n",
    "plt.title(f\"City Latitude vs. Max Temperature \"+ time.strftime(\"%x\"))\n",
    "plt.ylabel(\"Max Temperature (F)\")\n",
    "plt.xlabel(\"Latitude\")\n",
    "plt.grid(True)\n",
    "\n",
    "# Save the figure.\n",
    "plt.savefig(\"weather_data/Fig1.png\")\n",
    "\n",
    "# Show plot.\n",
    "plt.show()"
   ]
  },
  {
   "cell_type": "code",
   "execution_count": 45,
   "metadata": {},
   "outputs": [
    {
     "data": {
      "image/png": "[encoded data removed]",
      "text/plain": [
       "<Figure size 432x288 with 1 Axes>"
      ]
     },
     "metadata": {
      "needs_background": "light"
     },
     "output_type": "display_data"
    }
   ],
   "source": [
    "# Build the scatter plots for latitude vs. humidity.\n",
    "plt.scatter(lats,\n",
    "            humidity,\n",
    "            edgecolor=\"black\", linewidths=1, marker=\"o\",\n",
    "            alpha=0.8, label=\"Cities\")\n",
    "\n",
    "# Incorporate the other graph properties.\n",
    "plt.title(f\"City Latitude vs. Humidity \"+ time.strftime(\"%x\"))\n",
    "plt.ylabel(\"Humidity (%)\")\n",
    "plt.xlabel(\"Latitude\")\n",
    "plt.grid(True)\n",
    "# Save the figure.\n",
    "plt.savefig(\"weather_data/Fig2.png\")\n",
    "# Show plot.\n",
    "plt.show()"
   ]
  },
  {
   "cell_type": "code",
   "execution_count": 46,
   "metadata": {},
   "outputs": [
    {
     "data": {
      "image/png": "[encoded data removed]",
      "text/plain": [
       "<Figure size 432x288 with 1 Axes>"
      ]
     },
     "metadata": {
      "needs_background": "light"
     },
     "output_type": "display_data"
    }
   ],
   "source": [
    "# Build the scatter plots for latitude vs. cloudiness.\n",
    "plt.scatter(lats,\n",
    "            cloudiness,\n",
    "            edgecolor=\"black\", linewidths=1, marker=\"o\",\n",
    "            alpha=0.8, label=\"Cities\")\n",
    "\n",
    "# Incorporate the other graph properties.\n",
    "plt.title(f\"City Latitude vs. Cloudiness (%) \"+ time.strftime(\"%x\"))\n",
    "plt.ylabel(\"Cloudiness (%)\")\n",
    "plt.xlabel(\"Latitude\")\n",
    "plt.grid(True)\n",
    "# Save the figure.\n",
    "plt.savefig(\"weather_data/Fig3.png\")\n",
    "# Show plot.\n",
    "plt.show()"
   ]
  },
  {
   "cell_type": "code",
   "execution_count": 47,
   "metadata": {},
   "outputs": [
    {
     "data": {
      "image/png": "[encoded data removed]",
      "text/plain": [
       "<Figure size 432x288 with 1 Axes>"
      ]
     },
     "metadata": {
      "needs_background": "light"
     },
     "output_type": "display_data"
    }
   ],
   "source": [
    "# Build the scatter plots for latitude vs. wind speed.\n",
    "plt.scatter(lats,\n",
    "            wind_speed,\n",
    "            edgecolor=\"black\", linewidths=1, marker=\"o\",\n",
    "            alpha=0.8, label=\"Cities\")\n",
    "\n",
    "# Incorporate the other graph properties.\n",
    "plt.title(f\"City Latitude vs. Wind Speed \"+ time.strftime(\"%x\"))\n",
    "plt.ylabel(\"Wind Speed (mph)\")\n",
    "plt.xlabel(\"Latitude\")\n",
    "plt.grid(True)\n",
    "# Save the figure.\n",
    "plt.savefig(\"weather_data/Fig4.png\")\n",
    "# Show plot.\n",
    "plt.show()"
   ]
  },
  {
   "cell_type": "code",
   "execution_count": 48,
   "metadata": {},
   "outputs": [],
   "source": [
    "# Create a function to create perform linear regression on the weather data\n",
    "# and plot a regression line and the equation with the data.\n",
    "#def plot_linear_regression(x_values, y_values, title, y_label, text_coordinates):"
   ]
  },
  {
   "cell_type": "code",
   "execution_count": 49,
   "metadata": {},
   "outputs": [
    {
     "ename": "SyntaxError",
     "evalue": "invalid syntax (<ipython-input-49-e6c74e37027e>, line 20)",
     "output_type": "error",
     "traceback": [
      "\u001b[1;36m  File \u001b[1;32m\"<ipython-input-49-e6c74e37027e>\"\u001b[1;36m, line \u001b[1;32m20\u001b[0m\n\u001b[1;33m    If we run this code there will be no output until we call th\u001b[0m\n\u001b[1;37m        ^\u001b[0m\n\u001b[1;31mSyntaxError\u001b[0m\u001b[1;31m:\u001b[0m invalid syntax\n"
     ]
    }
   ],
   "source": [
    "# Create a function to create perform linear regression on the weather data\n",
    "# and plot a regression line and the equation with the data.\n",
    "def plot_linear_regression(x_values, y_values, title, y_label, text_coordinates):\n",
    "\n",
    "    # Run regression on hemisphere weather data.\n",
    "    (slope, intercept, r_value, p_value, std_err) = linregress(x_values, y_values)\n",
    "\n",
    "    # Calculate the regression line \"y values\" from the slope and intercept.\n",
    "    regress_values = x_values * slope + intercept\n",
    "    # Get the equation of the line.\n",
    "    line_eq = \"y = \" + str(round(slope,2)) + \"x + \" + str(round(intercept,2))\n",
    "    # Create a scatter plot and plot the regression line.\n",
    "    plt.scatter(x_values,y_values)\n",
    "    plt.plot(x_values,regress_values,\"r\")\n",
    "    # Annotate the text for the line equation.\n",
    "    plt.annotate(line_eq, text_coordinates, fontsize=15, color=\"red\")\n",
    "    plt.xlabel('Latitude')\n",
    "    plt.ylabel(y_label)\n",
    "    plt.show()\n",
    "If we run this code there will be no output until we call th"
   ]
  },
  {
   "cell_type": "code",
   "execution_count": null,
   "metadata": {},
   "outputs": [],
   "source": [
    "city_data_df.loc[(city_data_df[\"Lat\"] >= 0)]"
   ]
  },
  {
   "cell_type": "code",
   "execution_count": null,
   "metadata": {},
   "outputs": [],
   "source": [
    "# Create Northern and Southern Hemisphere DataFrames.\n",
    "northern_hemi_df = city_data_df.loc[(city_data_df[\"Lat\"] >= 0)]\n",
    "southern_hemi_df = city_data_df.loc[(city_data_df[\"Lat\"] < 0)]"
   ]
  },
  {
   "cell_type": "code",
   "execution_count": null,
   "metadata": {},
   "outputs": [],
   "source": [
    "# Linear regression on the Northern Hemisphere\n",
    "x_values = northern_hemi_df[\"Lat\"]\n",
    "y_values = northern_hemi_df[\"Max Temp\"]\n",
    "# Call the function.\n",
    "plot_linear_regression(x_values, y_values,\n",
    "                       'Linear Regression on the Northern Hemisphere \\n\n",
    "                        for Maximum Temperature', 'Max Temp',(10,40))"
   ]
  },
  {
   "cell_type": "code",
   "execution_count": null,
   "metadata": {},
   "outputs": [],
   "source": [
    "# Linear regression on the Southern Hemisphere\n",
    "x_values = southern_hemi_df[\"Lat\"]\n",
    "y_values = southern_hemi_df[\"Max Temp\"]\n",
    "# Call the function.\n",
    "plot_linear_regression(x_values, y_values,\n",
    "                       'Linear Regression on the Southern Hemisphere \\n\n",
    "                        for Maximum Temperature', 'Max Temp',(-50,90))"
   ]
  },
  {
   "cell_type": "code",
   "execution_count": null,
   "metadata": {},
   "outputs": [],
   "source": [
    "# Linear regression on the Northern Hemisphere\n",
    "x_values = northern_hemi_df[\"Lat\"]\n",
    "y_values = northern_hemi_df[\"Humidity\"]\n",
    "# Call the function.\n",
    "plot_linear_regression(x_values, y_values,\n",
    "                       'Linear Regression on the Northern Hemisphere \\n\n",
    "                        for % Humidity', '% Humidity',(40,10))"
   ]
  },
  {
   "cell_type": "code",
   "execution_count": null,
   "metadata": {},
   "outputs": [],
   "source": [
    "# Linear regression on the Southern Hemisphere\n",
    "x_values = southern_hemi_df[\"Lat\"]\n",
    "y_values = southern_hemi_df[\"Humidity\"]\n",
    "# Call the function.\n",
    "plot_linear_regression(x_values, y_values,\n",
    "                       'Linear Regression on the Southern Hemisphere \\n\n",
    "                        for % Humidity', '% Humidity',(-50,15))"
   ]
  },
  {
   "cell_type": "code",
   "execution_count": null,
   "metadata": {},
   "outputs": [],
   "source": [
    "# Linear regression on the Southern Hemisphere\n",
    "x_values = southern_hemi_df[\"Lat\"]\n",
    "y_values = southern_hemi_df[\"Cloudiness\"]\n",
    "# Call the function.\n",
    "plot_linear_regression(x_values, y_values,\n",
    "                       'Linear Regression on the Southern Hemisphere \\n\n",
    "                        for % Cloudiness', '% Cloudiness',(-50,60))"
   ]
  },
  {
   "cell_type": "code",
   "execution_count": null,
   "metadata": {},
   "outputs": [],
   "source": [
    "# Linear regression on the Northern Hemisphere\n",
    "x_values = northern_hemi_df[\"Lat\"]\n",
    "y_values = northern_hemi_df[\"Wind Speed\"]\n",
    "# Call the function.\n",
    "plot_linear_regression(x_values, y_values,\n",
    "                       'Linear Regression on the Northern Hemisphere \\n\n",
    "                        for Wind Speed', 'Wind Speed',(40,35))"
   ]
  },
  {
   "cell_type": "code",
   "execution_count": null,
   "metadata": {},
   "outputs": [],
   "source": [
    "# Linear regression on the Southern Hemisphere\n",
    "x_values = southern_hemi_df[\"Lat\"]\n",
    "y_values = southern_hemi_df[\"Wind Speed\"]\n",
    "# Call the function.\n",
    "plot_linear_regression(x_values, y_values,\n",
    "                       'Linear Regression on the Southern Hemisphere \\n\n",
    "                        for Wind Speed', 'Wind Speed',(-50,35))"
   ]
  }
 ],
 "metadata": {
  "kernelspec": {
   "display_name": "Python 3",
   "language": "python",
   "name": "python3"
  },
  "language_info": {
   "codemirror_mode": {
    "name": "ipython",
    "version": 3
   },
   "file_extension": ".py",
   "mimetype": "text/x-python",
   "name": "python",
   "nbconvert_exporter": "python",
   "pygments_lexer": "ipython3",
   "version": "3.7.7"
  }
 },
 "nbformat": 4,
 "nbformat_minor": 4
}
