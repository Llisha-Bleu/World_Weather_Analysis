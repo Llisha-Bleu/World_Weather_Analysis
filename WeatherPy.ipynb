{
 "cells": [
  {
   "cell_type": "code",
   "execution_count": 1,
   "metadata": {},
   "outputs": [],
   "source": [
    "# Import the random module.\n",
    "import random\n",
    "\n",
    "# Import the NumPy module.\n",
    "import numpy as np\n",
    "\n",
    "# Import timeit.\n",
    "import timeit\n",
    "\n",
    "# Import the dependencies.\n",
    "import pandas as pd\n",
    "import matplotlib.pyplot as plt"
   ]
  },
  {
   "cell_type": "code",
   "execution_count": 2,
   "metadata": {
    "scrolled": true
   },
   "outputs": [
    {
     "data": {
      "text/plain": [
       "-35"
      ]
     },
     "execution_count": 2,
     "metadata": {},
     "output_type": "execute_result"
    }
   ],
   "source": [
    "random.randint(-90, 90)"
   ]
  },
  {
   "cell_type": "code",
   "execution_count": 3,
   "metadata": {},
   "outputs": [
    {
     "data": {
      "text/plain": [
       "0.16109440280033005"
      ]
     },
     "execution_count": 3,
     "metadata": {},
     "output_type": "execute_result"
    }
   ],
   "source": [
    "random.random()"
   ]
  },
  {
   "cell_type": "code",
   "execution_count": 4,
   "metadata": {},
   "outputs": [
    {
     "data": {
      "text/plain": [
       "-18.27846794870569"
      ]
     },
     "execution_count": 4,
     "metadata": {},
     "output_type": "execute_result"
    }
   ],
   "source": [
    "random_number = random.randint(-90, 89) + random.random()\n",
    "random_number"
   ]
  },
  {
   "cell_type": "code",
   "execution_count": 5,
   "metadata": {},
   "outputs": [],
   "source": [
    "x = 1\n",
    "latitudes = []\n",
    "while x < 11:\n",
    "    random_lat = random.randint(-90, 89) + random.random()\n",
    "    latitudes.append(random_lat)\n",
    "    x += 1"
   ]
  },
  {
   "cell_type": "code",
   "execution_count": 6,
   "metadata": {},
   "outputs": [
    {
     "data": {
      "text/plain": [
       "[-49.90234048622958,\n",
       " 82.59050379509911,\n",
       " -50.43741336288944,\n",
       " -30.20086207662998,\n",
       " 86.08478050339235,\n",
       " -51.30745130889546,\n",
       " -48.58433306280343,\n",
       " -45.20444657244757,\n",
       " -4.032208137691207,\n",
       " -46.6348825314955]"
      ]
     },
     "execution_count": 6,
     "metadata": {},
     "output_type": "execute_result"
    }
   ],
   "source": [
    "latitudes"
   ]
  },
  {
   "cell_type": "code",
   "execution_count": 7,
   "metadata": {},
   "outputs": [
    {
     "data": {
      "text/plain": [
       "-35"
      ]
     },
     "execution_count": 7,
     "metadata": {},
     "output_type": "execute_result"
    }
   ],
   "source": [
    "random.randrange(-90, 90, step=1)"
   ]
  },
  {
   "cell_type": "code",
   "execution_count": 8,
   "metadata": {},
   "outputs": [
    {
     "data": {
      "text/plain": [
       "-75"
      ]
     },
     "execution_count": 8,
     "metadata": {},
     "output_type": "execute_result"
    }
   ],
   "source": [
    "random.randrange(-90, 90, step=3)"
   ]
  },
  {
   "cell_type": "raw",
   "metadata": {},
   "source": [
    "random.uniform(-90, 90)"
   ]
  },
  {
   "cell_type": "code",
   "execution_count": 9,
   "metadata": {},
   "outputs": [
    {
     "data": {
      "text/plain": [
       "48.61418526951468"
      ]
     },
     "execution_count": 9,
     "metadata": {},
     "output_type": "execute_result"
    }
   ],
   "source": [
    "np.random.uniform(-90.000, 90.000)"
   ]
  },
  {
   "cell_type": "code",
   "execution_count": 10,
   "metadata": {},
   "outputs": [
    {
     "data": {
      "text/plain": [
       "array([ 41.06935845,  74.11539769, -76.97513071,  57.31002425,\n",
       "        88.99819911,  51.20693764,  -5.03589051,  59.34929633,\n",
       "       -45.44615275, -83.14880666,  70.15550447,  88.58886747,\n",
       "       -32.99109318,  23.67038112, -15.00740164,  56.3527327 ,\n",
       "        25.15777425, -81.34357036, -71.07166727,  83.04840446,\n",
       "        59.45863755,  14.56583674, -20.54917648, -80.60304695,\n",
       "       -46.91333821, -75.14253398,  61.62991775, -64.94453752,\n",
       "        71.572795  , -73.70369612,  63.6774985 ,  60.89071882,\n",
       "       -45.06193219, -26.61381392, -42.04348209, -77.48137956,\n",
       "       -67.80398023,  -0.4709716 ,  71.73425971, -71.90049573,\n",
       "        25.15309714,  86.47832943,  -5.65464435,   4.00601727,\n",
       "       -89.65640457,  87.98493837, -11.36985607,  -6.34275508,\n",
       "       -76.38689246,  88.67835621])"
      ]
     },
     "execution_count": 10,
     "metadata": {},
     "output_type": "execute_result"
    }
   ],
   "source": [
    "np.random.uniform(-90.000, 90.000, size=50)"
   ]
  },
  {
   "cell_type": "code",
   "execution_count": 11,
   "metadata": {},
   "outputs": [
    {
     "name": "stdout",
     "output_type": "stream",
     "text": [
      "30.4 µs ± 601 ns per loop (mean ± std. dev. of 7 runs, 10000 loops each)\n"
     ]
    }
   ],
   "source": [
    "%timeit np.random.uniform(-90.000, 90.000, size=1500)"
   ]
  },
  {
   "cell_type": "code",
   "execution_count": 12,
   "metadata": {},
   "outputs": [
    {
     "name": "stdout",
     "output_type": "stream",
     "text": [
      "3.86 ms ± 43.8 µs per loop (mean ± std. dev. of 7 runs, 100 loops each)\n"
     ]
    }
   ],
   "source": [
    "def latitudes(size):\n",
    "    latitudes = []\n",
    "    x = 0\n",
    "    while x < (size):\n",
    "        random_lat = random.randint(-90, 90) + random.random()\n",
    "        latitudes.append(random_lat)\n",
    "        x += 1\n",
    "    return latitudes\n",
    "# Call the function with 1500.\n",
    "%timeit latitudes(1500)"
   ]
  },
  {
   "cell_type": "code",
   "execution_count": 13,
   "metadata": {},
   "outputs": [
    {
     "data": {
      "text/plain": [
       "<zip at 0x270727b4548>"
      ]
     },
     "execution_count": 13,
     "metadata": {},
     "output_type": "execute_result"
    }
   ],
   "source": [
    "# Create a set of random latitude and longitude combinations.\n",
    "lats = np.random.uniform(low=-90.000, high=90.000, size=1500)\n",
    "lngs = np.random.uniform(low=-180.000, high=180.000, size=1500)\n",
    "lat_lngs = zip(lats, lngs)\n",
    "lat_lngs"
   ]
  },
  {
   "cell_type": "code",
   "execution_count": 14,
   "metadata": {},
   "outputs": [],
   "source": [
    "# Create a practice set of random latitude and longitude combinations.\n",
    "x = [25.12903645, 25.92017388, 26.62509167, -59.98969384, 37.30571269]\n",
    "y = [-67.59741259, 11.09532135, 74.84233102, -76.89176677, -61.13376282]\n",
    "coordinates = zip(x, y)"
   ]
  },
  {
   "cell_type": "code",
   "execution_count": 15,
   "metadata": {},
   "outputs": [
    {
     "name": "stdout",
     "output_type": "stream",
     "text": [
      "25.12903645 -67.59741259\n",
      "25.92017388 11.09532135\n",
      "26.62509167 74.84233102\n",
      "-59.98969384 -76.89176677\n",
      "37.30571269 -61.13376282\n"
     ]
    }
   ],
   "source": [
    "# Use the tuple() function to display the latitude and longitude combinations.\n",
    "for coordinate in coordinates:\n",
    "    print(coordinate[0], coordinate[1])"
   ]
  },
  {
   "cell_type": "code",
   "execution_count": 16,
   "metadata": {},
   "outputs": [],
   "source": [
    "# Add the latitudes and longitudes to a list.\n",
    "coordinates = list(lat_lngs)"
   ]
  },
  {
   "cell_type": "code",
   "execution_count": 17,
   "metadata": {},
   "outputs": [],
   "source": [
    "# Use the citipy module to determine city based on latitude and longitude.\n",
    "from citipy import citipy"
   ]
  },
  {
   "cell_type": "code",
   "execution_count": 18,
   "metadata": {},
   "outputs": [
    {
     "data": {
      "text/plain": [
       "602"
      ]
     },
     "execution_count": 18,
     "metadata": {},
     "output_type": "execute_result"
    }
   ],
   "source": [
    "# Create a list for holding the cities.\n",
    "cities = []\n",
    "# Identify the nearest city for each latitude and longitude combination.\n",
    "for coordinate in coordinates:\n",
    "    city = citipy.nearest_city(coordinate[0], coordinate[1]).city_name\n",
    "\n",
    "    # If the city is unique, then we will add it to the cities list.\n",
    "    if city not in cities:\n",
    "        cities.append(city)\n",
    "# Print the city count to confirm sufficient count.\n",
    "len(cities)"
   ]
  },
  {
   "cell_type": "code",
   "execution_count": 19,
   "metadata": {},
   "outputs": [],
   "source": [
    "# Import the requests library.\n",
    "import requests\n",
    "\n",
    "# Import the API key.\n",
    "from config import weather_api_key"
   ]
  },
  {
   "cell_type": "code",
   "execution_count": 20,
   "metadata": {},
   "outputs": [
    {
     "name": "stdout",
     "output_type": "stream",
     "text": [
      "http://api.openweathermap.org/data/2.5/weather?units=Imperial&APPID=9e575b65f80f7c3b85f9d61d0d3852f3\n"
     ]
    }
   ],
   "source": [
    "# Starting URL for Weather Map API Call.\n",
    "url = \"http://api.openweathermap.org/data/2.5/weather?units=Imperial&APPID=\" + weather_api_key\n",
    "print(url)"
   ]
  },
  {
   "cell_type": "code",
   "execution_count": 21,
   "metadata": {},
   "outputs": [
    {
     "name": "stdout",
     "output_type": "stream",
     "text": [
      "http://api.openweathermap.org/data/2.5/weather?units=Imperial&APPID=9e575b65f80f7c3b85f9d61d0d3852f3&q=Boston\n"
     ]
    }
   ],
   "source": [
    "# Create an endpoint URL for a city.\n",
    "city_url = url + \"&q=\" + \"Boston\"\n",
    "print(city_url)"
   ]
  },
  {
   "cell_type": "code",
   "execution_count": 22,
   "metadata": {},
   "outputs": [
    {
     "data": {
      "text/plain": [
       "<Response [200]>"
      ]
     },
     "execution_count": 22,
     "metadata": {},
     "output_type": "execute_result"
    }
   ],
   "source": [
    "# Make a 'Get' request for the city weather.\n",
    "city_weather = requests.get(city_url)\n",
    "city_weather"
   ]
  },
  {
   "cell_type": "code",
   "execution_count": 23,
   "metadata": {},
   "outputs": [
    {
     "data": {
      "text/plain": [
       "<Response [404]>"
      ]
     },
     "execution_count": 23,
     "metadata": {},
     "output_type": "execute_result"
    }
   ],
   "source": [
    "# Create an endpoint URL for a city.\n",
    "city_url = url + \"&q=\" + \"Bston\"\n",
    "city_weather = requests.get(city_url)\n",
    "city_weather"
   ]
  },
  {
   "cell_type": "code",
   "execution_count": 24,
   "metadata": {},
   "outputs": [
    {
     "data": {
      "text/plain": [
       "<Response [200]>"
      ]
     },
     "execution_count": 24,
     "metadata": {},
     "output_type": "execute_result"
    }
   ],
   "source": [
    "# Create an endpoint URL for a city.\n",
    "city_url = url + \"&q=\" + \"Boston\"\n",
    "city_weather = requests.get(city_url)\n",
    "city_weather"
   ]
  },
  {
   "cell_type": "code",
   "execution_count": 25,
   "metadata": {},
   "outputs": [
    {
     "data": {
      "text/plain": [
       "'{\"coord\":{\"lon\":-71.06,\"lat\":42.36},\"weather\":[{\"id\":803,\"main\":\"Clouds\",\"description\":\"broken clouds\",\"icon\":\"04n\"}],\"base\":\"stations\",\"main\":{\"temp\":74.88,\"feels_like\":76.15,\"temp_min\":73,\"temp_max\":77,\"pressure\":1016,\"humidity\":78},\"visibility\":10000,\"wind\":{\"speed\":9.17,\"deg\":190},\"clouds\":{\"all\":75},\"dt\":1596338121,\"sys\":{\"type\":1,\"id\":3486,\"country\":\"US\",\"sunrise\":1596274633,\"sunset\":1596326624},\"timezone\":-14400,\"id\":4930956,\"name\":\"Boston\",\"cod\":200}'"
      ]
     },
     "execution_count": 25,
     "metadata": {},
     "output_type": "execute_result"
    }
   ],
   "source": [
    "# Get the text of the 'Get' request.\n",
    "city_weather.text"
   ]
  },
  {
   "cell_type": "code",
   "execution_count": 26,
   "metadata": {},
   "outputs": [
    {
     "data": {
      "text/plain": [
       "{'coord': {'lon': -71.06, 'lat': 42.36},\n",
       " 'weather': [{'id': 803,\n",
       "   'main': 'Clouds',\n",
       "   'description': 'broken clouds',\n",
       "   'icon': '04n'}],\n",
       " 'base': 'stations',\n",
       " 'main': {'temp': 74.88,\n",
       "  'feels_like': 76.15,\n",
       "  'temp_min': 73,\n",
       "  'temp_max': 77,\n",
       "  'pressure': 1016,\n",
       "  'humidity': 78},\n",
       " 'visibility': 10000,\n",
       " 'wind': {'speed': 9.17, 'deg': 190},\n",
       " 'clouds': {'all': 75},\n",
       " 'dt': 1596338121,\n",
       " 'sys': {'type': 1,\n",
       "  'id': 3486,\n",
       "  'country': 'US',\n",
       "  'sunrise': 1596274633,\n",
       "  'sunset': 1596326624},\n",
       " 'timezone': -14400,\n",
       " 'id': 4930956,\n",
       " 'name': 'Boston',\n",
       " 'cod': 200}"
      ]
     },
     "execution_count": 26,
     "metadata": {},
     "output_type": "execute_result"
    }
   ],
   "source": [
    "# Get the JSON text of the 'Get' request.\n",
    "city_weather.json()"
   ]
  },
  {
   "cell_type": "code",
   "execution_count": 27,
   "metadata": {},
   "outputs": [
    {
     "name": "stdout",
     "output_type": "stream",
     "text": [
      "City Weather found.\n"
     ]
    }
   ],
   "source": [
    "# Create an endpoint URL for a city.\n",
    "city_url = url + \"&q=\" + \"Boston\"\n",
    "city_weather = requests.get(city_url)\n",
    "if city_weather.status_code == 200:\n",
    "    print(f\"City Weather found.\")\n",
    "else:\n",
    "    print(f\"City weather not found.\")"
   ]
  },
  {
   "cell_type": "code",
   "execution_count": 28,
   "metadata": {},
   "outputs": [
    {
     "name": "stdout",
     "output_type": "stream",
     "text": [
      "City Weather found.\n"
     ]
    }
   ],
   "source": [
    "# Create an endpoint URL for a city.\n",
    "city_url = url + \"&q=\" + \"Bston\"\n",
    "city_weather = requests.get(city_url)\n",
    "if city_weather.json():\n",
    "    print(f\"City Weather found.\")\n",
    "else:\n",
    "    print(f\"City weather not found.\")"
   ]
  },
  {
   "cell_type": "code",
   "execution_count": 29,
   "metadata": {},
   "outputs": [
    {
     "data": {
      "text/plain": [
       "{'coord': {'lon': -71.06, 'lat': 42.36},\n",
       " 'weather': [{'id': 803,\n",
       "   'main': 'Clouds',\n",
       "   'description': 'broken clouds',\n",
       "   'icon': '04n'}],\n",
       " 'base': 'stations',\n",
       " 'main': {'temp': 74.88,\n",
       "  'feels_like': 76.15,\n",
       "  'temp_min': 73,\n",
       "  'temp_max': 77,\n",
       "  'pressure': 1016,\n",
       "  'humidity': 78},\n",
       " 'visibility': 10000,\n",
       " 'wind': {'speed': 9.17, 'deg': 190},\n",
       " 'clouds': {'all': 75},\n",
       " 'dt': 1596338121,\n",
       " 'sys': {'type': 1,\n",
       "  'id': 3486,\n",
       "  'country': 'US',\n",
       "  'sunrise': 1596274633,\n",
       "  'sunset': 1596326624},\n",
       " 'timezone': -14400,\n",
       " 'id': 4930956,\n",
       " 'name': 'Boston',\n",
       " 'cod': 200}"
      ]
     },
     "execution_count": 29,
     "metadata": {},
     "output_type": "execute_result"
    }
   ],
   "source": [
    "# Create an endpoint URL for a city.\n",
    "city_url = url + \"&q=\" + \"Boston\"\n",
    "city_weather = requests.get(city_url)\n",
    "city_weather.json()"
   ]
  },
  {
   "cell_type": "code",
   "execution_count": 30,
   "metadata": {},
   "outputs": [],
   "source": [
    "# Get the JSON data.\n",
    "boston_data = city_weather.json()"
   ]
  },
  {
   "cell_type": "code",
   "execution_count": 31,
   "metadata": {},
   "outputs": [
    {
     "data": {
      "text/plain": [
       "{'type': 1,\n",
       " 'id': 3486,\n",
       " 'country': 'US',\n",
       " 'sunrise': 1596274633,\n",
       " 'sunset': 1596326624}"
      ]
     },
     "execution_count": 31,
     "metadata": {},
     "output_type": "execute_result"
    }
   ],
   "source": [
    "boston_data[\"sys\"]"
   ]
  },
  {
   "cell_type": "code",
   "execution_count": 32,
   "metadata": {},
   "outputs": [
    {
     "data": {
      "text/plain": [
       "'US'"
      ]
     },
     "execution_count": 32,
     "metadata": {},
     "output_type": "execute_result"
    }
   ],
   "source": [
    "boston_data[\"sys\"][\"country\"]"
   ]
  },
  {
   "cell_type": "code",
   "execution_count": 33,
   "metadata": {},
   "outputs": [
    {
     "data": {
      "text/plain": [
       "({'coord': {'lon': -71.06, 'lat': 42.36},\n",
       "  'weather': [{'id': 803,\n",
       "    'main': 'Clouds',\n",
       "    'description': 'broken clouds',\n",
       "    'icon': '04n'}],\n",
       "  'base': 'stations',\n",
       "  'main': {'temp': 74.88,\n",
       "   'feels_like': 76.15,\n",
       "   'temp_min': 73,\n",
       "   'temp_max': 77,\n",
       "   'pressure': 1016,\n",
       "   'humidity': 78},\n",
       "  'visibility': 10000,\n",
       "  'wind': {'speed': 9.17, 'deg': 190},\n",
       "  'clouds': {'all': 75},\n",
       "  'dt': 1596338121,\n",
       "  'sys': {'type': 1,\n",
       "   'id': 3486,\n",
       "   'country': 'US',\n",
       "   'sunrise': 1596274633,\n",
       "   'sunset': 1596326624},\n",
       "  'timezone': -14400,\n",
       "  'id': 4930956,\n",
       "  'name': 'Boston',\n",
       "  'cod': 200},\n",
       " ['dt'])"
      ]
     },
     "execution_count": 33,
     "metadata": {},
     "output_type": "execute_result"
    }
   ],
   "source": [
    "boston_data,[\"dt\"]"
   ]
  },
  {
   "cell_type": "code",
   "execution_count": 34,
   "metadata": {},
   "outputs": [
    {
     "name": "stdout",
     "output_type": "stream",
     "text": [
      "42.36 -71.06 77 78 75 9.17\n"
     ]
    }
   ],
   "source": [
    "lat = boston_data[\"coord\"][\"lat\"]\n",
    "lng = boston_data[\"coord\"][\"lon\"]\n",
    "max_temp = boston_data[\"main\"][\"temp_max\"]\n",
    "humidity = boston_data[\"main\"][\"humidity\"]\n",
    "clouds = boston_data[\"clouds\"][\"all\"]\n",
    "wind = boston_data[\"wind\"][\"speed\"]\n",
    "print(lat, lng, max_temp, humidity, clouds, wind)"
   ]
  },
  {
   "cell_type": "code",
   "execution_count": 35,
   "metadata": {},
   "outputs": [
    {
     "data": {
      "text/plain": [
       "({'coord': {'lon': -71.06, 'lat': 42.36},\n",
       "  'weather': [{'id': 803,\n",
       "    'main': 'Clouds',\n",
       "    'description': 'broken clouds',\n",
       "    'icon': '04n'}],\n",
       "  'base': 'stations',\n",
       "  'main': {'temp': 74.88,\n",
       "   'feels_like': 76.15,\n",
       "   'temp_min': 73,\n",
       "   'temp_max': 77,\n",
       "   'pressure': 1016,\n",
       "   'humidity': 78},\n",
       "  'visibility': 10000,\n",
       "  'wind': {'speed': 9.17, 'deg': 190},\n",
       "  'clouds': {'all': 75},\n",
       "  'dt': 1596338121,\n",
       "  'sys': {'type': 1,\n",
       "   'id': 3486,\n",
       "   'country': 'US',\n",
       "   'sunrise': 1596274633,\n",
       "   'sunset': 1596326624},\n",
       "  'timezone': -14400,\n",
       "  'id': 4930956,\n",
       "  'name': 'Boston',\n",
       "  'cod': 200},\n",
       " ['dt'])"
      ]
     },
     "execution_count": 35,
     "metadata": {},
     "output_type": "execute_result"
    }
   ],
   "source": [
    "boston_data,[\"dt\"]"
   ]
  },
  {
   "cell_type": "code",
   "execution_count": 36,
   "metadata": {},
   "outputs": [
    {
     "data": {
      "text/plain": [
       "datetime.datetime(2020, 8, 2, 3, 15, 21)"
      ]
     },
     "execution_count": 36,
     "metadata": {},
     "output_type": "execute_result"
    }
   ],
   "source": [
    "# Import the datetime module from the datetime library.\n",
    "from datetime import datetime\n",
    "# Get the date from the JSON file.\n",
    "date = boston_data[\"dt\"]\n",
    "# Convert the UTC date to a date format with year, month, day, hours, minutes, and seconds.\n",
    "datetime.utcfromtimestamp(date)"
   ]
  },
  {
   "cell_type": "code",
   "execution_count": 37,
   "metadata": {},
   "outputs": [],
   "source": [
    "# Import the datetime module from the datetime library.\n",
    "from datetime import datetime"
   ]
  },
  {
   "cell_type": "code",
   "execution_count": 38,
   "metadata": {},
   "outputs": [
    {
     "name": "stdout",
     "output_type": "stream",
     "text": [
      "Beginning Data Retrieval     \n",
      "-----------------------------\n"
     ]
    }
   ],
   "source": [
    "# Create an empty list to hold the weather data.\n",
    "city_data = []\n",
    "# Print the beginning of the logging.\n",
    "print(\"Beginning Data Retrieval     \")\n",
    "print(\"-----------------------------\")\n",
    "\n",
    "# Create counters.\n",
    "record_count = 1\n",
    "set_count = 1"
   ]
  },
  {
   "cell_type": "code",
   "execution_count": 39,
   "metadata": {},
   "outputs": [],
   "source": [
    "# Loop through all the cities in our list.\n",
    "for i in range(len(cities)):\n",
    "\n",
    "    # Group cities in sets of 50 for logging purposes.\n",
    "    if (i % 50 == 0 and i >= 50):\n",
    "        set_count += 1\n",
    "        record_count = 1\n",
    "    # Create endpoint URL with each city.\n",
    "    city_url = url + \"&q=\" + \"i\""
   ]
  },
  {
   "cell_type": "code",
   "execution_count": null,
   "metadata": {},
   "outputs": [],
   "source": [
    "for i, item in enumerate(list):"
   ]
  },
  {
   "cell_type": "code",
   "execution_count": 40,
   "metadata": {},
   "outputs": [
    {
     "name": "stdout",
     "output_type": "stream",
     "text": [
      "Processing Record 1 of Set 13 | chalon-sur-saone\n",
      "Processing Record 2 of Set 13 | butaritari\n",
      "Processing Record 3 of Set 13 | ust-tsilma\n",
      "Processing Record 4 of Set 13 | catuday\n",
      "Processing Record 5 of Set 13 | college\n",
      "Processing Record 6 of Set 13 | cabo san lucas\n",
      "Processing Record 7 of Set 13 | pisco\n",
      "Processing Record 8 of Set 13 | ninghai\n",
      "Processing Record 9 of Set 13 | busselton\n",
      "Processing Record 10 of Set 13 | albany\n",
      "Processing Record 11 of Set 13 | puerto ayora\n",
      "Processing Record 12 of Set 13 | bengkulu\n",
      "Processing Record 13 of Set 13 | kapaa\n",
      "Processing Record 14 of Set 13 | punta arenas\n",
      "Processing Record 15 of Set 13 | rikitea\n",
      "Processing Record 16 of Set 13 | arraial do cabo\n",
      "Processing Record 17 of Set 13 | sentyabrskiy\n",
      "Processing Record 18 of Set 13 | georgetown\n",
      "Processing Record 19 of Set 13 | fortuna\n",
      "Processing Record 20 of Set 13 | gap\n",
      "Processing Record 21 of Set 13 | mataura\n",
      "Processing Record 22 of Set 13 | san quintin\n",
      "Processing Record 23 of Set 13 | grand river south east\n",
      "Processing Record 24 of Set 13 | wajima\n",
      "Processing Record 25 of Set 13 | ushuaia\n",
      "Processing Record 26 of Set 13 | ust-nera\n",
      "Processing Record 27 of Set 13 | eyl\n",
      "Processing Record 28 of Set 13 | saurimo\n",
      "Processing Record 29 of Set 13 | springbok\n",
      "Processing Record 30 of Set 13 | chibuto\n",
      "Processing Record 31 of Set 13 | barrow\n",
      "Processing Record 32 of Set 13 | vaini\n",
      "Processing Record 33 of Set 13 | balassagyarmat\n",
      "Processing Record 34 of Set 13 | lebu\n",
      "Processing Record 35 of Set 13 | hirara\n",
      "Processing Record 36 of Set 13 | filadelfia\n",
      "Processing Record 37 of Set 13 | popondetta\n",
      "Processing Record 38 of Set 13 | faanui\n",
      "Processing Record 39 of Set 13 | leland\n",
      "Processing Record 40 of Set 13 | cape town\n",
      "Processing Record 41 of Set 13 | zachagansk\n",
      "Processing Record 42 of Set 13 | lavrentiya\n",
      "Processing Record 43 of Set 13 | okha\n",
      "Processing Record 44 of Set 13 | kismayo\n",
      "Processing Record 45 of Set 13 | chokurdakh\n",
      "Processing Record 46 of Set 13 | hilo\n",
      "Processing Record 47 of Set 13 | sofiysk\n",
      "Processing Record 48 of Set 13 | dunedin\n",
      "Processing Record 49 of Set 13 | komsomolskiy\n",
      "Processing Record 50 of Set 13 | flagstaff\n",
      "Processing Record 1 of Set 14 | port blair\n",
      "Processing Record 2 of Set 14 | samarai\n",
      "Processing Record 3 of Set 14 | cidreira\n",
      "Processing Record 4 of Set 14 | saldanha\n",
      "Processing Record 5 of Set 14 | esperance\n",
      "Processing Record 6 of Set 14 | annau\n",
      "Processing Record 7 of Set 14 | vao\n",
      "Processing Record 8 of Set 14 | marv dasht\n",
      "Processing Record 9 of Set 14 | san jose\n",
      "Processing Record 10 of Set 14 | mayo\n",
      "Processing Record 11 of Set 14 | coquimbo\n",
      "Processing Record 12 of Set 14 | khatanga\n",
      "Processing Record 13 of Set 14 | hobart\n",
      "Processing Record 14 of Set 14 | sao joao da barra\n",
      "Processing Record 15 of Set 14 | hithadhoo\n",
      "Processing Record 16 of Set 14 | terrace\n",
      "Processing Record 17 of Set 14 | torbay\n",
      "Processing Record 18 of Set 14 | yellowknife\n",
      "Processing Record 19 of Set 14 | iqaluit\n",
      "Processing Record 20 of Set 14 | cockburn town\n",
      "Processing Record 21 of Set 14 | tiznit\n",
      "Processing Record 22 of Set 14 | shizunai\n",
      "Processing Record 23 of Set 14 | pevek\n",
      "Processing Record 24 of Set 14 | lata\n",
      "Processing Record 25 of Set 14 | chadan\n",
      "Processing Record 26 of Set 14 | belushya guba\n",
      "Processing Record 27 of Set 14 | hermanus\n",
      "Processing Record 28 of Set 14 | lorengau\n",
      "Processing Record 29 of Set 14 | houma\n",
      "Processing Record 30 of Set 14 | abu samrah\n",
      "Processing Record 31 of Set 14 | tiksi\n",
      "Processing Record 32 of Set 14 | ankang\n",
      "Processing Record 33 of Set 14 | mahebourg\n",
      "Processing Record 34 of Set 14 | mar del plata\n",
      "Processing Record 35 of Set 14 | cherskiy\n",
      "Processing Record 36 of Set 14 | upernavik\n",
      "Processing Record 37 of Set 14 | avarua\n",
      "Processing Record 38 of Set 14 | castro\n",
      "Processing Record 39 of Set 14 | balkhash\n",
      "Processing Record 40 of Set 14 | khandyga\n",
      "Processing Record 41 of Set 14 | bluff\n",
      "Processing Record 42 of Set 14 | marsabit\n",
      "Processing Record 43 of Set 14 | flin flon\n",
      "Processing Record 44 of Set 14 | provideniya\n",
      "Processing Record 45 of Set 14 | ribeira grande\n",
      "Processing Record 46 of Set 14 | bethel\n",
      "Processing Record 47 of Set 14 | jucuaran\n",
      "Processing Record 48 of Set 14 | puerto leguizamo\n",
      "Processing Record 49 of Set 14 | alta floresta\n",
      "Processing Record 50 of Set 14 | pirovskoye\n",
      "Processing Record 1 of Set 15 | roald\n",
      "Processing Record 2 of Set 15 | taolanaro\n",
      "Processing Record 3 of Set 15 | qaanaaq\n",
      "Processing Record 4 of Set 15 | amderma\n",
      "Processing Record 5 of Set 15 | bambari\n",
      "Processing Record 6 of Set 15 | dikson\n",
      "Processing Record 7 of Set 15 | udachnyy\n",
      "Processing Record 8 of Set 15 | dudinka\n",
      "Processing Record 9 of Set 15 | rawson\n",
      "Processing Record 10 of Set 15 | marawi\n",
      "Processing Record 11 of Set 15 | port elizabeth\n",
      "Processing Record 12 of Set 15 | thompson\n",
      "Processing Record 13 of Set 15 | padang\n",
      "Processing Record 14 of Set 15 | carnarvon\n",
      "Processing Record 15 of Set 15 | mecca\n",
      "Processing Record 16 of Set 15 | ahuimanu\n",
      "Processing Record 17 of Set 15 | wukari\n",
      "Processing Record 18 of Set 15 | guerrero negro\n",
      "Processing Record 19 of Set 15 | barentsburg\n",
      "Processing Record 20 of Set 15 | new norfolk\n",
      "Processing Record 21 of Set 15 | santa luzia\n",
      "Processing Record 22 of Set 15 | muyezerskiy\n",
      "Processing Record 23 of Set 15 | lujan\n",
      "Processing Record 24 of Set 15 | ejido\n",
      "Processing Record 25 of Set 15 | illoqqortoormiut\n",
      "Processing Record 26 of Set 15 | khonuu\n",
      "Processing Record 27 of Set 15 | longyearbyen\n",
      "Processing Record 28 of Set 15 | sovetskiy\n",
      "Processing Record 29 of Set 15 | nanortalik\n",
      "Processing Record 30 of Set 15 | houston\n",
      "Processing Record 31 of Set 15 | mys shmidta\n",
      "Processing Record 32 of Set 15 | danielskuil\n",
      "Processing Record 33 of Set 15 | dimona\n",
      "Processing Record 34 of Set 15 | newala\n",
      "Processing Record 35 of Set 15 | buraydah\n",
      "Processing Record 36 of Set 15 | beringovskiy\n",
      "Processing Record 37 of Set 15 | tuktoyaktuk\n",
      "Processing Record 38 of Set 15 | tucuman\n",
      "Processing Record 39 of Set 15 | oussouye\n",
      "Processing Record 40 of Set 15 | menongue\n",
      "Processing Record 41 of Set 15 | chulman\n",
      "Processing Record 42 of Set 15 | necochea\n",
      "Processing Record 43 of Set 15 | kruisfontein\n",
      "Processing Record 44 of Set 15 | vila franca do campo\n",
      "Processing Record 45 of Set 15 | goba\n",
      "Processing Record 46 of Set 15 | dicabisagan\n",
      "Processing Record 47 of Set 15 | olafsvik\n",
      "Processing Record 48 of Set 15 | severo-kurilsk\n",
      "Processing Record 49 of Set 15 | kodiak\n",
      "Processing Record 50 of Set 15 | sur\n",
      "Processing Record 1 of Set 16 | kasempa\n",
      "Processing Record 2 of Set 16 | nioki\n",
      "Processing Record 3 of Set 16 | hailar\n",
      "Processing Record 4 of Set 16 | port alfred\n",
      "Processing Record 5 of Set 16 | santa catarina de tepehuanes\n",
      "Processing Record 6 of Set 16 | saint george\n",
      "Processing Record 7 of Set 16 | shaowu\n",
      "Processing Record 8 of Set 16 | buala\n",
      "Processing Record 9 of Set 16 | litovko\n",
      "Processing Record 10 of Set 16 | lagoa\n",
      "Processing Record 11 of Set 16 | alofi\n",
      "Processing Record 12 of Set 16 | yei\n",
      "Processing Record 13 of Set 16 | ostrovnoy\n",
      "Processing Record 14 of Set 16 | tilhar\n",
      "Processing Record 15 of Set 16 | bambous virieux\n",
      "Processing Record 16 of Set 16 | bredasdorp\n",
      "Processing Record 17 of Set 16 | evensk\n",
      "Processing Record 18 of Set 16 | jamestown\n",
      "Processing Record 19 of Set 16 | madimba\n",
      "Processing Record 20 of Set 16 | muzhi\n",
      "Processing Record 21 of Set 16 | wenling\n",
      "Processing Record 22 of Set 16 | nautla\n",
      "Processing Record 23 of Set 16 | tremedal\n",
      "Processing Record 24 of Set 16 | vila velha\n",
      "Processing Record 25 of Set 16 | atuona\n",
      "Processing Record 26 of Set 16 | loandjili\n",
      "Processing Record 27 of Set 16 | cam ranh\n",
      "Processing Record 28 of Set 16 | chuy\n",
      "Processing Record 29 of Set 16 | xining\n",
      "Processing Record 30 of Set 16 | morondava\n",
      "Processing Record 31 of Set 16 | luderitz\n",
      "Processing Record 32 of Set 16 | wuwei\n",
      "Processing Record 33 of Set 16 | tumannyy\n",
      "Processing Record 34 of Set 16 | gurskoye\n",
      "Processing Record 35 of Set 16 | sakakah\n",
      "Processing Record 36 of Set 16 | marzuq\n",
      "Processing Record 37 of Set 16 | quatre cocos\n",
      "Processing Record 38 of Set 16 | warrington\n",
      "Processing Record 39 of Set 16 | gambela\n",
      "Processing Record 40 of Set 16 | klaksvik\n",
      "Processing Record 41 of Set 16 | atambua\n",
      "Processing Record 42 of Set 16 | codrington\n",
      "Processing Record 43 of Set 16 | ponta do sol\n",
      "Processing Record 44 of Set 16 | saint-augustin\n",
      "Processing Record 45 of Set 16 | victoria\n",
      "Processing Record 46 of Set 16 | henties bay\n",
      "Processing Record 47 of Set 16 | geraldton\n",
      "Processing Record 48 of Set 16 | longido\n",
      "Processing Record 49 of Set 16 | karratha\n",
      "Processing Record 50 of Set 16 | mount darwin\n",
      "Processing Record 1 of Set 17 | gwadar\n",
      "Processing Record 2 of Set 17 | saint-philippe\n",
      "Processing Record 3 of Set 17 | antalaha\n",
      "Processing Record 4 of Set 17 | east london\n",
      "Processing Record 5 of Set 17 | huarmey\n",
      "Processing Record 6 of Set 17 | kavaratti\n",
      "Processing Record 7 of Set 17 | beruwala\n",
      "Processing Record 8 of Set 17 | lompoc\n",
      "Processing Record 9 of Set 17 | borama\n",
      "Processing Record 10 of Set 17 | nizhneyansk\n",
      "Processing Record 11 of Set 17 | airai\n",
      "Processing Record 12 of Set 17 | nguiu\n",
      "Processing Record 13 of Set 17 | kourou\n",
      "Processing Record 14 of Set 17 | kuching\n",
      "Processing Record 15 of Set 17 | ixtapa\n",
      "Processing Record 16 of Set 17 | mandalgovi\n",
      "Processing Record 17 of Set 17 | dongling\n",
      "Processing Record 18 of Set 17 | salalah\n",
      "Processing Record 19 of Set 17 | raymondville\n",
      "Processing Record 20 of Set 17 | berbera\n",
      "Processing Record 21 of Set 17 | portland\n",
      "Processing Record 22 of Set 17 | barbar\n",
      "Processing Record 23 of Set 17 | gbarnga\n",
      "Processing Record 24 of Set 17 | alghero\n",
      "Processing Record 25 of Set 17 | uruzgan\n",
      "Processing Record 26 of Set 17 | saint-pierre\n",
      "Processing Record 27 of Set 17 | karaul\n",
      "Processing Record 28 of Set 17 | saleaula\n",
      "Processing Record 29 of Set 17 | tsihombe\n",
      "Processing Record 30 of Set 17 | vaitupu\n",
      "Processing Record 31 of Set 17 | nishihara\n",
      "Processing Record 32 of Set 17 | saskylakh\n",
      "Processing Record 33 of Set 17 | krasnyy yar\n",
      "Processing Record 34 of Set 17 | warqla\n",
      "Processing Record 35 of Set 17 | duncan\n",
      "Processing Record 36 of Set 17 | lethem\n",
      "Processing Record 37 of Set 17 | elizabethtown\n",
      "Processing Record 38 of Set 17 | laguna\n",
      "Processing Record 39 of Set 17 | kangaba\n",
      "Processing Record 40 of Set 17 | wufeng\n",
      "Processing Record 41 of Set 17 | ulaangom\n",
      "Processing Record 42 of Set 17 | kota kinabalu\n",
      "Processing Record 43 of Set 17 | hokitika\n",
      "Processing Record 44 of Set 17 | la romana\n",
      "Processing Record 45 of Set 17 | rungata\n",
      "Processing Record 46 of Set 17 | sao filipe\n",
      "Processing Record 47 of Set 17 | talnakh\n",
      "Processing Record 48 of Set 17 | buqayq\n",
      "Processing Record 49 of Set 17 | ilulissat\n",
      "Processing Record 50 of Set 17 | bolungarvik\n",
      "Processing Record 1 of Set 18 | constitucion\n",
      "Processing Record 2 of Set 18 | marystown\n",
      "Processing Record 3 of Set 18 | tura\n",
      "Processing Record 4 of Set 18 | skibbereen\n",
      "Processing Record 5 of Set 18 | tasiilaq\n",
      "Processing Record 6 of Set 18 | bonthe\n",
      "Processing Record 7 of Set 18 | crixas\n",
      "Processing Record 8 of Set 18 | zharkent\n",
      "Processing Record 9 of Set 18 | kasangulu\n",
      "Processing Record 10 of Set 18 | kaka\n",
      "Processing Record 11 of Set 18 | fuerte\n",
      "Processing Record 12 of Set 18 | gat\n",
      "Processing Record 13 of Set 18 | conde\n",
      "Processing Record 14 of Set 18 | samusu\n",
      "Processing Record 15 of Set 18 | naze\n",
      "Processing Record 16 of Set 18 | krasnoyarsk-45\n",
      "Processing Record 17 of Set 18 | palauig\n",
      "Processing Record 18 of Set 18 | dong hoi\n",
      "Processing Record 19 of Set 18 | qabis\n",
      "Processing Record 20 of Set 18 | fukuma\n",
      "Processing Record 21 of Set 18 | tabuk\n",
      "Processing Record 22 of Set 18 | palmer\n",
      "Processing Record 23 of Set 18 | miranda\n",
      "Processing Record 24 of Set 18 | flinders\n",
      "Processing Record 25 of Set 18 | asau\n",
      "Processing Record 26 of Set 18 | port augusta\n",
      "Processing Record 27 of Set 18 | andevoranto\n",
      "Processing Record 28 of Set 18 | cap malheureux\n",
      "Processing Record 29 of Set 18 | puerto escondido\n",
      "Processing Record 30 of Set 18 | mindelo\n",
      "Processing Record 31 of Set 18 | mayor pablo lagerenza\n",
      "Processing Record 32 of Set 18 | sabang\n",
      "Processing Record 33 of Set 18 | muros\n",
      "Processing Record 34 of Set 18 | ketchikan\n",
      "Processing Record 35 of Set 18 | bukachacha\n",
      "Processing Record 36 of Set 18 | broken hill\n",
      "Processing Record 37 of Set 18 | husavik\n",
      "Processing Record 38 of Set 18 | warsaw\n",
      "Processing Record 39 of Set 18 | muzaffarabad\n",
      "Processing Record 40 of Set 18 | reno\n",
      "Processing Record 41 of Set 18 | wajir\n",
      "Processing Record 42 of Set 18 | rawannawi\n",
      "Processing Record 43 of Set 18 | araraquara\n",
      "Processing Record 44 of Set 18 | ghanzi\n",
      "Processing Record 45 of Set 18 | kudahuvadhoo\n",
      "Processing Record 46 of Set 18 | port lincoln\n",
      "Processing Record 47 of Set 18 | mae sai\n",
      "Processing Record 48 of Set 18 | attawapiskat\n",
      "Processing Record 49 of Set 18 | marabba\n",
      "Processing Record 50 of Set 18 | dekar\n",
      "Processing Record 1 of Set 19 | naugarzan\n",
      "Processing Record 2 of Set 19 | chabahar\n",
      "Processing Record 3 of Set 19 | malakal\n",
      "Processing Record 4 of Set 19 | broome\n",
      "Processing Record 5 of Set 19 | palencia\n",
      "Processing Record 6 of Set 19 | bonavista\n",
      "Processing Record 7 of Set 19 | astoria\n",
      "Processing Record 8 of Set 19 | erdenet\n",
      "Processing Record 9 of Set 19 | pacific grove\n",
      "Processing Record 10 of Set 19 | yeniseysk\n",
      "Processing Record 11 of Set 19 | leningradskiy\n",
      "Processing Record 12 of Set 19 | berlevag\n",
      "Processing Record 13 of Set 19 | nemuro\n",
      "Processing Record 14 of Set 19 | zhigansk\n",
      "Processing Record 15 of Set 19 | dingle\n",
      "Processing Record 16 of Set 19 | fergus falls\n",
      "Processing Record 17 of Set 19 | batagay\n",
      "Processing Record 18 of Set 19 | deming\n",
      "Processing Record 19 of Set 19 | tigil\n",
      "Processing Record 20 of Set 19 | la ronge\n",
      "Processing Record 21 of Set 19 | nikolskoye\n",
      "Processing Record 22 of Set 19 | kandrian\n",
      "Processing Record 23 of Set 19 | nyamati\n",
      "Processing Record 24 of Set 19 | narsaq\n",
      "Processing Record 25 of Set 19 | obihiro\n",
      "Processing Record 26 of Set 19 | albury\n",
      "Processing Record 27 of Set 19 | nokaneng\n",
      "Processing Record 28 of Set 19 | fairbanks\n",
      "Processing Record 29 of Set 19 | catamarca\n",
      "Processing Record 30 of Set 19 | westport\n",
      "Processing Record 31 of Set 19 | rancho palos verdes\n",
      "Processing Record 32 of Set 19 | vestmannaeyjar\n",
      "Processing Record 33 of Set 19 | harwich\n",
      "Processing Record 34 of Set 19 | ratnagiri\n",
      "Processing Record 35 of Set 19 | rockport\n",
      "Processing Record 36 of Set 19 | wa\n",
      "Processing Record 37 of Set 19 | awjilah\n",
      "Processing Record 38 of Set 19 | qarqin\n",
      "Processing Record 39 of Set 19 | beloha\n",
      "Processing Record 40 of Set 19 | sangar\n",
      "Processing Record 41 of Set 19 | ibaiti\n",
      "Processing Record 42 of Set 19 | mahajanga\n",
      "Processing Record 43 of Set 19 | basco\n",
      "Processing Record 44 of Set 19 | touros\n",
      "Processing Record 45 of Set 19 | palabuhanratu\n",
      "Processing Record 46 of Set 19 | cayenne\n",
      "Processing Record 47 of Set 19 | hamilton\n",
      "Processing Record 48 of Set 19 | sukhoverkovo\n",
      "Processing Record 49 of Set 19 | sept-iles\n",
      "Processing Record 50 of Set 19 | progreso\n",
      "Processing Record 1 of Set 20 | storforshei\n",
      "Processing Record 2 of Set 20 | surop\n",
      "Processing Record 3 of Set 20 | ozernovskiy\n",
      "Processing Record 4 of Set 20 | stephenville\n",
      "Processing Record 5 of Set 20 | nanga eboko\n",
      "Processing Record 6 of Set 20 | luganville\n",
      "Processing Record 7 of Set 20 | ongandjera\n",
      "Processing Record 8 of Set 20 | malanje\n",
      "Processing Record 9 of Set 20 | ilave\n",
      "Processing Record 10 of Set 20 | rakiv lis\n",
      "Processing Record 11 of Set 20 | belyy yar\n",
      "Processing Record 12 of Set 20 | kahului\n",
      "Processing Record 13 of Set 20 | nanyuki\n",
      "Processing Record 14 of Set 20 | tortoli\n",
      "Processing Record 15 of Set 20 | erzin\n",
      "Processing Record 16 of Set 20 | porto seguro\n",
      "Processing Record 17 of Set 20 | jiazi\n",
      "Processing Record 18 of Set 20 | udaipura\n",
      "Processing Record 19 of Set 20 | alekseyevsk\n",
      "Processing Record 20 of Set 20 | joshimath\n",
      "Processing Record 21 of Set 20 | cooma\n",
      "Processing Record 22 of Set 20 | paidha\n",
      "Processing Record 23 of Set 20 | taicheng\n",
      "Processing Record 24 of Set 20 | tavares\n",
      "Processing Record 25 of Set 20 | palana\n",
      "Processing Record 26 of Set 20 | nueve de julio\n",
      "Processing Record 27 of Set 20 | baruun-urt\n",
      "Processing Record 28 of Set 20 | hunza\n",
      "Processing Record 29 of Set 20 | gazli\n",
      "Processing Record 30 of Set 20 | wanning\n",
      "Processing Record 31 of Set 20 | troitskoye\n",
      "Processing Record 32 of Set 20 | souillac\n",
      "Processing Record 33 of Set 20 | rovaniemi\n",
      "Processing Record 34 of Set 20 | paso de carrasco\n",
      "Processing Record 35 of Set 20 | havoysund\n",
      "Processing Record 36 of Set 20 | phan thiet\n",
      "Processing Record 37 of Set 20 | labuhan\n",
      "Processing Record 38 of Set 20 | paita\n",
      "Processing Record 39 of Set 20 | vichayal\n",
      "Processing Record 40 of Set 20 | vypolzovo\n",
      "Processing Record 41 of Set 20 | akureyri\n",
      "Processing Record 42 of Set 20 | vermillion\n",
      "Processing Record 43 of Set 20 | bargal\n",
      "Processing Record 44 of Set 20 | pitimbu\n",
      "Processing Record 45 of Set 20 | shu\n",
      "Processing Record 46 of Set 20 | haines junction\n",
      "Processing Record 47 of Set 20 | avera\n",
      "Processing Record 48 of Set 20 | guanica\n",
      "Processing Record 49 of Set 20 | daru\n",
      "Processing Record 50 of Set 20 | manokwari\n",
      "Processing Record 1 of Set 21 | coari\n",
      "Processing Record 2 of Set 21 | ternate\n",
      "Processing Record 3 of Set 21 | acapulco\n",
      "Processing Record 4 of Set 21 | shetpe\n",
      "Processing Record 5 of Set 21 | santa marta\n",
      "Processing Record 6 of Set 21 | izvoarele sucevei\n",
      "Processing Record 7 of Set 21 | marica\n",
      "Processing Record 8 of Set 21 | kambam\n",
      "Processing Record 9 of Set 21 | clyde river\n",
      "Processing Record 10 of Set 21 | rocha\n",
      "Processing Record 11 of Set 21 | moranbah\n",
      "Processing Record 12 of Set 21 | union\n",
      "Processing Record 13 of Set 21 | mana\n",
      "Processing Record 14 of Set 21 | krosno odrzanskie\n",
      "Processing Record 15 of Set 21 | batagay-alyta\n",
      "Processing Record 16 of Set 21 | sao felix do xingu\n",
      "Processing Record 17 of Set 21 | te anau\n",
      "Processing Record 18 of Set 21 | tarut\n",
      "Processing Record 19 of Set 21 | januaria\n",
      "Processing Record 20 of Set 21 | vardo\n",
      "Processing Record 21 of Set 21 | comodoro rivadavia\n",
      "Processing Record 22 of Set 21 | castelnaudary\n",
      "Processing Record 23 of Set 21 | krasnoselkup\n",
      "Processing Record 24 of Set 21 | umzimvubu\n",
      "Processing Record 25 of Set 21 | hovd\n",
      "Processing Record 26 of Set 21 | mtimbira\n",
      "Processing Record 27 of Set 21 | kalmunai\n",
      "Processing Record 28 of Set 21 | nguruka\n",
      "Processing Record 29 of Set 21 | ukiah\n",
      "Processing Record 30 of Set 21 | aksarka\n",
      "Processing Record 31 of Set 21 | severnyy\n",
      "Processing Record 32 of Set 21 | chokwe\n",
      "Processing Record 33 of Set 21 | mildura\n",
      "Processing Record 34 of Set 21 | ust-tarka\n",
      "Processing Record 35 of Set 21 | hun\n",
      "Processing Record 36 of Set 21 | envira\n",
      "Processing Record 37 of Set 21 | goderich\n",
      "Processing Record 38 of Set 21 | labrea\n",
      "Processing Record 39 of Set 21 | saint anthony\n",
      "Processing Record 40 of Set 21 | grindavik\n",
      "Processing Record 41 of Set 21 | san cristobal\n",
      "Processing Record 42 of Set 21 | sukumo\n",
      "Processing Record 43 of Set 21 | biharamulo\n",
      "Processing Record 44 of Set 21 | callaguip\n",
      "Processing Record 45 of Set 21 | puksoozero\n",
      "Processing Record 46 of Set 21 | aklavik\n",
      "Processing Record 47 of Set 21 | egvekinot\n",
      "Processing Record 48 of Set 21 | metro\n",
      "Processing Record 49 of Set 21 | saint-ambroise\n",
      "Processing Record 50 of Set 21 | taltal\n",
      "Processing Record 1 of Set 22 | vostok\n",
      "Processing Record 2 of Set 22 | baykit\n",
      "Processing Record 3 of Set 22 | rincon de la victoria\n",
      "Processing Record 4 of Set 22 | kaitangata\n",
      "Processing Record 5 of Set 22 | saint-georges\n",
      "Processing Record 6 of Set 22 | benghazi\n",
      "Processing Record 7 of Set 22 | norman wells\n",
      "Processing Record 8 of Set 22 | miguel hidalgo\n",
      "Processing Record 9 of Set 22 | khandbari\n",
      "Processing Record 10 of Set 22 | namibe\n",
      "Processing Record 11 of Set 22 | chapais\n",
      "Processing Record 12 of Set 22 | ust-karsk\n",
      "Processing Record 13 of Set 22 | nyurba\n",
      "Processing Record 14 of Set 22 | bilma\n",
      "Processing Record 15 of Set 22 | methven\n",
      "Processing Record 16 of Set 22 | sidareja\n",
      "Processing Record 17 of Set 22 | tyrma\n",
      "Processing Record 18 of Set 22 | adeje\n",
      "Processing Record 19 of Set 22 | livadiya\n",
      "Processing Record 20 of Set 22 | salmas\n",
      "Processing Record 21 of Set 22 | kanigoro\n",
      "Processing Record 22 of Set 22 | itoman\n",
      "Processing Record 23 of Set 22 | emporia\n",
      "Processing Record 24 of Set 22 | paka\n",
      "Processing Record 25 of Set 22 | pangnirtung\n",
      "Processing Record 26 of Set 22 | mount gambier\n",
      "Processing Record 27 of Set 22 | hollola\n",
      "Processing Record 28 of Set 22 | shimoda\n",
      "Processing Record 29 of Set 22 | biak\n",
      "Processing Record 30 of Set 22 | colombo\n",
      "Processing Record 31 of Set 22 | kodinsk\n",
      "Processing Record 32 of Set 22 | neuquen\n",
      "Processing Record 33 of Set 22 | doctor pedro p. pena\n",
      "Processing Record 34 of Set 22 | upington\n",
      "Processing Record 35 of Set 22 | bayan\n",
      "Processing Record 36 of Set 22 | richards bay\n",
      "Processing Record 37 of Set 22 | tabou\n",
      "Processing Record 38 of Set 22 | surt\n",
      "Processing Record 39 of Set 22 | uglegorsk\n",
      "Processing Record 40 of Set 22 | jambi\n",
      "Processing Record 41 of Set 22 | mabaruma\n",
      "Processing Record 42 of Set 22 | luancheng\n",
      "Processing Record 43 of Set 22 | hay river\n",
      "Processing Record 44 of Set 22 | marquette\n",
      "Processing Record 45 of Set 22 | marcona\n",
      "Processing Record 46 of Set 22 | deer lake\n",
      "Processing Record 47 of Set 22 | karamay\n",
      "Processing Record 48 of Set 22 | korla\n",
      "Processing Record 49 of Set 22 | brandon\n",
      "Processing Record 50 of Set 22 | manica\n",
      "Processing Record 1 of Set 23 | valle hermoso\n",
      "Processing Record 2 of Set 23 | strezhevoy\n",
      "Processing Record 3 of Set 23 | rambha\n",
      "Processing Record 4 of Set 23 | kushima\n",
      "Processing Record 5 of Set 23 | okhotsk\n",
      "Processing Record 6 of Set 23 | raahe\n",
      "Processing Record 7 of Set 23 | kapoeta\n",
      "Processing Record 8 of Set 23 | noumea\n",
      "Processing Record 9 of Set 23 | male\n",
      "Processing Record 10 of Set 23 | farmington\n",
      "Processing Record 11 of Set 23 | gigmoto\n",
      "Processing Record 12 of Set 23 | cabedelo\n",
      "Processing Record 13 of Set 23 | maniitsoq\n",
      "Processing Record 14 of Set 23 | sioux lookout\n",
      "Processing Record 15 of Set 23 | asahikawa\n",
      "Processing Record 16 of Set 23 | garden city\n",
      "Processing Record 17 of Set 23 | gavrilovka vtoraya\n",
      "Processing Record 18 of Set 23 | jacareacanga\n",
      "Processing Record 19 of Set 23 | port hedland\n",
      "Processing Record 20 of Set 23 | bathsheba\n",
      "Processing Record 21 of Set 23 | port hardy\n",
      "Processing Record 22 of Set 23 | san gabriel\n",
      "Processing Record 23 of Set 23 | lushoto\n",
      "Processing Record 24 of Set 23 | patnos\n",
      "Processing Record 25 of Set 23 | dire dawa\n",
      "Processing Record 26 of Set 23 | cervo\n",
      "Processing Record 27 of Set 23 | ivankiv\n",
      "Processing Record 28 of Set 23 | temaraia\n",
      "Processing Record 29 of Set 23 | kamenskoye\n",
      "Processing Record 30 of Set 23 | mocambique\n",
      "Processing Record 31 of Set 23 | pemangkat\n",
      "Processing Record 32 of Set 23 | gornopravdinsk\n",
      "Processing Record 33 of Set 23 | pemba\n",
      "Processing Record 34 of Set 23 | deputatskiy\n",
      "Processing Record 35 of Set 23 | takoradi\n",
      "Processing Record 36 of Set 23 | goya\n",
      "Processing Record 37 of Set 23 | caorle\n",
      "Processing Record 38 of Set 23 | bam\n",
      "Processing Record 39 of Set 23 | candolim\n",
      "Processing Record 40 of Set 23 | amga\n",
      "Processing Record 41 of Set 23 | fort saint john\n",
      "Processing Record 42 of Set 23 | forbes\n",
      "Processing Record 43 of Set 23 | malindi\n",
      "Processing Record 44 of Set 23 | yayva\n",
      "Processing Record 45 of Set 23 | chermoz\n",
      "Processing Record 46 of Set 23 | meulaboh\n",
      "Processing Record 47 of Set 23 | faya\n",
      "Processing Record 48 of Set 23 | podosinovets\n",
      "Processing Record 49 of Set 23 | maine-soroa\n",
      "Processing Record 50 of Set 23 | katsuura\n",
      "Processing Record 1 of Set 24 | gorontalo\n",
      "Processing Record 2 of Set 24 | santa pola\n",
      "Processing Record 3 of Set 24 | wainwright\n",
      "Processing Record 4 of Set 24 | delta\n",
      "Processing Record 5 of Set 24 | port-cartier\n",
      "Processing Record 6 of Set 24 | ruteng\n",
      "Processing Record 7 of Set 24 | sisimiut\n",
      "Processing Record 8 of Set 24 | sao jose da coroa grande\n",
      "Processing Record 9 of Set 24 | russell\n",
      "Processing Record 10 of Set 24 | kuruman\n",
      "Processing Record 11 of Set 24 | otelu rosu\n",
      "Processing Record 12 of Set 24 | manzanillo\n",
      "Processing Record 13 of Set 24 | lasa\n",
      "Processing Record 14 of Set 24 | yenotayevka\n",
      "Processing Record 15 of Set 24 | jishou\n",
      "Processing Record 16 of Set 24 | meyungs\n",
      "Processing Record 17 of Set 24 | bambanglipuro\n",
      "Processing Record 18 of Set 24 | abu dhabi\n",
      "Processing Record 19 of Set 24 | valparaiso\n",
      "Processing Record 20 of Set 24 | saint-louis\n",
      "Processing Record 21 of Set 24 | katima mulilo\n",
      "Processing Record 22 of Set 24 | kita\n",
      "Processing Record 23 of Set 24 | ovsyanka\n",
      "Processing Record 24 of Set 24 | kerteh\n",
      "Processing Record 25 of Set 24 | bognor regis\n",
      "Processing Record 26 of Set 24 | lufilufi\n",
      "Processing Record 27 of Set 24 | epernay\n",
      "Processing Record 28 of Set 24 | moron\n",
      "Processing Record 29 of Set 24 | ngukurr\n",
      "Processing Record 30 of Set 24 | yerbogachen\n",
      "Processing Record 31 of Set 24 | bandarbeyla\n",
      "Processing Record 32 of Set 24 | yeppoon\n",
      "Processing Record 33 of Set 24 | bucerias\n",
      "Processing Record 34 of Set 24 | hasaki\n",
      "Processing Record 35 of Set 24 | adre\n",
      "Processing Record 36 of Set 24 | makakilo city\n",
      "Processing Record 37 of Set 24 | tual\n",
      "Processing Record 38 of Set 24 | kaspi\n",
      "Processing Record 39 of Set 24 | tibati\n",
      "Processing Record 40 of Set 24 | vanavara\n",
      "Processing Record 41 of Set 24 | oranjestad\n",
      "Processing Record 42 of Set 24 | rampura\n",
      "Processing Record 43 of Set 24 | mokhsogollokh\n",
      "Processing Record 44 of Set 24 | rapid valley\n",
      "Processing Record 45 of Set 24 | pinega\n",
      "Processing Record 46 of Set 24 | uri\n",
      "Processing Record 47 of Set 24 | gonen\n",
      "Processing Record 48 of Set 24 | cacoal\n",
      "Processing Record 49 of Set 24 | guicheng\n",
      "Processing Record 50 of Set 24 | osa\n",
      "Processing Record 1 of Set 25 | guadalajara\n",
      "Processing Record 2 of Set 25 | zhigalovo\n"
     ]
    }
   ],
   "source": [
    "# Loop through all the cities in the list.\n",
    "for i, city in enumerate(cities):\n",
    "\n",
    "    # Group cities in sets of 50 for logging purposes.\n",
    "    if (i % 50 == 0 and i >= 50):\n",
    "        set_count += 1\n",
    "        record_count = 1\n",
    "    # Create endpoint URL with each city.\n",
    "    city_url = url + \"&q=\" + city.replace(\" \",\"+\")\n",
    "\n",
    "    # Log the URL, record, and set numbers and the city.\n",
    "    print(f\"Processing Record {record_count} of Set {set_count} | {city}\")\n",
    "    # Add 1 to the record count.\n",
    "    record_count += 1"
   ]
  },
  {
   "cell_type": "code",
   "execution_count": 45,
   "metadata": {},
   "outputs": [
    {
     "name": "stdout",
     "output_type": "stream",
     "text": [
      "-----------------------------\n",
      "Data Retrieval Complete      \n",
      "-----------------------------\n"
     ]
    }
   ],
   "source": [
    "# Run an API request for each of the cities.\n",
    "try:\n",
    "        # Parse the JSON and retrieve data.\n",
    "        city_weather = requests.get(city_url).json()\n",
    "        # Parse out the needed data.\n",
    "        city_lat = city_weather[\"coord\"][\"lat\"]\n",
    "        city_lng = city_weather[\"coord\"][\"lon\"]\n",
    "        city_max_temp = city_weather[\"main\"][\"temp_max\"]\n",
    "        city_humidity = city_weather[\"main\"][\"humidity\"]\n",
    "        city_clouds = city_weather[\"clouds\"][\"all\"]\n",
    "        city_wind = city_weather[\"wind\"][\"speed\"]\n",
    "        city_country = city_weather[\"sys\"][\"country\"]\n",
    "        # Convert the date to ISO standard.\n",
    "        city_date = datetime.utcfromtimestamp(city_weather[\"dt\"]).strftime('%Y-%m-%d %H:%M:%S')\n",
    "        # Append the city information into city_data list.\n",
    "        city_data.append({\"City\": city.title(),\n",
    "                          \"Lat\": city_lat,\n",
    "                          \"Lng\": city_lng,\n",
    "                          \"Max Temp\": city_max_temp,\n",
    "                          \"Humidity\": city_humidity,\n",
    "                          \"Cloudiness\": city_clouds,\n",
    "                          \"Wind Speed\": city_wind,\n",
    "                          \"Country\": city_country,\n",
    "                          \"Date\": city_date})\n",
    "\n",
    "# If an error is experienced, skip the city.\n",
    "except:\n",
    "        print(\"City not found. Skipping...\")\n",
    "        pass\n",
    "\n",
    "# Indicate that Data Loading is complete.\n",
    "print(\"-----------------------------\")\n",
    "print(\"Data Retrieval Complete      \")\n",
    "print(\"-----------------------------\")"
   ]
  },
  {
   "cell_type": "code",
   "execution_count": 46,
   "metadata": {},
   "outputs": [
    {
     "data": {
      "text/html": [
       "<div>\n",
       "<style scoped>\n",
       "    .dataframe tbody tr th:only-of-type {\n",
       "        vertical-align: middle;\n",
       "    }\n",
       "\n",
       "    .dataframe tbody tr th {\n",
       "        vertical-align: top;\n",
       "    }\n",
       "\n",
       "    .dataframe thead th {\n",
       "        text-align: right;\n",
       "    }\n",
       "</style>\n",
       "<table border=\"1\" class=\"dataframe\">\n",
       "  <thead>\n",
       "    <tr style=\"text-align: right;\">\n",
       "      <th></th>\n",
       "      <th>City</th>\n",
       "      <th>Lat</th>\n",
       "      <th>Lng</th>\n",
       "      <th>Max Temp</th>\n",
       "      <th>Humidity</th>\n",
       "      <th>Cloudiness</th>\n",
       "      <th>Wind Speed</th>\n",
       "      <th>Country</th>\n",
       "      <th>Date</th>\n",
       "    </tr>\n",
       "  </thead>\n",
       "  <tbody>\n",
       "    <tr>\n",
       "      <th>0</th>\n",
       "      <td>Zhigalovo</td>\n",
       "      <td>54.81</td>\n",
       "      <td>105.16</td>\n",
       "      <td>63.21</td>\n",
       "      <td>83</td>\n",
       "      <td>100</td>\n",
       "      <td>3.89</td>\n",
       "      <td>RU</td>\n",
       "      <td>2020-08-02 03:19:16</td>\n",
       "    </tr>\n",
       "  </tbody>\n",
       "</table>\n",
       "</div>"
      ],
      "text/plain": [
       "        City    Lat     Lng  Max Temp  Humidity  Cloudiness  Wind Speed  \\\n",
       "0  Zhigalovo  54.81  105.16     63.21        83         100        3.89   \n",
       "\n",
       "  Country                 Date  \n",
       "0      RU  2020-08-02 03:19:16  "
      ]
     },
     "execution_count": 46,
     "metadata": {},
     "output_type": "execute_result"
    }
   ],
   "source": [
    "# Convert the array of dictionaries to a Pandas DataFrame.\n",
    "city_data_df = pd.DataFrame(city_data)\n",
    "city_data_df.head(10)"
   ]
  },
  {
   "cell_type": "code",
   "execution_count": 48,
   "metadata": {},
   "outputs": [],
   "source": [
    "# Create the output file (CSV).\n",
    "output_data_file = \"weather_data/cities.csv\"\n",
    "# Export the City_Data into a CSV.\n",
    "city_data_df.to_csv(output_data_file, index_label=\"City_ID\")"
   ]
  },
  {
   "cell_type": "code",
   "execution_count": null,
   "metadata": {},
   "outputs": [],
   "source": []
  }
 ],
 "metadata": {
  "kernelspec": {
   "display_name": "Python 3",
   "language": "python",
   "name": "python3"
  },
  "language_info": {
   "codemirror_mode": {
    "name": "ipython",
    "version": 3
   },
   "file_extension": ".py",
   "mimetype": "text/x-python",
   "name": "python",
   "nbconvert_exporter": "python",
   "pygments_lexer": "ipython3",
   "version": "3.7.7"
  }
 },
 "nbformat": 4,
 "nbformat_minor": 4
}
