{
 "cells": [
  {
   "cell_type": "code",
   "execution_count": 1,
   "metadata": {},
   "outputs": [],
   "source": [
    "# Import the random module.\n",
    "import random\n",
    "\n",
    "# Import the NumPy module.\n",
    "import numpy as np\n",
    "\n",
    "# Import timeit.\n",
    "import timeit\n",
    "\n",
    "# Import the dependencies.\n",
    "import pandas as pd\n",
    "import matplotlib.pyplot as plt"
   ]
  },
  {
   "cell_type": "code",
   "execution_count": 2,
   "metadata": {
    "scrolled": true
   },
   "outputs": [
    {
     "data": {
      "text/plain": [
       "20"
      ]
     },
     "execution_count": 2,
     "metadata": {},
     "output_type": "execute_result"
    }
   ],
   "source": [
    "random.randint(-90, 90)"
   ]
  },
  {
   "cell_type": "code",
   "execution_count": 3,
   "metadata": {},
   "outputs": [
    {
     "data": {
      "text/plain": [
       "0.14866939839344329"
      ]
     },
     "execution_count": 3,
     "metadata": {},
     "output_type": "execute_result"
    }
   ],
   "source": [
    "random.random()"
   ]
  },
  {
   "cell_type": "code",
   "execution_count": 4,
   "metadata": {},
   "outputs": [
    {
     "data": {
      "text/plain": [
       "38.2438222107382"
      ]
     },
     "execution_count": 4,
     "metadata": {},
     "output_type": "execute_result"
    }
   ],
   "source": [
    "random_number = random.randint(-90, 89) + random.random()\n",
    "random_number"
   ]
  },
  {
   "cell_type": "code",
   "execution_count": 5,
   "metadata": {},
   "outputs": [],
   "source": [
    "x = 1\n",
    "latitudes = []\n",
    "while x < 11:\n",
    "    random_lat = random.randint(-90, 89) + random.random()\n",
    "    latitudes.append(random_lat)\n",
    "    x += 1"
   ]
  },
  {
   "cell_type": "code",
   "execution_count": 6,
   "metadata": {},
   "outputs": [
    {
     "data": {
      "text/plain": [
       "[54.193439882169535,\n",
       " -42.92108339487973,\n",
       " -32.23162594155643,\n",
       " 19.339369660883964,\n",
       " -34.221729696582315,\n",
       " -24.705702504070928,\n",
       " 21.08859045265814,\n",
       " 89.80960210408043,\n",
       " -43.614830330730896,\n",
       " 34.534591343979834]"
      ]
     },
     "execution_count": 6,
     "metadata": {},
     "output_type": "execute_result"
    }
   ],
   "source": [
    "latitudes"
   ]
  },
  {
   "cell_type": "code",
   "execution_count": 7,
   "metadata": {},
   "outputs": [
    {
     "data": {
      "text/plain": [
       "-74"
      ]
     },
     "execution_count": 7,
     "metadata": {},
     "output_type": "execute_result"
    }
   ],
   "source": [
    "random.randrange(-90, 90, step=1)"
   ]
  },
  {
   "cell_type": "code",
   "execution_count": 8,
   "metadata": {},
   "outputs": [
    {
     "data": {
      "text/plain": [
       "39"
      ]
     },
     "execution_count": 8,
     "metadata": {},
     "output_type": "execute_result"
    }
   ],
   "source": [
    "random.randrange(-90, 90, step=3)"
   ]
  },
  {
   "cell_type": "raw",
   "metadata": {},
   "source": [
    "random.uniform(-90, 90)"
   ]
  },
  {
   "cell_type": "code",
   "execution_count": 9,
   "metadata": {},
   "outputs": [
    {
     "data": {
      "text/plain": [
       "-23.209391714768444"
      ]
     },
     "execution_count": 9,
     "metadata": {},
     "output_type": "execute_result"
    }
   ],
   "source": [
    "np.random.uniform(-90.000, 90.000)"
   ]
  },
  {
   "cell_type": "code",
   "execution_count": 10,
   "metadata": {},
   "outputs": [
    {
     "data": {
      "text/plain": [
       "array([ -3.45386808, -63.1865057 , -10.27036911,  39.59694464,\n",
       "        11.83098168,  70.92123834,  46.16562518,  19.86370148,\n",
       "       -51.56960789,   4.67734574, -64.90886134, -18.12323227,\n",
       "        14.53684317,  61.84511883,  30.6333872 ,   7.92886014,\n",
       "        41.20841503,  47.77654   ,   0.7485386 ,  53.87418898,\n",
       "       -88.37477785, -43.01072676,  40.22088654, -10.57446666,\n",
       "       -16.9974039 , -59.4727567 , -28.99704618,  62.88076453,\n",
       "        12.34404309, -20.25054767,  69.81893256, -43.31700782,\n",
       "       -82.94711932, -69.45720852, -15.42186501,  60.68958806,\n",
       "        68.28132139,  43.08335973,  19.57454004,  46.63995691,\n",
       "       -45.33424247,  62.6033091 ,  87.7527454 ,  38.52244385,\n",
       "        72.77463986,  19.16878155, -77.71544672,  79.77721137,\n",
       "        22.28333377,  -0.24553082])"
      ]
     },
     "execution_count": 10,
     "metadata": {},
     "output_type": "execute_result"
    }
   ],
   "source": [
    "np.random.uniform(-90.000, 90.000, size=50)"
   ]
  },
  {
   "cell_type": "code",
   "execution_count": 11,
   "metadata": {},
   "outputs": [
    {
     "name": "stdout",
     "output_type": "stream",
     "text": [
      "30.6 µs ± 693 ns per loop (mean ± std. dev. of 7 runs, 10000 loops each)\n"
     ]
    }
   ],
   "source": [
    "%timeit np.random.uniform(-90.000, 90.000, size=1500)"
   ]
  },
  {
   "cell_type": "code",
   "execution_count": 12,
   "metadata": {},
   "outputs": [
    {
     "name": "stdout",
     "output_type": "stream",
     "text": [
      "4.12 ms ± 223 µs per loop (mean ± std. dev. of 7 runs, 100 loops each)\n"
     ]
    }
   ],
   "source": [
    "def latitudes(size):\n",
    "    latitudes = []\n",
    "    x = 0\n",
    "    while x < (size):\n",
    "        random_lat = random.randint(-90, 90) + random.random()\n",
    "        latitudes.append(random_lat)\n",
    "        x += 1\n",
    "    return latitudes\n",
    "# Call the function with 1500.\n",
    "%timeit latitudes(1500)"
   ]
  },
  {
   "cell_type": "code",
   "execution_count": 13,
   "metadata": {},
   "outputs": [
    {
     "data": {
      "text/plain": [
       "<zip at 0x1ff5246a4c8>"
      ]
     },
     "execution_count": 13,
     "metadata": {},
     "output_type": "execute_result"
    }
   ],
   "source": [
    "# Create a set of random latitude and longitude combinations.\n",
    "lats = np.random.uniform(low=-90.000, high=90.000, size=1500)\n",
    "lngs = np.random.uniform(low=-180.000, high=180.000, size=1500)\n",
    "lat_lngs = zip(lats, lngs)\n",
    "lat_lngs"
   ]
  },
  {
   "cell_type": "code",
   "execution_count": 14,
   "metadata": {},
   "outputs": [],
   "source": [
    "# Create a practice set of random latitude and longitude combinations.\n",
    "x = [25.12903645, 25.92017388, 26.62509167, -59.98969384, 37.30571269]\n",
    "y = [-67.59741259, 11.09532135, 74.84233102, -76.89176677, -61.13376282]\n",
    "coordinates = zip(x, y)"
   ]
  },
  {
   "cell_type": "code",
   "execution_count": 15,
   "metadata": {},
   "outputs": [
    {
     "name": "stdout",
     "output_type": "stream",
     "text": [
      "25.12903645 -67.59741259\n",
      "25.92017388 11.09532135\n",
      "26.62509167 74.84233102\n",
      "-59.98969384 -76.89176677\n",
      "37.30571269 -61.13376282\n"
     ]
    }
   ],
   "source": [
    "# Use the tuple() function to display the latitude and longitude combinations.\n",
    "for coordinate in coordinates:\n",
    "    print(coordinate[0], coordinate[1])"
   ]
  },
  {
   "cell_type": "code",
   "execution_count": 16,
   "metadata": {},
   "outputs": [],
   "source": [
    "# Add the latitudes and longitudes to a list.\n",
    "coordinates = list(lat_lngs)"
   ]
  },
  {
   "cell_type": "code",
   "execution_count": 17,
   "metadata": {},
   "outputs": [],
   "source": [
    "# Use the citipy module to determine city based on latitude and longitude.\n",
    "from citipy import citipy"
   ]
  },
  {
   "cell_type": "code",
   "execution_count": 18,
   "metadata": {},
   "outputs": [
    {
     "data": {
      "text/plain": [
       "598"
      ]
     },
     "execution_count": 18,
     "metadata": {},
     "output_type": "execute_result"
    }
   ],
   "source": [
    "# Create a list for holding the cities.\n",
    "cities = []\n",
    "# Identify the nearest city for each latitude and longitude combination.\n",
    "for coordinate in coordinates:\n",
    "    city = citipy.nearest_city(coordinate[0], coordinate[1]).city_name\n",
    "\n",
    "    # If the city is unique, then we will add it to the cities list.\n",
    "    if city not in cities:\n",
    "        cities.append(city)\n",
    "# Print the city count to confirm sufficient count.\n",
    "len(cities)"
   ]
  },
  {
   "cell_type": "code",
   "execution_count": 19,
   "metadata": {},
   "outputs": [],
   "source": [
    "# Import the requests library.\n",
    "import requests\n",
    "\n",
    "# Import the API key.\n",
    "from config import weather_api_key"
   ]
  },
  {
   "cell_type": "code",
   "execution_count": 20,
   "metadata": {},
   "outputs": [
    {
     "name": "stdout",
     "output_type": "stream",
     "text": [
      "http://api.openweathermap.org/data/2.5/weather?units=Imperial&APPID=9e575b65f80f7c3b85f9d61d0d3852f3\n"
     ]
    }
   ],
   "source": [
    "# Starting URL for Weather Map API Call.\n",
    "url = \"http://api.openweathermap.org/data/2.5/weather?units=Imperial&APPID=\" + weather_api_key\n",
    "print(url)"
   ]
  },
  {
   "cell_type": "code",
   "execution_count": 21,
   "metadata": {},
   "outputs": [
    {
     "name": "stdout",
     "output_type": "stream",
     "text": [
      "http://api.openweathermap.org/data/2.5/weather?units=Imperial&APPID=9e575b65f80f7c3b85f9d61d0d3852f3&q=Boston\n"
     ]
    }
   ],
   "source": [
    "# Create an endpoint URL for a city.\n",
    "city_url = url + \"&q=\" + \"Boston\"\n",
    "print(city_url)"
   ]
  },
  {
   "cell_type": "code",
   "execution_count": 22,
   "metadata": {},
   "outputs": [
    {
     "data": {
      "text/plain": [
       "<Response [200]>"
      ]
     },
     "execution_count": 22,
     "metadata": {},
     "output_type": "execute_result"
    }
   ],
   "source": [
    "# Make a 'Get' request for the city weather.\n",
    "city_weather = requests.get(city_url)\n",
    "city_weather"
   ]
  },
  {
   "cell_type": "code",
   "execution_count": 23,
   "metadata": {},
   "outputs": [
    {
     "data": {
      "text/plain": [
       "<Response [404]>"
      ]
     },
     "execution_count": 23,
     "metadata": {},
     "output_type": "execute_result"
    }
   ],
   "source": [
    "# Create an endpoint URL for a city.\n",
    "city_url = url + \"&q=\" + \"Bston\"\n",
    "city_weather = requests.get(city_url)\n",
    "city_weather"
   ]
  },
  {
   "cell_type": "code",
   "execution_count": 24,
   "metadata": {},
   "outputs": [
    {
     "data": {
      "text/plain": [
       "<Response [200]>"
      ]
     },
     "execution_count": 24,
     "metadata": {},
     "output_type": "execute_result"
    }
   ],
   "source": [
    "# Create an endpoint URL for a city.\n",
    "city_url = url + \"&q=\" + \"Boston\"\n",
    "city_weather = requests.get(city_url)\n",
    "city_weather"
   ]
  },
  {
   "cell_type": "code",
   "execution_count": 25,
   "metadata": {},
   "outputs": [
    {
     "data": {
      "text/plain": [
       "'{\"coord\":{\"lon\":-71.06,\"lat\":42.36},\"weather\":[{\"id\":803,\"main\":\"Clouds\",\"description\":\"broken clouds\",\"icon\":\"04n\"}],\"base\":\"stations\",\"main\":{\"temp\":74.32,\"feels_like\":75.34,\"temp_min\":72,\"temp_max\":75.99,\"pressure\":1016,\"humidity\":78},\"visibility\":10000,\"wind\":{\"speed\":9.17,\"deg\":190},\"clouds\":{\"all\":75},\"dt\":1596339731,\"sys\":{\"type\":1,\"id\":3486,\"country\":\"US\",\"sunrise\":1596274633,\"sunset\":1596326624},\"timezone\":-14400,\"id\":4930956,\"name\":\"Boston\",\"cod\":200}'"
      ]
     },
     "execution_count": 25,
     "metadata": {},
     "output_type": "execute_result"
    }
   ],
   "source": [
    "# Get the text of the 'Get' request.\n",
    "city_weather.text"
   ]
  },
  {
   "cell_type": "code",
   "execution_count": 26,
   "metadata": {},
   "outputs": [
    {
     "data": {
      "text/plain": [
       "{'coord': {'lon': -71.06, 'lat': 42.36},\n",
       " 'weather': [{'id': 803,\n",
       "   'main': 'Clouds',\n",
       "   'description': 'broken clouds',\n",
       "   'icon': '04n'}],\n",
       " 'base': 'stations',\n",
       " 'main': {'temp': 74.32,\n",
       "  'feels_like': 75.34,\n",
       "  'temp_min': 72,\n",
       "  'temp_max': 75.99,\n",
       "  'pressure': 1016,\n",
       "  'humidity': 78},\n",
       " 'visibility': 10000,\n",
       " 'wind': {'speed': 9.17, 'deg': 190},\n",
       " 'clouds': {'all': 75},\n",
       " 'dt': 1596339731,\n",
       " 'sys': {'type': 1,\n",
       "  'id': 3486,\n",
       "  'country': 'US',\n",
       "  'sunrise': 1596274633,\n",
       "  'sunset': 1596326624},\n",
       " 'timezone': -14400,\n",
       " 'id': 4930956,\n",
       " 'name': 'Boston',\n",
       " 'cod': 200}"
      ]
     },
     "execution_count": 26,
     "metadata": {},
     "output_type": "execute_result"
    }
   ],
   "source": [
    "# Get the JSON text of the 'Get' request.\n",
    "city_weather.json()"
   ]
  },
  {
   "cell_type": "code",
   "execution_count": 27,
   "metadata": {},
   "outputs": [
    {
     "name": "stdout",
     "output_type": "stream",
     "text": [
      "City Weather found.\n"
     ]
    }
   ],
   "source": [
    "# Create an endpoint URL for a city.\n",
    "city_url = url + \"&q=\" + \"Boston\"\n",
    "city_weather = requests.get(city_url)\n",
    "if city_weather.status_code == 200:\n",
    "    print(f\"City Weather found.\")\n",
    "else:\n",
    "    print(f\"City weather not found.\")"
   ]
  },
  {
   "cell_type": "code",
   "execution_count": 28,
   "metadata": {},
   "outputs": [
    {
     "name": "stdout",
     "output_type": "stream",
     "text": [
      "City Weather found.\n"
     ]
    }
   ],
   "source": [
    "# Create an endpoint URL for a city.\n",
    "city_url = url + \"&q=\" + \"Bston\"\n",
    "city_weather = requests.get(city_url)\n",
    "if city_weather.json():\n",
    "    print(f\"City Weather found.\")\n",
    "else:\n",
    "    print(f\"City weather not found.\")"
   ]
  },
  {
   "cell_type": "code",
   "execution_count": 29,
   "metadata": {},
   "outputs": [
    {
     "data": {
      "text/plain": [
       "{'coord': {'lon': -71.06, 'lat': 42.36},\n",
       " 'weather': [{'id': 803,\n",
       "   'main': 'Clouds',\n",
       "   'description': 'broken clouds',\n",
       "   'icon': '04n'}],\n",
       " 'base': 'stations',\n",
       " 'main': {'temp': 74.32,\n",
       "  'feels_like': 75.34,\n",
       "  'temp_min': 72,\n",
       "  'temp_max': 75.99,\n",
       "  'pressure': 1016,\n",
       "  'humidity': 78},\n",
       " 'visibility': 10000,\n",
       " 'wind': {'speed': 9.17, 'deg': 190},\n",
       " 'clouds': {'all': 75},\n",
       " 'dt': 1596339731,\n",
       " 'sys': {'type': 1,\n",
       "  'id': 3486,\n",
       "  'country': 'US',\n",
       "  'sunrise': 1596274633,\n",
       "  'sunset': 1596326624},\n",
       " 'timezone': -14400,\n",
       " 'id': 4930956,\n",
       " 'name': 'Boston',\n",
       " 'cod': 200}"
      ]
     },
     "execution_count": 29,
     "metadata": {},
     "output_type": "execute_result"
    }
   ],
   "source": [
    "# Create an endpoint URL for a city.\n",
    "city_url = url + \"&q=\" + \"Boston\"\n",
    "city_weather = requests.get(city_url)\n",
    "city_weather.json()"
   ]
  },
  {
   "cell_type": "code",
   "execution_count": 30,
   "metadata": {},
   "outputs": [],
   "source": [
    "# Get the JSON data.\n",
    "boston_data = city_weather.json()"
   ]
  },
  {
   "cell_type": "code",
   "execution_count": 31,
   "metadata": {},
   "outputs": [
    {
     "data": {
      "text/plain": [
       "{'type': 1,\n",
       " 'id': 3486,\n",
       " 'country': 'US',\n",
       " 'sunrise': 1596274633,\n",
       " 'sunset': 1596326624}"
      ]
     },
     "execution_count": 31,
     "metadata": {},
     "output_type": "execute_result"
    }
   ],
   "source": [
    "boston_data[\"sys\"]"
   ]
  },
  {
   "cell_type": "code",
   "execution_count": 32,
   "metadata": {},
   "outputs": [
    {
     "data": {
      "text/plain": [
       "'US'"
      ]
     },
     "execution_count": 32,
     "metadata": {},
     "output_type": "execute_result"
    }
   ],
   "source": [
    "boston_data[\"sys\"][\"country\"]"
   ]
  },
  {
   "cell_type": "code",
   "execution_count": 33,
   "metadata": {},
   "outputs": [
    {
     "data": {
      "text/plain": [
       "({'coord': {'lon': -71.06, 'lat': 42.36},\n",
       "  'weather': [{'id': 803,\n",
       "    'main': 'Clouds',\n",
       "    'description': 'broken clouds',\n",
       "    'icon': '04n'}],\n",
       "  'base': 'stations',\n",
       "  'main': {'temp': 74.32,\n",
       "   'feels_like': 75.34,\n",
       "   'temp_min': 72,\n",
       "   'temp_max': 75.99,\n",
       "   'pressure': 1016,\n",
       "   'humidity': 78},\n",
       "  'visibility': 10000,\n",
       "  'wind': {'speed': 9.17, 'deg': 190},\n",
       "  'clouds': {'all': 75},\n",
       "  'dt': 1596339731,\n",
       "  'sys': {'type': 1,\n",
       "   'id': 3486,\n",
       "   'country': 'US',\n",
       "   'sunrise': 1596274633,\n",
       "   'sunset': 1596326624},\n",
       "  'timezone': -14400,\n",
       "  'id': 4930956,\n",
       "  'name': 'Boston',\n",
       "  'cod': 200},\n",
       " ['dt'])"
      ]
     },
     "execution_count": 33,
     "metadata": {},
     "output_type": "execute_result"
    }
   ],
   "source": [
    "boston_data,[\"dt\"]"
   ]
  },
  {
   "cell_type": "code",
   "execution_count": 34,
   "metadata": {},
   "outputs": [
    {
     "name": "stdout",
     "output_type": "stream",
     "text": [
      "42.36 -71.06 75.99 78 75 9.17\n"
     ]
    }
   ],
   "source": [
    "lat = boston_data[\"coord\"][\"lat\"]\n",
    "lng = boston_data[\"coord\"][\"lon\"]\n",
    "max_temp = boston_data[\"main\"][\"temp_max\"]\n",
    "humidity = boston_data[\"main\"][\"humidity\"]\n",
    "clouds = boston_data[\"clouds\"][\"all\"]\n",
    "wind = boston_data[\"wind\"][\"speed\"]\n",
    "print(lat, lng, max_temp, humidity, clouds, wind)"
   ]
  },
  {
   "cell_type": "code",
   "execution_count": 35,
   "metadata": {},
   "outputs": [
    {
     "data": {
      "text/plain": [
       "({'coord': {'lon': -71.06, 'lat': 42.36},\n",
       "  'weather': [{'id': 803,\n",
       "    'main': 'Clouds',\n",
       "    'description': 'broken clouds',\n",
       "    'icon': '04n'}],\n",
       "  'base': 'stations',\n",
       "  'main': {'temp': 74.32,\n",
       "   'feels_like': 75.34,\n",
       "   'temp_min': 72,\n",
       "   'temp_max': 75.99,\n",
       "   'pressure': 1016,\n",
       "   'humidity': 78},\n",
       "  'visibility': 10000,\n",
       "  'wind': {'speed': 9.17, 'deg': 190},\n",
       "  'clouds': {'all': 75},\n",
       "  'dt': 1596339731,\n",
       "  'sys': {'type': 1,\n",
       "   'id': 3486,\n",
       "   'country': 'US',\n",
       "   'sunrise': 1596274633,\n",
       "   'sunset': 1596326624},\n",
       "  'timezone': -14400,\n",
       "  'id': 4930956,\n",
       "  'name': 'Boston',\n",
       "  'cod': 200},\n",
       " ['dt'])"
      ]
     },
     "execution_count": 35,
     "metadata": {},
     "output_type": "execute_result"
    }
   ],
   "source": [
    "boston_data,[\"dt\"]"
   ]
  },
  {
   "cell_type": "code",
   "execution_count": 36,
   "metadata": {},
   "outputs": [
    {
     "data": {
      "text/plain": [
       "datetime.datetime(2020, 8, 2, 3, 42, 11)"
      ]
     },
     "execution_count": 36,
     "metadata": {},
     "output_type": "execute_result"
    }
   ],
   "source": [
    "# Import the datetime module from the datetime library.\n",
    "from datetime import datetime\n",
    "# Get the date from the JSON file.\n",
    "date = boston_data[\"dt\"]\n",
    "# Convert the UTC date to a date format with year, month, day, hours, minutes, and seconds.\n",
    "datetime.utcfromtimestamp(date)"
   ]
  },
  {
   "cell_type": "code",
   "execution_count": 37,
   "metadata": {},
   "outputs": [],
   "source": [
    "# Import the datetime module from the datetime library.\n",
    "from datetime import datetime"
   ]
  },
  {
   "cell_type": "code",
   "execution_count": 38,
   "metadata": {},
   "outputs": [],
   "source": [
    "# # Loop through all the cities in our list.\n",
    "# for i in range(len(cities)):\n",
    "\n",
    "#     # Group cities in sets of 50 for logging purposes.\n",
    "#     if (i % 50 == 0 and i >= 50):\n",
    "#         set_count += 1\n",
    "#         record_count = 1\n",
    "#     # Create endpoint URL with each city.\n",
    "#     city_url = url + \"&q=\" + \"i\""
   ]
  },
  {
   "cell_type": "code",
   "execution_count": 39,
   "metadata": {},
   "outputs": [
    {
     "name": "stdout",
     "output_type": "stream",
     "text": [
      "Beginning Data Retrieval     \n",
      "-----------------------------\n",
      "Processing Record 1 of Set 1 | lucea\n",
      "Processing Record 2 of Set 1 | waddan\n",
      "Processing Record 3 of Set 1 | bluff\n",
      "Processing Record 4 of Set 1 | lorengau\n",
      "Processing Record 5 of Set 1 | richards bay\n",
      "Processing Record 6 of Set 1 | mataura\n",
      "Processing Record 7 of Set 1 | chuy\n",
      "Processing Record 8 of Set 1 | avarua\n",
      "Processing Record 9 of Set 1 | bredasdorp\n",
      "Processing Record 10 of Set 1 | barrow\n",
      "Processing Record 11 of Set 1 | hasaki\n",
      "Processing Record 12 of Set 1 | busselton\n",
      "Processing Record 13 of Set 1 | mys shmidta\n",
      "Processing Record 14 of Set 1 | tessalit\n",
      "Processing Record 15 of Set 1 | sao geraldo do araguaia\n",
      "Processing Record 16 of Set 1 | itarema\n",
      "Processing Record 17 of Set 1 | borogontsy\n",
      "Processing Record 18 of Set 1 | vaini\n",
      "Processing Record 19 of Set 1 | talnakh\n",
      "Processing Record 20 of Set 1 | port hedland\n",
      "Processing Record 21 of Set 1 | tuatapere\n",
      "Processing Record 22 of Set 1 | punta arenas\n",
      "Processing Record 23 of Set 1 | esperance\n",
      "Processing Record 24 of Set 1 | tuktoyaktuk\n",
      "Processing Record 25 of Set 1 | comrie\n",
      "Processing Record 26 of Set 1 | rikitea\n",
      "Processing Record 27 of Set 1 | namibe\n",
      "Processing Record 28 of Set 1 | kasempa\n",
      "Processing Record 29 of Set 1 | komsomolskiy\n",
      "Processing Record 30 of Set 1 | ancud\n",
      "Processing Record 31 of Set 1 | butaritari\n",
      "Processing Record 32 of Set 1 | waipawa\n",
      "Processing Record 33 of Set 1 | arraial do cabo\n",
      "Processing Record 34 of Set 1 | ushuaia\n",
      "Processing Record 35 of Set 1 | christchurch\n",
      "Processing Record 36 of Set 1 | port elgin\n",
      "Processing Record 37 of Set 1 | stornoway\n",
      "Processing Record 38 of Set 1 | beringovskiy\n",
      "Processing Record 39 of Set 1 | puerto ayora\n",
      "Processing Record 40 of Set 1 | munsingen\n",
      "Processing Record 41 of Set 1 | clyde river\n",
      "Processing Record 42 of Set 1 | khatanga\n",
      "Processing Record 43 of Set 1 | qaanaaq\n",
      "Processing Record 44 of Set 1 | belushya guba\n",
      "Processing Record 45 of Set 1 | leningradskiy\n",
      "Processing Record 46 of Set 1 | bonwapitse\n",
      "Processing Record 47 of Set 1 | jamestown\n",
      "Processing Record 48 of Set 1 | kalmunai\n",
      "Processing Record 49 of Set 1 | meulaboh\n",
      "Processing Record 50 of Set 1 | mar del plata\n",
      "Processing Record 1 of Set 2 | mancio lima\n",
      "Processing Record 2 of Set 2 | romilly-sur-seine\n",
      "Processing Record 3 of Set 2 | ilulissat\n",
      "Processing Record 4 of Set 2 | tsihombe\n",
      "Processing Record 5 of Set 2 | havelock\n",
      "Processing Record 6 of Set 2 | skjervoy\n",
      "Processing Record 7 of Set 2 | arrecife\n",
      "Processing Record 8 of Set 2 | langsa\n",
      "Processing Record 9 of Set 2 | port augusta\n",
      "Processing Record 10 of Set 2 | pevek\n",
      "Processing Record 11 of Set 2 | ponta delgada\n",
      "Processing Record 12 of Set 2 | garowe\n",
      "Processing Record 13 of Set 2 | abonnema\n",
      "Processing Record 14 of Set 2 | muroto\n",
      "Processing Record 15 of Set 2 | neiafu\n",
      "Processing Record 16 of Set 2 | road town\n",
      "Processing Record 17 of Set 2 | new norfolk\n",
      "Processing Record 18 of Set 2 | castro\n",
      "Processing Record 19 of Set 2 | hilo\n",
      "Processing Record 20 of Set 2 | chokurdakh\n",
      "Processing Record 21 of Set 2 | olga\n",
      "Processing Record 22 of Set 2 | hermanus\n",
      "Processing Record 23 of Set 2 | dikson\n",
      "Processing Record 24 of Set 2 | haines junction\n",
      "Processing Record 25 of Set 2 | isangel\n",
      "Processing Record 26 of Set 2 | mahebourg\n",
      "Processing Record 27 of Set 2 | palana\n",
      "Processing Record 28 of Set 2 | cherskiy\n",
      "Processing Record 29 of Set 2 | airai\n",
      "Processing Record 30 of Set 2 | bambous virieux\n",
      "Processing Record 31 of Set 2 | vardo\n",
      "Processing Record 32 of Set 2 | provideniya\n",
      "Processing Record 33 of Set 2 | soyo\n",
      "Processing Record 34 of Set 2 | taolanaro\n",
      "Processing Record 35 of Set 2 | kapaa\n",
      "Processing Record 36 of Set 2 | ahipara\n",
      "Processing Record 37 of Set 2 | georgetown\n",
      "Processing Record 38 of Set 2 | cabo san lucas\n",
      "Processing Record 39 of Set 2 | tunduru\n",
      "Processing Record 40 of Set 2 | rockport\n",
      "Processing Record 41 of Set 2 | saskylakh\n",
      "Processing Record 42 of Set 2 | dudinka\n",
      "Processing Record 43 of Set 2 | necochea\n",
      "Processing Record 44 of Set 2 | kahului\n",
      "Processing Record 45 of Set 2 | port alfred\n",
      "Processing Record 46 of Set 2 | cepu\n",
      "Processing Record 47 of Set 2 | padang\n",
      "Processing Record 48 of Set 2 | fortuna\n",
      "Processing Record 49 of Set 2 | nome\n",
      "Processing Record 50 of Set 2 | cape town\n",
      "Processing Record 1 of Set 3 | nanortalik\n",
      "Processing Record 2 of Set 3 | darnah\n",
      "Processing Record 3 of Set 3 | kosa\n",
      "Processing Record 4 of Set 3 | djibo\n",
      "Processing Record 5 of Set 3 | hobart\n",
      "Processing Record 6 of Set 3 | victoria\n",
      "Processing Record 7 of Set 3 | bintulu\n",
      "Processing Record 8 of Set 3 | kidal\n",
      "Processing Record 9 of Set 3 | vaitupu\n",
      "Processing Record 10 of Set 3 | lubango\n",
      "Processing Record 11 of Set 3 | grand centre\n",
      "Processing Record 12 of Set 3 | linxia\n",
      "Processing Record 13 of Set 3 | sao filipe\n",
      "Processing Record 14 of Set 3 | albany\n",
      "Processing Record 15 of Set 3 | ribeira grande\n",
      "Processing Record 16 of Set 3 | umm kaddadah\n",
      "Processing Record 17 of Set 3 | makum\n",
      "Processing Record 18 of Set 3 | narsaq\n",
      "Processing Record 19 of Set 3 | aasiaat\n",
      "Processing Record 20 of Set 3 | vao\n",
      "Processing Record 21 of Set 3 | illoqqortoormiut\n",
      "Processing Record 22 of Set 3 | poum\n",
      "Processing Record 23 of Set 3 | yulara\n",
      "Processing Record 24 of Set 3 | saint-augustin\n",
      "Processing Record 25 of Set 3 | samusu\n",
      "Processing Record 26 of Set 3 | taksimo\n",
      "Processing Record 27 of Set 3 | seminole\n",
      "Processing Record 28 of Set 3 | amderma\n",
      "Processing Record 29 of Set 3 | simao\n",
      "Processing Record 30 of Set 3 | riyadh\n",
      "Processing Record 31 of Set 3 | saint-philippe\n",
      "Processing Record 32 of Set 3 | ponta do sol\n",
      "Processing Record 33 of Set 3 | severo-kurilsk\n",
      "Processing Record 34 of Set 3 | mecca\n",
      "Processing Record 35 of Set 3 | fort saint john\n",
      "Processing Record 36 of Set 3 | hachinohe\n",
      "Processing Record 37 of Set 3 | dembi dolo\n",
      "Processing Record 38 of Set 3 | constitucion\n",
      "Processing Record 39 of Set 3 | klaksvik\n",
      "Processing Record 40 of Set 3 | nantucket\n",
      "Processing Record 41 of Set 3 | mendahara\n",
      "Processing Record 42 of Set 3 | sioux lookout\n",
      "Processing Record 43 of Set 3 | santa barbara\n",
      "Processing Record 44 of Set 3 | ondjiva\n",
      "Processing Record 45 of Set 3 | omsukchan\n",
      "Processing Record 46 of Set 3 | nikolskoye\n",
      "Processing Record 47 of Set 3 | sibolga\n",
      "Processing Record 48 of Set 3 | attawapiskat\n",
      "Processing Record 49 of Set 3 | upernavik\n",
      "Processing Record 50 of Set 3 | san patricio\n",
      "Processing Record 1 of Set 4 | palabuhanratu\n",
      "Processing Record 2 of Set 4 | victor harbor\n",
      "Processing Record 3 of Set 4 | san cristobal\n",
      "Processing Record 4 of Set 4 | keti bandar\n",
      "Processing Record 5 of Set 4 | aksu\n",
      "Processing Record 6 of Set 4 | turkan\n",
      "Processing Record 7 of Set 4 | vostok\n",
      "Processing Record 8 of Set 4 | faanui\n",
      "Processing Record 9 of Set 4 | samarkand\n",
      "Processing Record 10 of Set 4 | hithadhoo\n",
      "Processing Record 11 of Set 4 | turinsk\n",
      "Processing Record 12 of Set 4 | oktyabrskoye\n",
      "Processing Record 13 of Set 4 | smithers\n",
      "Processing Record 14 of Set 4 | moerai\n",
      "Processing Record 15 of Set 4 | nalvo\n",
      "Processing Record 16 of Set 4 | huazolotitlan\n",
      "Processing Record 17 of Set 4 | bontang\n",
      "Processing Record 18 of Set 4 | torbay\n",
      "Processing Record 19 of Set 4 | mantua\n",
      "Processing Record 20 of Set 4 | barentsburg\n",
      "Processing Record 21 of Set 4 | camopi\n",
      "Processing Record 22 of Set 4 | khandyga\n",
      "Processing Record 23 of Set 4 | puerto escondido\n",
      "Processing Record 24 of Set 4 | a\n",
      "Processing Record 25 of Set 4 | lishu\n",
      "Processing Record 26 of Set 4 | lebu\n",
      "Processing Record 27 of Set 4 | leninsk\n",
      "Processing Record 28 of Set 4 | saleaula\n",
      "Processing Record 29 of Set 4 | carnarvon\n",
      "Processing Record 30 of Set 4 | rutul\n",
      "Processing Record 31 of Set 4 | halalo\n",
      "Processing Record 32 of Set 4 | anar darreh\n",
      "Processing Record 33 of Set 4 | bargal\n",
      "Processing Record 34 of Set 4 | prince rupert\n",
      "Processing Record 35 of Set 4 | grindavik\n",
      "Processing Record 36 of Set 4 | impfondo\n",
      "Processing Record 37 of Set 4 | vila franca do campo\n",
      "Processing Record 38 of Set 4 | petropavlovsk-kamchatskiy\n",
      "Processing Record 39 of Set 4 | shaoguan\n",
      "Processing Record 40 of Set 4 | karratha\n",
      "Processing Record 41 of Set 4 | paamiut\n",
      "Processing Record 42 of Set 4 | saldanha\n",
      "Processing Record 43 of Set 4 | atbasar\n",
      "Processing Record 44 of Set 4 | mehamn\n",
      "Processing Record 45 of Set 4 | tumannyy\n",
      "Processing Record 46 of Set 4 | stara synyava\n",
      "Processing Record 47 of Set 4 | vila velha\n",
      "Processing Record 48 of Set 4 | rawatsar\n",
      "Processing Record 49 of Set 4 | sentyabrskiy\n",
      "Processing Record 50 of Set 4 | taoudenni\n",
      "Processing Record 1 of Set 5 | armidale\n",
      "Processing Record 2 of Set 5 | meyungs\n",
      "Processing Record 3 of Set 5 | marabba\n",
      "Processing Record 4 of Set 5 | dzilam gonzalez\n",
      "Processing Record 5 of Set 5 | east london\n",
      "Processing Record 6 of Set 5 | nyurba\n",
      "Processing Record 7 of Set 5 | salalah\n",
      "Processing Record 8 of Set 5 | tucupita\n",
      "Processing Record 9 of Set 5 | guozhen\n",
      "Processing Record 10 of Set 5 | badnawar\n",
      "Processing Record 11 of Set 5 | corinth\n",
      "Processing Record 12 of Set 5 | luderitz\n",
      "Processing Record 13 of Set 5 | villacarrillo\n",
      "Processing Record 14 of Set 5 | asyut\n",
      "Processing Record 15 of Set 5 | turnu rosu\n",
      "Processing Record 16 of Set 5 | ribas do rio pardo\n",
      "Processing Record 17 of Set 5 | leninskoye\n",
      "Processing Record 18 of Set 5 | atuona\n",
      "Processing Record 19 of Set 5 | souillac\n",
      "Processing Record 20 of Set 5 | esso\n",
      "Processing Record 21 of Set 5 | gueret\n",
      "Processing Record 22 of Set 5 | erzin\n",
      "Processing Record 23 of Set 5 | nishihara\n",
      "Processing Record 24 of Set 5 | prescott valley\n",
      "Processing Record 25 of Set 5 | ndele\n",
      "Processing Record 26 of Set 5 | stebnyk\n",
      "Processing Record 27 of Set 5 | miranda\n",
      "Processing Record 28 of Set 5 | krasnoselkup\n",
      "Processing Record 29 of Set 5 | lolua\n",
      "Processing Record 30 of Set 5 | hobyo\n",
      "Processing Record 31 of Set 5 | ust-kan\n",
      "Processing Record 32 of Set 5 | mount isa\n",
      "Processing Record 33 of Set 5 | ipixuna\n",
      "Processing Record 34 of Set 5 | ambon\n",
      "Processing Record 35 of Set 5 | sayyan\n",
      "Processing Record 36 of Set 5 | roebourne\n",
      "Processing Record 37 of Set 5 | iqaluit\n",
      "Processing Record 38 of Set 5 | salamanca\n",
      "Processing Record 39 of Set 5 | oparino\n",
      "Processing Record 40 of Set 5 | xinmin\n",
      "Processing Record 41 of Set 5 | tasiilaq\n",
      "Processing Record 42 of Set 5 | sosnovo-ozerskoye\n",
      "Processing Record 43 of Set 5 | galich\n",
      "Processing Record 44 of Set 5 | gat\n",
      "Processing Record 45 of Set 5 | olinda\n",
      "Processing Record 46 of Set 5 | gamboma\n",
      "Processing Record 47 of Set 5 | bethel\n",
      "Processing Record 48 of Set 5 | liuzhou\n",
      "Processing Record 49 of Set 5 | vanimo\n",
      "Processing Record 50 of Set 5 | mrirt\n",
      "Processing Record 1 of Set 6 | kavieng\n",
      "Processing Record 2 of Set 6 | klamath falls\n",
      "Processing Record 3 of Set 6 | neuquen\n",
      "Processing Record 4 of Set 6 | longyearbyen\n",
      "Processing Record 5 of Set 6 | tilichiki\n",
      "Processing Record 6 of Set 6 | cerrito\n",
      "Processing Record 7 of Set 6 | sisimiut\n",
      "Processing Record 8 of Set 6 | hualmay\n",
      "Processing Record 9 of Set 6 | kruisfontein\n",
      "Processing Record 10 of Set 6 | touros\n",
      "Processing Record 11 of Set 6 | port hardy\n",
      "Processing Record 12 of Set 6 | cururupu\n",
      "Processing Record 13 of Set 6 | thilogne\n",
      "Processing Record 14 of Set 6 | northport\n",
      "Processing Record 15 of Set 6 | kodiak\n",
      "Processing Record 16 of Set 6 | kavaratti\n",
      "Processing Record 17 of Set 6 | vila\n",
      "Processing Record 18 of Set 6 | aitape\n",
      "Processing Record 19 of Set 6 | novikovo\n",
      "Processing Record 20 of Set 6 | kadykchan\n",
      "Processing Record 21 of Set 6 | umzimvubu\n",
      "Processing Record 22 of Set 6 | mocuba\n",
      "Processing Record 23 of Set 6 | caravelas\n",
      "Processing Record 24 of Set 6 | bojnurd\n",
      "Processing Record 25 of Set 6 | choix\n",
      "Processing Record 26 of Set 6 | naze\n",
      "Processing Record 27 of Set 6 | halifax\n",
      "Processing Record 28 of Set 6 | parabel\n",
      "Processing Record 29 of Set 6 | mitzic\n",
      "Processing Record 30 of Set 6 | rio grande\n",
      "Processing Record 31 of Set 6 | nabire\n",
      "Processing Record 32 of Set 6 | port macquarie\n",
      "Processing Record 33 of Set 6 | kaitangata\n",
      "Processing Record 34 of Set 6 | portree\n",
      "Processing Record 35 of Set 6 | svobodnyy\n",
      "Processing Record 36 of Set 6 | kamina\n",
      "Processing Record 37 of Set 6 | mayo\n",
      "Processing Record 38 of Set 6 | bengkulu\n",
      "Processing Record 39 of Set 6 | wajid\n",
      "Processing Record 40 of Set 6 | yerbogachen\n",
      "Processing Record 41 of Set 6 | boquete\n",
      "Processing Record 42 of Set 6 | valdivia\n",
      "Processing Record 43 of Set 6 | shirokiy\n",
      "Processing Record 44 of Set 6 | mastic beach\n",
      "Processing Record 45 of Set 6 | krasnoarmeysk\n",
      "Processing Record 46 of Set 6 | statesville\n",
      "Processing Record 47 of Set 6 | mason city\n",
      "Processing Record 48 of Set 6 | shu\n",
      "Processing Record 49 of Set 6 | yellowknife\n",
      "Processing Record 50 of Set 6 | saint george\n",
      "Processing Record 1 of Set 7 | yumen\n",
      "Processing Record 2 of Set 7 | cam ranh\n",
      "Processing Record 3 of Set 7 | voh\n",
      "Processing Record 4 of Set 7 | turukhansk\n",
      "Processing Record 5 of Set 7 | aden\n",
      "Processing Record 6 of Set 7 | bolungarvik\n",
      "Processing Record 7 of Set 7 | tazovskiy\n",
      "Processing Record 8 of Set 7 | najran\n",
      "Processing Record 9 of Set 7 | bereda\n",
      "Processing Record 10 of Set 7 | agirish\n",
      "Processing Record 11 of Set 7 | kudahuvadhoo\n",
      "Processing Record 12 of Set 7 | stanghelle\n",
      "Processing Record 13 of Set 7 | maxixe\n",
      "Processing Record 14 of Set 7 | xiaoweizhai\n",
      "Processing Record 15 of Set 7 | vilhena\n",
      "Processing Record 16 of Set 7 | baruun-urt\n",
      "Processing Record 17 of Set 7 | butterworth\n",
      "Processing Record 18 of Set 7 | tombouctou\n",
      "Processing Record 19 of Set 7 | manyana\n",
      "Processing Record 20 of Set 7 | uglovskoye\n",
      "Processing Record 21 of Set 7 | ploemeur\n",
      "Processing Record 22 of Set 7 | pisco\n",
      "Processing Record 23 of Set 7 | naftah\n",
      "Processing Record 24 of Set 7 | vung tau\n",
      "Processing Record 25 of Set 7 | eureka\n",
      "Processing Record 26 of Set 7 | lagoa\n",
      "Processing Record 27 of Set 7 | puerto colombia\n",
      "Processing Record 28 of Set 7 | havoysund\n",
      "Processing Record 29 of Set 7 | anadyr\n",
      "Processing Record 30 of Set 7 | thompson\n",
      "Processing Record 31 of Set 7 | serabu\n",
      "Processing Record 32 of Set 7 | qom\n",
      "Processing Record 33 of Set 7 | laguna\n",
      "Processing Record 34 of Set 7 | derzhavinsk\n",
      "Processing Record 35 of Set 7 | santa isabel do rio negro\n",
      "Processing Record 36 of Set 7 | riberalta\n",
      "Processing Record 37 of Set 7 | la ronge\n",
      "Processing Record 38 of Set 7 | ca mau\n",
      "Processing Record 39 of Set 7 | palmeiras de goias\n",
      "Processing Record 40 of Set 7 | dingle\n",
      "Processing Record 41 of Set 7 | dhidhdhoo\n",
      "Processing Record 42 of Set 7 | addi ugri\n",
      "Processing Record 43 of Set 7 | jalu\n",
      "Processing Record 44 of Set 7 | naryan-mar\n",
      "Processing Record 45 of Set 7 | hare bay\n",
      "Processing Record 46 of Set 7 | la grande\n",
      "Processing Record 47 of Set 7 | rungata\n",
      "Processing Record 48 of Set 7 | beloha\n",
      "Processing Record 49 of Set 7 | hauterive\n",
      "Processing Record 50 of Set 7 | uroteppa\n",
      "Processing Record 1 of Set 8 | san vicente\n",
      "Processing Record 2 of Set 8 | guerrero negro\n",
      "Processing Record 3 of Set 8 | burnie\n",
      "Processing Record 4 of Set 8 | papasquiaro\n",
      "Processing Record 5 of Set 8 | kirakira\n",
      "Processing Record 6 of Set 8 | umm lajj\n",
      "Processing Record 7 of Set 8 | tsumeb\n",
      "Processing Record 8 of Set 8 | ambilobe\n",
      "Processing Record 9 of Set 8 | whitehorse\n",
      "Processing Record 10 of Set 8 | aguada de pasajeros\n",
      "Processing Record 11 of Set 8 | dinan\n",
      "Processing Record 12 of Set 8 | krasnyy chikoy\n",
      "Processing Record 13 of Set 8 | port blair\n",
      "Processing Record 14 of Set 8 | nizhneyansk\n",
      "Processing Record 15 of Set 8 | huarmey\n",
      "Processing Record 16 of Set 8 | ostrovnoy\n",
      "Processing Record 17 of Set 8 | rawlins\n",
      "Processing Record 18 of Set 8 | pilna\n",
      "Processing Record 19 of Set 8 | nikolayevsk-na-amure\n",
      "Processing Record 20 of Set 8 | paradwip\n",
      "Processing Record 21 of Set 8 | qandala\n",
      "Processing Record 22 of Set 8 | mercedes\n",
      "Processing Record 23 of Set 8 | platanos\n",
      "Processing Record 24 of Set 8 | udankudi\n",
      "Processing Record 25 of Set 8 | asau\n",
      "Processing Record 26 of Set 8 | cayenne\n",
      "Processing Record 27 of Set 8 | joshimath\n",
      "Processing Record 28 of Set 8 | vanavara\n",
      "Processing Record 29 of Set 8 | banda aceh\n",
      "Processing Record 30 of Set 8 | yeppoon\n",
      "Processing Record 31 of Set 8 | deogarh\n",
      "Processing Record 32 of Set 8 | pangnirtung\n",
      "Processing Record 33 of Set 8 | tezu\n",
      "Processing Record 34 of Set 8 | jacqueville\n",
      "Processing Record 35 of Set 8 | constantine\n",
      "Processing Record 36 of Set 8 | pilar\n",
      "Processing Record 37 of Set 8 | vyazemskiy\n",
      "Processing Record 38 of Set 8 | saint-remi\n",
      "Processing Record 39 of Set 8 | arkhangelsk\n",
      "Processing Record 40 of Set 8 | carberry\n",
      "Processing Record 41 of Set 8 | lavrentiya\n",
      "Processing Record 42 of Set 8 | erdenet\n",
      "Processing Record 43 of Set 8 | santa vitoria\n",
      "Processing Record 44 of Set 8 | kiunga\n",
      "Processing Record 45 of Set 8 | grand gaube\n",
      "Processing Record 46 of Set 8 | mahibadhoo\n",
      "Processing Record 47 of Set 8 | araouane\n",
      "Processing Record 48 of Set 8 | half moon bay\n",
      "Processing Record 49 of Set 8 | roald\n",
      "Processing Record 50 of Set 8 | san carlos de bariloche\n",
      "Processing Record 1 of Set 9 | port elizabeth\n",
      "Processing Record 2 of Set 9 | charters towers\n",
      "Processing Record 3 of Set 9 | bull savanna\n",
      "Processing Record 4 of Set 9 | les cayes\n",
      "Processing Record 5 of Set 9 | severnyy\n",
      "Processing Record 6 of Set 9 | grand river south east\n",
      "Processing Record 7 of Set 9 | delmiro gouveia\n",
      "Processing Record 8 of Set 9 | nagorsk\n",
      "Processing Record 9 of Set 9 | college\n",
      "Processing Record 10 of Set 9 | geraldton\n",
      "Processing Record 11 of Set 9 | bitung\n",
      "Processing Record 12 of Set 9 | chapais\n",
      "Processing Record 13 of Set 9 | autazes\n",
      "Processing Record 14 of Set 9 | sao felix do xingu\n",
      "Processing Record 15 of Set 9 | mogwase\n",
      "Processing Record 16 of Set 9 | ucluelet\n",
      "Processing Record 17 of Set 9 | yatou\n",
      "Processing Record 18 of Set 9 | hervey bay\n",
      "Processing Record 19 of Set 9 | vestmannaeyjar\n",
      "Processing Record 20 of Set 9 | ajdabiya\n",
      "Processing Record 21 of Set 9 | totma\n",
      "Processing Record 22 of Set 9 | bandarbeyla\n",
      "Processing Record 23 of Set 9 | greenwood\n",
      "Processing Record 24 of Set 9 | kondopoga\n",
      "Processing Record 25 of Set 9 | sale\n",
      "Processing Record 26 of Set 9 | haicheng\n",
      "Processing Record 27 of Set 9 | makakilo city\n",
      "Processing Record 28 of Set 9 | kolda\n",
      "Processing Record 29 of Set 9 | victoria point\n",
      "Processing Record 30 of Set 9 | broken hill\n",
      "Processing Record 31 of Set 9 | bawku\n",
      "Processing Record 32 of Set 9 | port pirie\n",
      "Processing Record 33 of Set 9 | kourou\n",
      "Processing Record 34 of Set 9 | johvi\n",
      "Processing Record 35 of Set 9 | yar-sale\n",
      "Processing Record 36 of Set 9 | nchelenge\n",
      "Processing Record 37 of Set 9 | sembakung\n",
      "Processing Record 38 of Set 9 | coquimbo\n",
      "Processing Record 39 of Set 9 | bosaso\n",
      "Processing Record 40 of Set 9 | solnechnyy\n",
      "Processing Record 41 of Set 9 | salinopolis\n",
      "Processing Record 42 of Set 9 | lluta\n",
      "Processing Record 43 of Set 9 | huntsville\n",
      "Processing Record 44 of Set 9 | bathsheba\n",
      "Processing Record 45 of Set 9 | namatanai\n",
      "Processing Record 46 of Set 9 | souris\n",
      "Processing Record 47 of Set 9 | coahuayana\n",
      "Processing Record 48 of Set 9 | barretos\n",
      "Processing Record 49 of Set 9 | kuandian\n",
      "Processing Record 50 of Set 9 | portland\n",
      "Processing Record 1 of Set 10 | tiksi\n",
      "Processing Record 2 of Set 10 | roblin\n",
      "Processing Record 3 of Set 10 | sovetskiy\n",
      "Processing Record 4 of Set 10 | collie\n",
      "Processing Record 5 of Set 10 | orcopampa\n",
      "Processing Record 6 of Set 10 | nizhnevartovsk\n",
      "Processing Record 7 of Set 10 | teya\n",
      "Processing Record 8 of Set 10 | sawakin\n",
      "Processing Record 9 of Set 10 | fairbanks\n",
      "Processing Record 10 of Set 10 | tsienyane\n",
      "Processing Record 11 of Set 10 | alta floresta\n",
      "Processing Record 12 of Set 10 | snyder\n",
      "Processing Record 13 of Set 10 | trapani\n",
      "Processing Record 14 of Set 10 | cockburn town\n",
      "Processing Record 15 of Set 10 | marsa matruh\n",
      "Processing Record 16 of Set 10 | cidreira\n",
      "Processing Record 17 of Set 10 | yerofey pavlovich\n",
      "Processing Record 18 of Set 10 | sitka\n",
      "Processing Record 19 of Set 10 | karaton\n",
      "Processing Record 20 of Set 10 | tura\n",
      "Processing Record 21 of Set 10 | yenagoa\n",
      "Processing Record 22 of Set 10 | ouegoa\n",
      "Processing Record 23 of Set 10 | shanghai\n",
      "Processing Record 24 of Set 10 | norman wells\n",
      "Processing Record 25 of Set 10 | vaitape\n",
      "Processing Record 26 of Set 10 | srednekolymsk\n",
      "Processing Record 27 of Set 10 | lompoc\n",
      "Processing Record 28 of Set 10 | uniao\n",
      "Processing Record 29 of Set 10 | gadwal\n",
      "Processing Record 30 of Set 10 | hambantota\n",
      "Processing Record 31 of Set 10 | kandrian\n",
      "Processing Record 32 of Set 10 | mahina\n",
      "Processing Record 33 of Set 10 | saint-georges\n",
      "Processing Record 34 of Set 10 | doha\n",
      "Processing Record 35 of Set 10 | tongliao\n",
      "Processing Record 36 of Set 10 | maragogi\n",
      "Processing Record 37 of Set 10 | soe\n",
      "Processing Record 38 of Set 10 | quatre cocos\n",
      "Processing Record 39 of Set 10 | balabac\n",
      "Processing Record 40 of Set 10 | peniche\n",
      "Processing Record 41 of Set 10 | sinjar\n",
      "Processing Record 42 of Set 10 | wanaka\n",
      "Processing Record 43 of Set 10 | bograd\n",
      "Processing Record 44 of Set 10 | kloulklubed\n",
      "Processing Record 45 of Set 10 | leeton\n",
      "Processing Record 46 of Set 10 | llanes\n",
      "Processing Record 47 of Set 10 | mareeba\n",
      "Processing Record 48 of Set 10 | kununurra\n",
      "Processing Record 49 of Set 10 | teknaf\n",
      "Processing Record 50 of Set 10 | kaltan\n",
      "Processing Record 1 of Set 11 | port hawkesbury\n",
      "Processing Record 2 of Set 11 | colares\n",
      "Processing Record 3 of Set 11 | afmadu\n",
      "Processing Record 4 of Set 11 | alofi\n",
      "Processing Record 5 of Set 11 | codrington\n",
      "Processing Record 6 of Set 11 | shingu\n",
      "Processing Record 7 of Set 11 | balaipungut\n",
      "Processing Record 8 of Set 11 | tomatlan\n",
      "Processing Record 9 of Set 11 | labuhan\n",
      "Processing Record 10 of Set 11 | tabou\n",
      "Processing Record 11 of Set 11 | ixtapa\n",
      "Processing Record 12 of Set 11 | berbera\n",
      "Processing Record 13 of Set 11 | jiddah\n",
      "Processing Record 14 of Set 11 | moranbah\n",
      "Processing Record 15 of Set 11 | lunca corbului\n",
      "Processing Record 16 of Set 11 | maniitsoq\n",
      "Processing Record 17 of Set 11 | ygatimi\n",
      "Processing Record 18 of Set 11 | hihifo\n",
      "Processing Record 19 of Set 11 | saint-pierre\n",
      "Processing Record 20 of Set 11 | kashi\n",
      "Processing Record 21 of Set 11 | kampene\n",
      "Processing Record 22 of Set 11 | gorgan\n",
      "Processing Record 23 of Set 11 | ingenbohl\n",
      "Processing Record 24 of Set 11 | mount gambier\n",
      "Processing Record 25 of Set 11 | denpasar\n",
      "Processing Record 26 of Set 11 | tilsonburg\n",
      "Processing Record 27 of Set 11 | kommunar\n",
      "Processing Record 28 of Set 11 | belomorsk\n",
      "Processing Record 29 of Set 11 | iquitos\n",
      "Processing Record 30 of Set 11 | oistins\n",
      "Processing Record 31 of Set 11 | ruatoria\n",
      "Processing Record 32 of Set 11 | krutikha\n",
      "Processing Record 33 of Set 11 | energetik\n",
      "Processing Record 34 of Set 11 | kharitonovo\n",
      "Processing Record 35 of Set 11 | porto uniao\n",
      "Processing Record 36 of Set 11 | aklavik\n",
      "Processing Record 37 of Set 11 | mangochi\n",
      "Processing Record 38 of Set 11 | aquiraz\n",
      "Processing Record 39 of Set 11 | kitui\n",
      "Processing Record 40 of Set 11 | todos santos\n",
      "Processing Record 41 of Set 11 | darhan\n",
      "Processing Record 42 of Set 11 | husavik\n",
      "Processing Record 43 of Set 11 | kapit\n",
      "Processing Record 44 of Set 11 | alice springs\n",
      "Processing Record 45 of Set 11 | ust-kamchatsk\n",
      "Processing Record 46 of Set 11 | pedra azul\n",
      "Processing Record 47 of Set 11 | pinsk\n",
      "Processing Record 48 of Set 11 | ouesso\n",
      "Processing Record 49 of Set 11 | asfi\n",
      "Processing Record 50 of Set 11 | balkanabat\n",
      "Processing Record 1 of Set 12 | acapulco\n",
      "Processing Record 2 of Set 12 | angren\n",
      "Processing Record 3 of Set 12 | nikolsk\n",
      "Processing Record 4 of Set 12 | pavlodar\n",
      "Processing Record 5 of Set 12 | oudtshoorn\n",
      "Processing Record 6 of Set 12 | ust-ilimsk\n",
      "Processing Record 7 of Set 12 | kozhva\n",
      "Processing Record 8 of Set 12 | bur gabo\n",
      "Processing Record 9 of Set 12 | flinders\n",
      "Processing Record 10 of Set 12 | damietta\n",
      "Processing Record 11 of Set 12 | te anau\n",
      "Processing Record 12 of Set 12 | hailey\n",
      "Processing Record 13 of Set 12 | biak\n",
      "Processing Record 14 of Set 12 | marawi\n",
      "Processing Record 15 of Set 12 | sao joao da barra\n",
      "Processing Record 16 of Set 12 | marsaxlokk\n",
      "Processing Record 17 of Set 12 | ransang\n",
      "Processing Record 18 of Set 12 | tres arroyos\n",
      "Processing Record 19 of Set 12 | potosi\n",
      "Processing Record 20 of Set 12 | ratnagiri\n",
      "Processing Record 21 of Set 12 | stokmarknes\n",
      "Processing Record 22 of Set 12 | shar\n",
      "Processing Record 23 of Set 12 | grand-santi\n",
      "Processing Record 24 of Set 12 | arandis\n",
      "Processing Record 25 of Set 12 | igarka\n",
      "Processing Record 26 of Set 12 | raleigh\n",
      "Processing Record 27 of Set 12 | burgeo\n",
      "Processing Record 28 of Set 12 | matara\n",
      "Processing Record 29 of Set 12 | aktash\n",
      "Processing Record 30 of Set 12 | udachnyy\n",
      "Processing Record 31 of Set 12 | port lincoln\n",
      "Processing Record 32 of Set 12 | galle\n",
      "Processing Record 33 of Set 12 | camacha\n",
      "Processing Record 34 of Set 12 | nizwa\n",
      "Processing Record 35 of Set 12 | castelnau-le-lez\n",
      "Processing Record 36 of Set 12 | ensenada\n",
      "Processing Record 37 of Set 12 | weston\n",
      "Processing Record 38 of Set 12 | goderich\n",
      "Processing Record 39 of Set 12 | manokwari\n",
      "Processing Record 40 of Set 12 | margate\n",
      "Processing Record 41 of Set 12 | luba\n",
      "Processing Record 42 of Set 12 | katra\n",
      "Processing Record 43 of Set 12 | sault sainte marie\n",
      "Processing Record 44 of Set 12 | mikkeli\n",
      "Processing Record 45 of Set 12 | buala\n",
      "Processing Record 46 of Set 12 | kathu\n",
      "Processing Record 47 of Set 12 | pontes e lacerda\n",
      "Processing Record 48 of Set 12 | egvekinot\n"
     ]
    },
    {
     "name": "stdout",
     "output_type": "stream",
     "text": [
      "-----------------------------\n",
      "Data Retrieval Complete      \n",
      "-----------------------------\n"
     ]
    }
   ],
   "source": [
    "# Create an empty list to hold the weather data.\n",
    "city_data = []\n",
    "# Print the beginning of the logging.\n",
    "print(\"Beginning Data Retrieval     \")\n",
    "print(\"-----------------------------\")\n",
    "\n",
    "# Create counters.\n",
    "record_count = 1\n",
    "set_count = 1\n",
    "\n",
    "# Loop through all the cities in the list.\n",
    "for i, city in enumerate(cities):\n",
    "\n",
    "    # Group cities in sets of 50 for logging purposes.\n",
    "    if (i % 50 == 0 and i >= 50):\n",
    "        set_count += 1\n",
    "        record_count = 1\n",
    "    # Create endpoint URL with each city.\n",
    "    city_url = url + \"&q=\" + city.replace(\" \",\"+\")\n",
    "\n",
    "    # Log the URL, record, and set numbers and the city.\n",
    "    print(f\"Processing Record {record_count} of Set {set_count} | {city}\")\n",
    "    # Add 1 to the record count.\n",
    "    record_count += 1\n",
    "\n",
    "# Run an API request for each of the cities.\n",
    "try:\n",
    "        # Parse the JSON and retrieve data.\n",
    "        city_weather = requests.get(city_url).json()\n",
    "        # Parse out the needed data.\n",
    "        city_lat = city_weather[\"coord\"][\"lat\"]\n",
    "        city_lng = city_weather[\"coord\"][\"lon\"]\n",
    "        city_max_temp = city_weather[\"main\"][\"temp_max\"]\n",
    "        city_humidity = city_weather[\"main\"][\"humidity\"]\n",
    "        city_clouds = city_weather[\"clouds\"][\"all\"]\n",
    "        city_wind = city_weather[\"wind\"][\"speed\"]\n",
    "        city_country = city_weather[\"sys\"][\"country\"]\n",
    "        # Convert the date to ISO standard.\n",
    "        city_date = datetime.utcfromtimestamp(city_weather[\"dt\"]).strftime('%Y-%m-%d %H:%M:%S')\n",
    "        # Append the city information into city_data list.\n",
    "        city_data.append({\"City\": city.title(),\n",
    "                          \"Lat\": city_lat,\n",
    "                          \"Lng\": city_lng,\n",
    "                          \"Max Temp\": city_max_temp,\n",
    "                          \"Humidity\": city_humidity,\n",
    "                          \"Cloudiness\": city_clouds,\n",
    "                          \"Wind Speed\": city_wind,\n",
    "                          \"Country\": city_country,\n",
    "                          \"Date\": city_date})\n",
    "\n",
    "# If an error is experienced, skip the city.\n",
    "except:\n",
    "        print(\"City not found. Skipping...\")\n",
    "        pass\n",
    "\n",
    "# Indicate that Data Loading is complete.\n",
    "print(\"-----------------------------\")\n",
    "print(\"Data Retrieval Complete      \")\n",
    "print(\"-----------------------------\")"
   ]
  },
  {
   "cell_type": "code",
   "execution_count": 40,
   "metadata": {},
   "outputs": [
    {
     "data": {
      "text/html": [
       "<div>\n",
       "<style scoped>\n",
       "    .dataframe tbody tr th:only-of-type {\n",
       "        vertical-align: middle;\n",
       "    }\n",
       "\n",
       "    .dataframe tbody tr th {\n",
       "        vertical-align: top;\n",
       "    }\n",
       "\n",
       "    .dataframe thead th {\n",
       "        text-align: right;\n",
       "    }\n",
       "</style>\n",
       "<table border=\"1\" class=\"dataframe\">\n",
       "  <thead>\n",
       "    <tr style=\"text-align: right;\">\n",
       "      <th></th>\n",
       "      <th>City</th>\n",
       "      <th>Lat</th>\n",
       "      <th>Lng</th>\n",
       "      <th>Max Temp</th>\n",
       "      <th>Humidity</th>\n",
       "      <th>Cloudiness</th>\n",
       "      <th>Wind Speed</th>\n",
       "      <th>Country</th>\n",
       "      <th>Date</th>\n",
       "    </tr>\n",
       "  </thead>\n",
       "  <tbody>\n",
       "    <tr>\n",
       "      <th>0</th>\n",
       "      <td>Egvekinot</td>\n",
       "      <td>66.32</td>\n",
       "      <td>-179.17</td>\n",
       "      <td>49.82</td>\n",
       "      <td>63</td>\n",
       "      <td>95</td>\n",
       "      <td>2.84</td>\n",
       "      <td>RU</td>\n",
       "      <td>2020-08-02 03:52:33</td>\n",
       "    </tr>\n",
       "  </tbody>\n",
       "</table>\n",
       "</div>"
      ],
      "text/plain": [
       "        City    Lat     Lng  Max Temp  Humidity  Cloudiness  Wind Speed  \\\n",
       "0  Egvekinot  66.32 -179.17     49.82        63          95        2.84   \n",
       "\n",
       "  Country                 Date  \n",
       "0      RU  2020-08-02 03:52:33  "
      ]
     },
     "execution_count": 40,
     "metadata": {},
     "output_type": "execute_result"
    }
   ],
   "source": [
    "# Convert the array of dictionaries to a Pandas DataFrame.\n",
    "city_data_df = pd.DataFrame(city_data)\n",
    "city_data_df.head(10)"
   ]
  },
  {
   "cell_type": "code",
   "execution_count": 41,
   "metadata": {},
   "outputs": [],
   "source": [
    "# Create the output file (CSV).\n",
    "output_data_file = \"weather_data/cities.csv\"\n",
    "# Export the City_Data into a CSV.\n",
    "city_data_df.to_csv(output_data_file, index_label=\"City_ID\")"
   ]
  },
  {
   "cell_type": "code",
   "execution_count": 42,
   "metadata": {},
   "outputs": [],
   "source": [
    "# Extract relevant fields from the DataFrame for plotting.\n",
    "lats = city_data_df[\"Lat\"]\n",
    "max_temps = city_data_df[\"Max Temp\"]\n",
    "humidity = city_data_df[\"Humidity\"]\n",
    "cloudiness = city_data_df[\"Cloudiness\"]\n",
    "wind_speed = city_data_df[\"Wind Speed\"]"
   ]
  },
  {
   "cell_type": "code",
   "execution_count": 43,
   "metadata": {},
   "outputs": [
    {
     "data": {
      "text/plain": [
       "1596340353.3609416"
      ]
     },
     "execution_count": 43,
     "metadata": {},
     "output_type": "execute_result"
    }
   ],
   "source": [
    "# Import the time module.\n",
    "import time\n",
    "# Get today's date in seconds.\n",
    "today = time.time()\n",
    "today"
   ]
  },
  {
   "cell_type": "code",
   "execution_count": 44,
   "metadata": {},
   "outputs": [
    {
     "data": {
      "image/png": "[encoded data removed]",
      "text/plain": [
       "<Figure size 432x288 with 1 Axes>"
      ]
     },
     "metadata": {
      "needs_background": "light"
     },
     "output_type": "display_data"
    }
   ],
   "source": [
    "# Build the scatter plot for latitude vs. max temperature.\n",
    "plt.scatter(lats,\n",
    "            max_temps,\n",
    "            edgecolor=\"black\", linewidths=1, marker=\"o\",\n",
    "            alpha=0.8, label=\"Cities\")\n",
    "\n",
    "# Incorporate the other graph properties.\n",
    "plt.title(f\"City Latitude vs. Max Temperature \"+ time.strftime(\"%x\"))\n",
    "plt.ylabel(\"Max Temperature (F)\")\n",
    "plt.xlabel(\"Latitude\")\n",
    "plt.grid(True)\n",
    "\n",
    "# Save the figure.\n",
    "plt.savefig(\"weather_data/Fig1.png\")\n",
    "\n",
    "# Show plot.\n",
    "plt.show()"
   ]
  },
  {
   "cell_type": "code",
   "execution_count": null,
   "metadata": {},
   "outputs": [],
   "source": [
    "# Build the scatter plots for latitude vs. humidity.\n",
    "plt.scatter(lats,\n",
    "            humidity,\n",
    "            edgecolor=\"black\", linewidths=1, marker=\"o\",\n",
    "            alpha=0.8, label=\"Cities\")\n",
    "\n",
    "# Incorporate the other graph properties.\n",
    "plt.title(f\"City Latitude vs. Humidity \"+ time.strftime(\"%x\"))\n",
    "plt.ylabel(\"Humidity (%)\")\n",
    "plt.xlabel(\"Latitude\")\n",
    "plt.grid(True)\n",
    "# Save the figure.\n",
    "plt.savefig(\"weather_data/Fig2.png\")\n",
    "# Show plot.\n",
    "plt.show()"
   ]
  },
  {
   "cell_type": "code",
   "execution_count": null,
   "metadata": {},
   "outputs": [],
   "source": [
    "# Build the scatter plots for latitude vs. cloudiness.\n",
    "plt.scatter(lats,\n",
    "            cloudiness,\n",
    "            edgecolor=\"black\", linewidths=1, marker=\"o\",\n",
    "            alpha=0.8, label=\"Cities\")\n",
    "\n",
    "# Incorporate the other graph properties.\n",
    "plt.title(f\"City Latitude vs. Cloudiness (%) \"+ time.strftime(\"%x\"))\n",
    "plt.ylabel(\"Cloudiness (%)\")\n",
    "plt.xlabel(\"Latitude\")\n",
    "plt.grid(True)\n",
    "# Save the figure.\n",
    "plt.savefig(\"weather_data/Fig3.png\")\n",
    "# Show plot.\n",
    "plt.show()"
   ]
  },
  {
   "cell_type": "code",
   "execution_count": null,
   "metadata": {},
   "outputs": [],
   "source": [
    "# Build the scatter plots for latitude vs. wind speed.\n",
    "plt.scatter(lats,\n",
    "            wind_speed,\n",
    "            edgecolor=\"black\", linewidths=1, marker=\"o\",\n",
    "            alpha=0.8, label=\"Cities\")\n",
    "\n",
    "# Incorporate the other graph properties.\n",
    "plt.title(f\"City Latitude vs. Wind Speed \"+ time.strftime(\"%x\"))\n",
    "plt.ylabel(\"Wind Speed (mph)\")\n",
    "plt.xlabel(\"Latitude\")\n",
    "plt.grid(True)\n",
    "# Save the figure.\n",
    "plt.savefig(\"weather_data/Fig4.png\")\n",
    "# Show plot.\n",
    "plt.show()"
   ]
  },
  {
   "cell_type": "code",
   "execution_count": null,
   "metadata": {},
   "outputs": [],
   "source": []
  }
 ],
 "metadata": {
  "kernelspec": {
   "display_name": "Python 3",
   "language": "python",
   "name": "python3"
  },
  "language_info": {
   "codemirror_mode": {
    "name": "ipython",
    "version": 3
   },
   "file_extension": ".py",
   "mimetype": "text/x-python",
   "name": "python",
   "nbconvert_exporter": "python",
   "pygments_lexer": "ipython3",
   "version": "3.7.7"
  }
 },
 "nbformat": 4,
 "nbformat_minor": 4
}
